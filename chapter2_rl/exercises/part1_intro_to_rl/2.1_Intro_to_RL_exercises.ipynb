{
  "cells": [
    {
      "cell_type": "markdown",
      "metadata": {
        "id": "view-in-github",
        "colab_type": "text"
      },
      "source": [
        "<a href=\"https://colab.research.google.com/github/jacopo-minniti/A-Prometheus/blob/main/chapter2_rl/exercises/part1_intro_to_rl/2.1_Intro_to_RL_exercises.ipynb\" target=\"_parent\"><img src=\"https://colab.research.google.com/assets/colab-badge.svg\" alt=\"Open In Colab\"/></a>"
      ]
    },
    {
      "cell_type": "markdown",
      "metadata": {
        "id": "bXGk2tlpyti7"
      },
      "source": [
        "# [2.1] - Intro to RL (exercises)\n",
        "\n",
        "> **ARENA [Streamlit Page](https://arena-chapter2-rl.streamlit.app/01_[2.1]_Intro_to_RL)**\n",
        ">\n",
        "> **Colab: [exercises](https://colab.research.google.com/github/callummcdougall/ARENA_3.0/blob/main/chapter2_rl/exercises/part1_intro_to_rl/2.1_Intro_to_RL_exercises.ipynb?t=20250206) | [solutions](https://colab.research.google.com/github/callummcdougall/ARENA_3.0/blob/main/chapter2_rl/exercises/part1_intro_to_rl/2.1_Intro_to_RL_solutions.ipynb?t=20250206)**\n",
        "\n",
        "Please send any problems / bugs on the `#errata` channel in the [Slack group](https://join.slack.com/t/arena-uk/shared_invite/zt-2zick19fl-6GY1yoGaoUozyM3wObwmnQ), and ask any questions on the dedicated channels for this chapter of material.\n",
        "\n",
        "You can collapse each section so only the headers are visible, by clicking the arrow symbol on the left hand side of the markdown header cells.\n",
        "\n",
        "Links to all other chapters: [(0) Fundamentals](https://arena-chapter0-fundamentals.streamlit.app/), [(1) Transformer Interpretability](https://arena-chapter1-transformer-interp.streamlit.app/), [(2) RL](https://arena-chapter2-rl.streamlit.app/)."
      ]
    },
    {
      "cell_type": "markdown",
      "metadata": {
        "id": "qlaAm4Moyti8"
      },
      "source": [
        "<img src=\"https://raw.githubusercontent.com/info-arena/ARENA_img/main/misc/headers/header-21.png\" width=\"350\">"
      ]
    },
    {
      "cell_type": "markdown",
      "metadata": {
        "id": "mehWAyWZyti9"
      },
      "source": [
        "# Introduction"
      ]
    },
    {
      "cell_type": "markdown",
      "metadata": {
        "id": "n9OdR5l1yti9"
      },
      "source": [
        "This section is designed to bring you up to speed with the basics of reinforcement learning. Before we cover the big topics like PPO and RLHF, we need to build a strong foundation by understanding what RL is and what kinds of problems it was designed to solve.\n",
        "\n",
        "In today's exercises, we'll make two important assumptions about our environment: the space of possible actions and states is discrete, and the entire environment is obvservable (in other words, the probability distribution of the outcome of every possible action at every possible state is known). As we move on in the chapter, we'll relax these assumptions, and so we'll need to start using more complex methods.\n",
        "\n",
        "> Note - today's material is unusually short, in contrast with tomorrow's which is unusually long. If you finish today's material early, you may want to move onto the first half of tomorrow's exercises."
      ]
    },
    {
      "cell_type": "markdown",
      "metadata": {
        "id": "epXwGFy6yti9"
      },
      "source": [
        "## Content & Learning Objectives\n",
        "\n",
        "### 1️⃣ Multi-Armed Bandit\n",
        "\n",
        "In Part 1 we'll study the multi-armed bandit problem, which is simple yet captures introduces many of the difficulties in RL. Many practical problems can be posed in terms of generalizations of the multi-armed bandit. For example, the Hyperband algorithm for hyperparameter optimization is based on the multi-armed bandit with an infinite number of arms.\n",
        "\n",
        "> ##### Learning Objectives\n",
        "> * Understand the anatomy of a `gym.Env`, so that you feel comfortable using them and writing your own\n",
        "> * Practice RL in the tabular (lookup table) setting before adding the complications of neural networks\n",
        "> * Understand the difficulty of optimal exploration\n",
        "> * Understand that performance is extremely variable in RL, and how to measure performance\n",
        "\n",
        "### 2️⃣ Tabular RL & Policy Improvement\n",
        "\n",
        "> ##### Learning Objectives\n",
        "> * Understand the tabular RL problem, for known environments.\n",
        "> * Learn how to numerically evaluate a given policy (via an iterative update formula).\n",
        "> *Understand the policy improvement theorem, and understand what circumstances can allow us to directly solve for the optimal policy."
      ]
    },
    {
      "cell_type": "markdown",
      "metadata": {
        "id": "b4v05BdXyti9"
      },
      "source": [
        "## Setup code"
      ]
    },
    {
      "cell_type": "code",
      "execution_count": 1,
      "metadata": {
        "id": "xZJ-_F8Byti9",
        "outputId": "5cf246bf-0861-4968-99f9-287117256716",
        "colab": {
          "base_uri": "https://localhost:8080/"
        }
      },
      "outputs": [
        {
          "output_type": "stream",
          "name": "stdout",
          "text": [
            "--2025-02-15 22:28:22--  https://github.com/callummcdougall/ARENA_3.0/archive/refs/heads/main.zip\n",
            "Resolving github.com (github.com)... 140.82.112.4\n",
            "Connecting to github.com (github.com)|140.82.112.4|:443... connected.\n",
            "HTTP request sent, awaiting response... 302 Found\n",
            "Location: https://codeload.github.com/callummcdougall/ARENA_3.0/zip/refs/heads/main [following]\n",
            "--2025-02-15 22:28:23--  https://codeload.github.com/callummcdougall/ARENA_3.0/zip/refs/heads/main\n",
            "Resolving codeload.github.com (codeload.github.com)... 140.82.114.10\n",
            "Connecting to codeload.github.com (codeload.github.com)|140.82.114.10|:443... connected.\n",
            "HTTP request sent, awaiting response... 200 OK\n",
            "Length: unspecified [application/zip]\n",
            "Saving to: ‘/content/main.zip’\n",
            "\n",
            "main.zip                [          <=>       ]  20.96M  8.68MB/s    in 2.4s    \n",
            "\n",
            "2025-02-15 22:28:25 (8.68 MB/s) - ‘/content/main.zip’ saved [21979481]\n",
            "\n",
            "Archive:  /content/main.zip\n",
            "6c525545b3e32d9c7c7adf1264c90e9a00fbe32f\n",
            "   creating: /content/ARENA_3.0-main/chapter2_rl/exercises/\n",
            "   creating: /content/ARENA_3.0-main/chapter2_rl/exercises/part1_intro_to_rl/\n",
            "  inflating: /content/ARENA_3.0-main/chapter2_rl/exercises/part1_intro_to_rl/2.1_Intro_to_RL_exercises.ipynb  \n",
            "  inflating: /content/ARENA_3.0-main/chapter2_rl/exercises/part1_intro_to_rl/2.1_Intro_to_RL_solutions.ipynb  \n",
            "  inflating: /content/ARENA_3.0-main/chapter2_rl/exercises/part1_intro_to_rl/solutions.py  \n",
            "  inflating: /content/ARENA_3.0-main/chapter2_rl/exercises/part1_intro_to_rl/tests.py  \n",
            "  inflating: /content/ARENA_3.0-main/chapter2_rl/exercises/part1_intro_to_rl/utils.py  \n",
            "   creating: /content/ARENA_3.0-main/chapter2_rl/exercises/part2_q_learning_and_dqn/\n",
            "  inflating: /content/ARENA_3.0-main/chapter2_rl/exercises/part2_q_learning_and_dqn/2.2_Q-Learning_and_DQN_exercises.ipynb  \n",
            "  inflating: /content/ARENA_3.0-main/chapter2_rl/exercises/part2_q_learning_and_dqn/2.2_Q-Learning_and_DQN_solutions.ipynb  \n",
            "  inflating: /content/ARENA_3.0-main/chapter2_rl/exercises/part2_q_learning_and_dqn/solutions.py  \n",
            "  inflating: /content/ARENA_3.0-main/chapter2_rl/exercises/part2_q_learning_and_dqn/tests.py  \n",
            "  inflating: /content/ARENA_3.0-main/chapter2_rl/exercises/part2_q_learning_and_dqn/utils.py  \n",
            "   creating: /content/ARENA_3.0-main/chapter2_rl/exercises/part3_ppo/\n",
            "  inflating: /content/ARENA_3.0-main/chapter2_rl/exercises/part3_ppo/2.3_PPO_exercises.ipynb  \n",
            "  inflating: /content/ARENA_3.0-main/chapter2_rl/exercises/part3_ppo/2.3_PPO_solutions.ipynb  \n",
            "  inflating: /content/ARENA_3.0-main/chapter2_rl/exercises/part3_ppo/atari_wrappers.py  \n",
            "  inflating: /content/ARENA_3.0-main/chapter2_rl/exercises/part3_ppo/play_breakout.py  \n",
            "  inflating: /content/ARENA_3.0-main/chapter2_rl/exercises/part3_ppo/play_mountaincar.py  \n",
            "  inflating: /content/ARENA_3.0-main/chapter2_rl/exercises/part3_ppo/solutions.py  \n",
            "  inflating: /content/ARENA_3.0-main/chapter2_rl/exercises/part3_ppo/tests.py  \n",
            "  inflating: /content/ARENA_3.0-main/chapter2_rl/exercises/part3_ppo/utils.py  \n",
            "   creating: /content/ARENA_3.0-main/chapter2_rl/exercises/part4_rlhf/\n",
            "  inflating: /content/ARENA_3.0-main/chapter2_rl/exercises/part4_rlhf/2.4_RLHF_exercises.ipynb  \n",
            "  inflating: /content/ARENA_3.0-main/chapter2_rl/exercises/part4_rlhf/2.4_RLHF_solutions.ipynb  \n",
            "  inflating: /content/ARENA_3.0-main/chapter2_rl/exercises/part4_rlhf/solutions.py  \n",
            "  inflating: /content/ARENA_3.0-main/chapter2_rl/exercises/part4_rlhf/tests.py  \n",
            "  inflating: /content/ARENA_3.0-main/chapter2_rl/exercises/plotly_utils.py  \n"
          ]
        }
      ],
      "source": [
        "import os\n",
        "import sys\n",
        "from pathlib import Path\n",
        "\n",
        "IN_COLAB = \"google.colab\" in sys.modules\n",
        "\n",
        "chapter = \"chapter2_rl\"\n",
        "repo = \"ARENA_3.0\"\n",
        "branch = \"main\"\n",
        "\n",
        "# Install dependencies\n",
        "try:\n",
        "    import gymnasium\n",
        "except:\n",
        "    %pip install einops gymnasium==0.29.0 jaxtyping\n",
        "\n",
        "# Get root directory, handling 3 different cases: (1) Colab, (2) notebook not in ARENA repo, (3) notebook in ARENA repo\n",
        "root = (\n",
        "    \"/content\"\n",
        "    if IN_COLAB\n",
        "    else \"/root\"\n",
        "    if repo not in os.getcwd()\n",
        "    else str(next(p for p in Path.cwd().parents if p.name == repo))\n",
        ")\n",
        "\n",
        "if Path(root).exists() and not Path(f\"{root}/{chapter}\").exists():\n",
        "    if not IN_COLAB:\n",
        "        !sudo apt-get install unzip\n",
        "        %pip install jupyter ipython --upgrade\n",
        "\n",
        "    if not os.path.exists(f\"{root}/{chapter}\"):\n",
        "        !wget -P {root} https://github.com/callummcdougall/ARENA_3.0/archive/refs/heads/{branch}.zip\n",
        "        !unzip {root}/{branch}.zip '{repo}-{branch}/{chapter}/exercises/*' -d {root}\n",
        "        !mv {root}/{repo}-{branch}/{chapter} {root}/{chapter}\n",
        "        !rm {root}/{branch}.zip\n",
        "        !rmdir {root}/{repo}-{branch}\n",
        "\n",
        "\n",
        "if f\"{root}/{chapter}/exercises\" not in sys.path:\n",
        "    sys.path.append(f\"{root}/{chapter}/exercises\")\n",
        "\n",
        "os.chdir(f\"{root}/{chapter}/exercises\")"
      ]
    },
    {
      "cell_type": "code",
      "execution_count": 2,
      "metadata": {
        "id": "e0LLz8QCyti-"
      },
      "outputs": [],
      "source": [
        "import os\n",
        "import random\n",
        "import sys\n",
        "from pathlib import Path\n",
        "from typing import TypeAlias\n",
        "\n",
        "import einops\n",
        "import gymnasium as gym\n",
        "import matplotlib.pyplot as plt\n",
        "import numpy as np\n",
        "from tqdm import tqdm\n",
        "\n",
        "Arr: TypeAlias = np.ndarray\n",
        "\n",
        "max_episode_steps = 1000\n",
        "N_RUNS = 200\n",
        "\n",
        "# Make sure exercises are in the path\n",
        "chapter = \"chapter2_rl\"\n",
        "section = \"part1_intro_to_rl\"\n",
        "root_dir = next(p for p in Path.cwd().parents if (p / chapter).exists())\n",
        "exercises_dir = root_dir / chapter / \"exercises\"\n",
        "section_dir = exercises_dir / section\n",
        "if str(exercises_dir) not in sys.path:\n",
        "    sys.path.append(str(exercises_dir))\n",
        "\n",
        "import part1_intro_to_rl.tests as tests\n",
        "import part1_intro_to_rl.utils as utils\n",
        "from plotly_utils import imshow"
      ]
    },
    {
      "cell_type": "markdown",
      "metadata": {
        "id": "DfA7oEkdyti-"
      },
      "source": [
        "# 1️⃣ Multi-Armed Bandit\n",
        "\n",
        "> ##### Learning Objectives\n",
        ">\n",
        "> * Practice RL in the tabular (lookup table) setting before adding the complications of neural networks\n",
        "> * Understand the difficulty of optimal exploration\n",
        "> * Understand that performance is extremely variable in RL, and how to measure performance"
      ]
    },
    {
      "cell_type": "markdown",
      "metadata": {
        "id": "vqXzf1nPyti-"
      },
      "source": [
        "## Readings\n",
        "\n",
        "* [Sutton and Barto](https://www.andrew.cmu.edu/course/10-703/textbook/BartoSutton.pdf), Chapter 2 (25 minutes)\n",
        "  - Section 2.1: A k-armed Bandit Problem through to Section 2.7 Upper-Confidence-Bound Action Section\n",
        "  - We won't cover Gradient Bandits. Don't worry about these.\n",
        "  - Don't worry too much about all the math for the moment if you can't follow it. The earlier sections are more important."
      ]
    },
    {
      "cell_type": "markdown",
      "metadata": {
        "id": "xJ5-dFHPyti-"
      },
      "source": [
        "## Intro to OpenAI Gymnasium\n",
        "\n",
        "Today and for the rest of this week, we'll be using `gymnasium` (pinned to version `0.29.0`), an actively maintained fork of OpenAI's no longer maintained `gym` library. This provides a uniform interface to many different RL environments including Atari games. The original `gym` was released in 2016 and details of the API have changed significantly over the years. If you're looking for source code, make sure you visit [https://github.com/Farama-Foundation/Gymnasium/tree/v0.29.0](https://github.com/Farama-Foundation/Gymnasium/tree/v0.29.0) to get the version that corresponds to the code we're using.\n",
        "\n",
        "<details>\n",
        "<summary>Note - <code>gymnasium</code> vs <code>gym</code></summary>\n",
        "\n",
        "`gymnasium` is the new standard for RL environments, and we'll be using it for the rest of this chapter. The rest of the material will just discuss `gymnasium` directly, but we've included here a list of the important differences between `gym==0.23.1` (the version previously used in the ARENA exercises) and `gymnasium==0.29.0`, just in case you want to transfer your old code over (full details can be found [here](https://gymnasium.farama.org/introduction/migration_guide/)). There were also some significant changes made between gymnasium versions `0.29.0` and the current `1.0.0`, but we aren't working with these because they don't offer any major benefits for our purposes (and in particular they handle things like terminal observations and video recording in a pretty annoying way).\n",
        "\n",
        "**5 objects returned in `env.step`, not 4**. In version `0.23.1` of the original gym library, the `env.step` method returned 4 objects: `observation, reward, done, info`. Implicitly, `done` was actually defined as `terminated or truncated`, where `truncated` is true if the episode has timed out and `terminated` is true if the episode ends for non-time related reasons (e.g. the agent has fallen off a cliff). In `gymnasium` (or more recent versions of `gym`), we split this into 2 variables, i.e. `env.step` returns the 5-tuple of `observation, reward, terminated, truncated, info`.\n",
        "\n",
        "**2 objects returned in `env.reset`, not 1**. In version `0.23.1` of the original gym library, the `env.reset` method returned a single object: `obs` (the observation). In `gymnasium`, it returns 2 objects: `observation` and `info` (the latter of which is the same as the `info` object returned by the `step` method conventionally).\n",
        "\n",
        "**The `infos` object is different in vectorized environments.** previously it was a list of dicts (one per env), now it's a dict of lists. We make the following replacements:\n",
        "\n",
        "**Render mode**. You need to create video-based environments by passing `render_mode=\"rgb_array\"` into `gym.make`. When you do this, you don't also need to call `mode=\"rgb_array\"` in the `render` method.\n",
        "\n",
        "```\n",
        "infos[env_idx][\"episode\"][\"l\"] \t\t   -> infos[\"final_info\"][env_idx][\"episode\"][\"l\"]\n",
        "infos[env_idx][\"terminal_observation\"] -> infos[\"final_observation\"][env_idx]\n",
        "```\n",
        "\n",
        "**Handling terminal obversations.** Previously the `next_obs` returned from `envs.step` would be the reset observation of the new episode if we terminated, and we'd have to go into the `infos` dictionary to see the true terminal observation. Now, `next_obs` is the true terminal observation (i.e. the thing that's out of bounds), and when we terminate there's acutally an `_autoreset_envs` flag which is set to true, and makes sure our environment is reset when we take the next step. So in those cases, we need to be careful that the starting `obs` we use is actually the new observation, rather than the terminal observation.\n",
        "\n",
        "**Random seeding.** The `Env.seed()` method no longer exists, and is now replaced with `Env.reset(seed=seed)`.\n",
        "\n",
        "<!-- *If you're happy continuing to work with `gym`, then skip this section!*\n",
        "\n",
        "We're using a relatively old version of `gym` (0.23.1), rather than the more recent (and maintained `gymnasium`). This is because RL libraries are notoriously buggy and susceptible to breaking changes, and we're working with a version which we know is compatible with the material. Annoyingly this version of gym is only compatible with `wandb==0.13.10` rather than the more recent `0.16` versions, which is why we've fixed that version in the requirements file.\n",
        "\n",
        "If you want to transition to `gymnasium`, it is possible (most of the material has been tested with gymnasium as well), but we chose not to make the transition because it wasn't worth all the breaking changes. A few bits of guidance if you want to use `gymanasium`:\n",
        "\n",
        "- We recommend pinning version `gymnasium==0.29.0`.\n",
        "- You should replace `import gym.(x)` with `import gymnasiumn.(x)`, and replace `import gym` with `import gymnasium as gym`.\n",
        "- The most important change is that `env.step` no longer returns 4 objects, it returns 5: `done` is split into `terminated` and `truncated`.\n",
        "\t- `terminated` tells you whether the episode has ended because of environment-specific reasons (e.g. the cartpole has fallen over), and `truncated` tells you whether the episode has ended because the maximum number of steps has been reached. The relationship is `done = terminated or truncated`.\n",
        "\t- You can deal with this by simply defining `done = terminated or truncated` everywhere (or the `|` operator if you're dealing with arrays), and use `done` in the same way as before. However, you could also try and use `terminated` rather than `truncated` when appropriate. Using `done` will only incentivize the agent to maximize its reward within the episode length (e.g. it could always fall over at the 499th step in CartPole-v0 and this would still be fine), but using `terminated` will have different behavioural effects. Can you see why this is?\n",
        "\t- In day 1 material, you'll need to return a 5-tuple rather than a 4-tuple. Often this will just involve inserting `truncated=False` into the return tuple.\n",
        "- `obs.reset()` now returns a 2-tuple of `obs, info` rather than just `obs`.\n",
        "- The `infos` object is structured differently: it's a dict of lists, not a list of dicts.\n",
        "\t- You should replace `infos[environment][\"episode\"]` with `infos[\"final_info\"][environment][\"episode\"]`, and `infos[environment][\"terminal_observation\"]` with `infos[\"final_observation\"][environment]`.\n",
        "- Remove `self.seed()` in the probes.\n",
        "- Pass `render_mode=\"rgb_array\"` into `gym.make` in the `make_envs` utils function.\n",
        "- Comment out the `test_agent` function.\n",
        "- When using atari, you'll want to use the gymnsasium library's built-in wrappers (found [here](https://gymnasium.farama.org/api/wrappers/misc_wrappers/)), not the stuff in `atari_wrappers.py`. -->\n",
        "\n",
        "</details>\n",
        "\n",
        "Below, we've provided a simple environment for the multi-armed bandit described in the Sutton and Barto reading. Here, an action is an integer indicating the choice of arm to pull, and an observation is the constant integer 0, since there's nothing to observe here. Even though the agent does in some sense observe the reward, the reward is always a separate variable from the observation.\n",
        "\n",
        "We're using NumPy for this section. PyTorch provides GPU support and autograd, neither of which is of any use to environment code or the code we're writing today.\n",
        "\n",
        "Read the `MultiArmedBandit` code carefully and make sure you understand how the Gym environment API works."
      ]
    },
    {
      "cell_type": "markdown",
      "metadata": {
        "id": "a3LO8HQxyti_"
      },
      "source": [
        "### The `info` dictionary\n",
        "\n",
        "The environment's `step` method returns four values: `obs`, `reward`, `done`, and the `info` dictionary.\n",
        "\n",
        "`info` can contain anything extra that doesn't fit into the uniform interface - it's up to the environment what to put into it. A good use of this is for debugging information that the agent isn't \"supposed\" to see. In this case, we'll return the index of the actual best arm. This would allow us to measure how often the agent chooses the best arm, but it would also allow us to build a \"cheating\" agent that peeks at this information to make its decision.\n",
        "\n",
        "Cheating agents are helpful because we know that they should obtain the maximum possible rewards; if they aren't, then there's a bug."
      ]
    },
    {
      "cell_type": "markdown",
      "metadata": {
        "id": "8ZsBBP-Nyti_"
      },
      "source": [
        "### The `render()` method\n",
        "\n",
        "Render is only used for debugging or entertainment, and what it does is up to the environment. It might render a little popup window showing the Atari game, or it might give you a RGB image tensor, or just some ASCII text describing what's happening. In this case, we'll just make a little plot showing the distribution of rewards for each arm of the bandit."
      ]
    },
    {
      "cell_type": "markdown",
      "metadata": {
        "id": "W1Vqdsfkyti_"
      },
      "source": [
        "### Observation and Action Types\n",
        "\n",
        "A `gym.Env` is a generic type: both the type of the observations and the type of the actions depends on the specifics of the environment.\n",
        "\n",
        "We're only dealing with the simplest case: a discrete set of actions which are the same in every state (and ditto for observations). In general, the actions could be continuous, or depend on the state."
      ]
    },
    {
      "cell_type": "code",
      "execution_count": 3,
      "metadata": {
        "id": "iUJnbfh-yti_"
      },
      "outputs": [],
      "source": [
        "ObsType = int\n",
        "ActType = int\n",
        "\n",
        "\n",
        "class MultiArmedBandit(gym.Env):\n",
        "    \"\"\"\n",
        "    A class representing a multi-armed bandit environment, based on OpenAI Gym's Env class.\n",
        "\n",
        "    Attributes:\n",
        "        action_space (gym.spaces.Discrete): The space of possible actions, representing the arms of the bandit.\n",
        "        observation_space (gym.spaces.Discrete): The space of possible observations.\n",
        "        num_arms (int): The number of arms in the bandit.\n",
        "        stationary (bool): Indicates whether the reward distribution (i.e. the arm_reward_means) is stationary or not.\n",
        "        arm_reward_means (np.ndarray): The mean rewards for each arm.\n",
        "    \"\"\"\n",
        "\n",
        "    action_space: gym.spaces.Discrete\n",
        "    observation_space: gym.spaces.Discrete\n",
        "    num_arms: int\n",
        "    stationary: bool\n",
        "    arm_reward_means: np.ndarray\n",
        "\n",
        "    def __init__(self, num_arms=10, stationary=True):\n",
        "        \"\"\"\n",
        "        Initializes the MultiArmedBandit environment.\n",
        "\n",
        "        Args:\n",
        "            num_arms (int): The number of arms for the bandit. Defaults to 10.\n",
        "            stationary (bool): Whether the bandit has a stationary reward distribution. Defaults to True.\n",
        "        \"\"\"\n",
        "        super().__init__()\n",
        "        self.num_arms = num_arms\n",
        "        self.stationary = stationary\n",
        "        self.observation_space = gym.spaces.Discrete(1)\n",
        "        self.action_space = gym.spaces.Discrete(num_arms)\n",
        "        self.reset()\n",
        "\n",
        "    def step(self, arm: ActType) -> tuple[ObsType, float, bool, dict]:\n",
        "        \"\"\"\n",
        "        Takes an action by choosing an arm and returns the result of the action.\n",
        "\n",
        "        Args:\n",
        "            arm (ActType): The selected arm to pull in the bandit.\n",
        "\n",
        "        Returns:\n",
        "            obs (ObsType): The observation.\n",
        "            reward (float): The reward.\n",
        "            terminated (bool): Whether the episode has terminated, i.e. for non-timeout related reasons.\n",
        "            truncated (bool): Whether the episode has timed out.\n",
        "            info (dict): Additional information.\n",
        "        \"\"\"\n",
        "        assert self.action_space.contains(arm)\n",
        "        if not self.stationary:\n",
        "            q_drift = self.np_random.normal(loc=0.0, scale=0.01, size=self.num_arms)\n",
        "            self.arm_reward_means += q_drift\n",
        "            self.best_arm = int(np.argmax(self.arm_reward_means))\n",
        "        reward = self.np_random.normal(loc=self.arm_reward_means[arm], scale=1.0)\n",
        "        obs = 0\n",
        "        terminated = False\n",
        "        truncated = False\n",
        "        info = dict(best_arm=self.best_arm)\n",
        "        return (obs, reward, terminated, truncated, info)\n",
        "\n",
        "    def reset(self, seed: int | None = None, options=None) -> tuple[ObsType, dict]:\n",
        "        \"\"\"\n",
        "        Resets the environment to its initial state.\n",
        "\n",
        "        Args:\n",
        "            seed (int | None): The seed for random number generation. Defaults to None.\n",
        "            return_info (bool): If True, return additional info. Defaults to False.\n",
        "            options (dict): Additional options for environment reset. Defaults to None.\n",
        "\n",
        "        Returns:\n",
        "            obs (ObsType): The initial observation.\n",
        "            info (dict): Additional information.\n",
        "        \"\"\"\n",
        "        super().reset(seed=seed)\n",
        "        if self.stationary:\n",
        "            self.arm_reward_means = self.np_random.normal(loc=0.0, scale=1.0, size=self.num_arms)\n",
        "        else:\n",
        "            self.arm_reward_means = np.zeros(shape=[self.num_arms])\n",
        "        self.best_arm = int(np.argmax(self.arm_reward_means))\n",
        "\n",
        "        obs = 0\n",
        "        info = {}\n",
        "        return obs, info\n",
        "\n",
        "    def render(self, mode=\"human\"):\n",
        "        \"\"\"\n",
        "        Renders the state of the environment, in the form of a violin plot.\n",
        "        \"\"\"\n",
        "        assert mode == \"human\", f\"Mode {mode} not supported!\"\n",
        "        bandit_samples = []\n",
        "        for arm in range(self.action_space.n):\n",
        "            bandit_samples += [np.random.normal(loc=self.arm_reward_means[arm], scale=1.0, size=1000)]\n",
        "        plt.violinplot(bandit_samples, showmeans=True)\n",
        "        plt.xlabel(\"Bandit Arm\")\n",
        "        plt.ylabel(\"Reward Distribution\")\n",
        "        plt.show()"
      ]
    },
    {
      "cell_type": "markdown",
      "metadata": {
        "id": "YhYbXMm2yti_"
      },
      "source": [
        "### Registering an Environment\n",
        "\n",
        "Usually we won't use a class like `MultiArmedBandit` directly, because we'll want to wrap it in classes that add various other features that help it work with the rest of the gymnasium library. The `register` function does this for us: it stores information about our `Env` in a registry so that a later call to `gym.make` can look it up using the `id` string that is passed in, and then create an instance of our class with a bunch of extra wrapper classes.\n",
        "\n",
        "By convention, the `id` strings have a suffix with a version number. There can be multiple versions of the \"same\" environment with different parameters, and benchmarks should always report the version number for a fair comparison. For instance, `id=\"ArmedBanditTestbed-v0\"` below."
      ]
    },
    {
      "cell_type": "markdown",
      "metadata": {
        "id": "-vxecLSkyti_"
      },
      "source": [
        "#### `TimeLimit` wrapper\n",
        "\n",
        "One important wrapper class is the `TimeLimit` wrapper - this is used to ensure that the environment terminates after a fixed number of steps. It works by having the `truncated` flag returned by the `step` method be overridden after `max_episode_steps`, and set to `True`. You can see from looking at the `step` method above that without this, the agent might keep playing forever, because it always returns `terminated=truncated=False`. The time limit is also an essential part of the problem definition: if it were larger or shorter, there would be more or less time to explore, which means that different algorithms (or at least different hyperparameters) would then have improved performance.\n",
        "\n",
        "A list of the other wrappers you'll see printed below (these are less important):\n",
        "\n",
        "- `OrderEnforcing` ensures the environment is reset before we start using it\n",
        "- `PassiveEnvChecker` surrounds the step, reset and render functions to check they follow Gymnasium’s API"
      ]
    },
    {
      "cell_type": "code",
      "execution_count": 4,
      "metadata": {
        "id": "ichdqmrfyti_",
        "outputId": "83e49784-29af-4276-9544-a9bc9378ee5b",
        "colab": {
          "base_uri": "https://localhost:8080/"
        }
      },
      "outputs": [
        {
          "output_type": "stream",
          "name": "stdout",
          "text": [
            "Our env inside its wrappers looks like: <TimeLimit<OrderEnforcing<PassiveEnvChecker<MultiArmedBandit<ArmedBanditTestbed-v0>>>>>\n"
          ]
        }
      ],
      "source": [
        "gym.envs.registration.register(\n",
        "    id=\"ArmedBanditTestbed-v0\",\n",
        "    entry_point=MultiArmedBandit,\n",
        "    max_episode_steps=max_episode_steps,\n",
        "    nondeterministic=True,\n",
        "    reward_threshold=1.0,\n",
        "    kwargs={\"num_arms\": 10, \"stationary\": True},\n",
        ")\n",
        "\n",
        "env = gym.make(\"ArmedBanditTestbed-v0\")\n",
        "print(f\"Our env inside its wrappers looks like: {env}\")"
      ]
    },
    {
      "cell_type": "markdown",
      "metadata": {
        "id": "gaBEEcy0yti_"
      },
      "source": [
        "#### A Note on (pseudo) RNGs\n",
        "\n",
        "The PRNG that `gym.Env` provides as `self.np_random` is from the [PCG family](https://www.pcg-random.org/index.html). In RL code, you often need massive quantities of pseudorandomly generated numbers, so it's important to have a generator that is both very fast and has good quality output.\n",
        "\n",
        "When you call `np.random.randint` or similar, you're using the old-school Mersenne Twister algorithm which is both slower and has inferior quality output to PCG. Since Numpy 1.17, you can use `np.random.default_rng()` to get a PCG generator and then use its `integers` method to get random integers."
      ]
    },
    {
      "cell_type": "markdown",
      "metadata": {
        "id": "c31ij7i1yti_"
      },
      "source": [
        "## Agent class\n",
        "\n",
        "Now, you'll start defining agents to act within this class.\n",
        "\n",
        "You'll be defining your agents as subclasses of the base class `Agent` for agents in a multi-armed bandit environment, given below. It contains the following methods:\n",
        "\n",
        "* `get_action`, which returns the agent's next action. This doesn't take state as an argument, because the state of the multi armed bandit game is always the same.\n",
        "    * This isn't implemented for `Agent`, because we'll implement it separately for each agent we build on top of the base agent.\n",
        "* `observe`, which determines what the model does when it observes a particular action & reward combination.\n",
        "    * The default behaviour is to do nothing, although for some agents we'll implement more complicated behaviour.\n",
        "* `reset`, which is run before each episode starts.\n",
        "    * All that the base method does is reset the random number generator, but again future agents might need to do more, e.g. reset data gathered from the `observe` method.\n",
        "\n",
        "Additionally, the `run_episode` function will run a single episode of interaction between an agent and the environment. As discussed above, this will terminate after `max_episode_steps` for our environment (we've set this to be 1000). The `run_agent` function calls `run_episode` multiple times in series."
      ]
    },
    {
      "cell_type": "code",
      "execution_count": 8,
      "metadata": {
        "id": "p53DV8Y4yti_"
      },
      "outputs": [],
      "source": [
        "class Agent:\n",
        "    \"\"\"\n",
        "    Base class for agents in a multi-armed bandit environment\n",
        "\n",
        "    (you do not need to add any implementation here)\n",
        "    \"\"\"\n",
        "\n",
        "    rng: np.random.Generator\n",
        "\n",
        "    def __init__(self, num_arms: int, seed: int):\n",
        "        self.num_arms = num_arms\n",
        "        self.reset(seed)\n",
        "\n",
        "    def get_action(self) -> ActType:\n",
        "        raise NotImplementedError()\n",
        "\n",
        "    def observe(self, action: ActType, reward: float, info: dict) -> None:\n",
        "        pass\n",
        "\n",
        "    def reset(self, seed: int) -> None:\n",
        "        self.rng = np.random.default_rng(seed)\n",
        "\n",
        "\n",
        "def run_episode(env: gym.Env, agent: Agent, seed: int) -> tuple[Arr, Arr]:\n",
        "    \"\"\"\n",
        "    Runs a single episode of interaction between an agent and an environment.\n",
        "\n",
        "    Args:\n",
        "        env (gym.Env): The environment in which the agent operates.\n",
        "        agent (Agent): The agent that takes actions in the environment.\n",
        "        seed (int): The seed for random number generation to ensure reproducibility.\n",
        "\n",
        "    Returns:\n",
        "        A tuple containing arrays of rewards received in each step and a flag indicating if the chosen arm was best.\n",
        "    \"\"\"\n",
        "    (rewards, was_best) = ([], [])\n",
        "\n",
        "    env.reset(seed=seed)\n",
        "    agent.reset(seed=seed)\n",
        "\n",
        "    done = False\n",
        "    while not done:\n",
        "        arm = agent.get_action()\n",
        "        obs, reward, terminated, truncated, info = env.step(arm)\n",
        "        done = terminated or truncated\n",
        "        agent.observe(arm, reward, info)\n",
        "        rewards.append(reward)\n",
        "        was_best.append(1 if arm == info[\"best_arm\"] else 0)\n",
        "\n",
        "    rewards = np.array(rewards, dtype=float)\n",
        "    was_best = np.array(was_best, dtype=int)\n",
        "    return (rewards, was_best)\n",
        "\n",
        "\n",
        "def run_agent(env: gym.Env, agent: Agent, n_runs=200, base_seed=1) -> tuple[Arr, Arr]:\n",
        "    all_rewards = []\n",
        "    all_was_bests = []\n",
        "    base_rng = np.random.default_rng(base_seed)\n",
        "    for n in tqdm(range(n_runs)):\n",
        "        seed = base_rng.integers(low=0, high=10_000, size=1).item()\n",
        "        (rewards, corrects) = run_episode(env, agent, seed)\n",
        "        all_rewards.append(rewards)\n",
        "        all_was_bests.append(corrects)\n",
        "    return np.array(all_rewards), np.array(all_was_bests)"
      ]
    },
    {
      "cell_type": "markdown",
      "metadata": {
        "id": "GWEBouYiyti_"
      },
      "source": [
        "### Exercise - implement `RandomAgent`\n",
        "\n",
        "> ```yaml\n",
        "> Difficulty: 🔴🔴⚪⚪⚪\n",
        "> Importance: 🔵🔵⚪⚪⚪\n",
        ">\n",
        "> You should spend up to 10-20 minutes on this exercise.\n",
        "> ```\n",
        "\n",
        "You should fill in the `get_action` method from `RandomAgent`, which is a subclass of `Agent`. This agent should pick an arm at random, i.e. from the range `[0, ..., num_arms-1]`, and return it as an integer. You won't need to change the `observe` method since the random agent doesn't change its behaviour based on observations, and you won't need to change the `reset` method since there are no observations which need to be reset.\n",
        "\n",
        "This agent will be useful as a baseline to ensure the environment has no bugs. If your later agents are doing worse than random, you have a bug! Later, we'll add some smarter agents.\n",
        "\n",
        "When you've finished implementing this agent, running the cell below will:\n",
        "        \n",
        "- Verify that `RandomAgent` pulls the optimal arm with frequency roughly `1/num_arms`.\n",
        "- Verify that the average reward is very roughly zero. This is the case since the mean reward for each arm is centered on zero."
      ]
    },
    {
      "cell_type": "code",
      "execution_count": 9,
      "metadata": {
        "id": "9jtAEbQ6ytjA",
        "outputId": "8321729d-b710-423d-8c8a-1ec652330980",
        "colab": {
          "base_uri": "https://localhost:8080/"
        }
      },
      "outputs": [
        {
          "output_type": "stream",
          "name": "stderr",
          "text": [
            "100%|██████████| 200/200 [00:01<00:00, 112.35it/s]"
          ]
        },
        {
          "output_type": "stream",
          "name": "stdout",
          "text": [
            "Expected correct freq: 0.1, actual: 0.099565\n",
            "Expected average reward: 0.0, actual: 0.006279\n",
            "All tests passed!\n"
          ]
        },
        {
          "output_type": "stream",
          "name": "stderr",
          "text": [
            "\n"
          ]
        }
      ],
      "source": [
        "class RandomAgent(Agent):\n",
        "    def get_action(self) -> ActType:\n",
        "        return self.rng.integers(0, self.num_arms)\n",
        "\n",
        "    def __repr__(self):\n",
        "        return \"RandomAgent\"\n",
        "\n",
        "\n",
        "num_arms = 10\n",
        "stationary = True\n",
        "env = gym.make(\"ArmedBanditTestbed-v0\", num_arms=num_arms, stationary=stationary)\n",
        "agent = RandomAgent(num_arms, 0)\n",
        "all_rewards, all_corrects = run_agent(env, agent)\n",
        "\n",
        "print(f\"Expected correct freq: {1/10}, actual: {all_corrects.mean():.6f}\")\n",
        "assert np.isclose(all_corrects.mean(), 1 / 10, atol=0.05), \"Random agent is not random enough!\"\n",
        "\n",
        "print(f\"Expected average reward: 0.0, actual: {all_rewards.mean():.6f}\")\n",
        "assert np.isclose(\n",
        "    all_rewards.mean(), 0, atol=0.05\n",
        "), \"Random agent should be getting mean arm reward, which is zero.\"\n",
        "\n",
        "print(\"All tests passed!\")"
      ]
    },
    {
      "cell_type": "markdown",
      "metadata": {
        "id": "aB0RVvG0ytjA"
      },
      "source": [
        "<details><summary>Solution</summary>\n",
        "\n",
        "```python\n",
        "class RandomAgent(Agent):\n",
        "    def get_action(self) -> ActType:\n",
        "        return self.rng.integers(low=0, high=self.num_arms)\n",
        "\n",
        "    def __repr__(self):\n",
        "        return \"RandomAgent\"\n",
        "```\n",
        "</details>"
      ]
    },
    {
      "cell_type": "markdown",
      "metadata": {
        "id": "TQtNjMMMytjA"
      },
      "source": [
        "### Exercise - Implement reward averaging\n",
        "> ```yaml\n",
        "> Difficulty: 🔴🔴🔴⚪⚪\n",
        "> Importance: 🔵🔵⚪⚪⚪\n",
        ">\n",
        "> You should spend up to 20-30 minutes on this exercise.\n",
        "> ```\n",
        "\n",
        "You should now complete the methods for the `RewardAveraging` agent, which applies the reward averaging algorithm as detailed in Sutton and Barto section 2.4, \"Incremental Implementation\":\n",
        "\n",
        "* You should fill in `observe` to keep track of the number of times $n$ each arm has been pushed, as well as the value $Q_n$ for each arm.\n",
        "    * Gotcha - in S & B notation, $n$ is the number of times this particular arm has been pulled, not the total number of actions taken!\n",
        "    * We recommend defining arrays `N` and `Q`, each of length `num_arms`, to keep track of all these values.\n",
        "* You should fill in `get_action` with an epsilon-greedy method: taking a random action with probability `epsilon`, and taking the best action based on the current value of $Q$ with probability `1-epsilon` (see Sutton & Barto).\n",
        "* You should fill in `reset` to call the reset method from the parent class, *and* make sure that the tracked values of $(n, Q_n)$ are set back to appropriate values at the start of each episode.\n",
        "    * Note, the `reset` method is also called before the very first run, so you don't need to define `N` and `Q` in the init method.\n",
        "    * The `Q` values should be initialized according to the optimism value of this agent.\n",
        "    * Ensure the `Q` values are stored as float (and not numpy's default, integer)\n",
        "\n",
        "<details>\n",
        "<summary>Hint - average reward formula</summary>\n",
        "\n",
        "$$Q_k = Q_{k-1} + \\frac{1}{k}[R_k - Q_{k-1}]$$\n",
        "\n",
        "Where $k$ is the number of times the action has been taken, $R_k$ is the reward from the kth time the action was taken, and $Q_{k-1}$ is the average reward from the previous times this action was taken (this notation departs slightly from the S&B notation, but may be more helpful for our implementation).\n",
        "\n",
        "**Important - $k$ is not the total number of timesteps, it's the total number of times you've taken this particular action.**\n",
        "</details>\n",
        "\n",
        "We've given you a function for plotting multiple agents' reward trajectories on the same graph, with an optional moving average parameter to make the graph smoother."
      ]
    },
    {
      "cell_type": "code",
      "execution_count": 15,
      "metadata": {
        "id": "p9wFDs_9ytjA",
        "outputId": "8db40820-50bb-4e6c-ed91-d8d7802bf671",
        "colab": {
          "base_uri": "https://localhost:8080/",
          "height": 610
        }
      },
      "outputs": [
        {
          "output_type": "stream",
          "name": "stderr",
          "text": [
            "100%|██████████| 200/200 [00:01<00:00, 103.35it/s]\n"
          ]
        },
        {
          "output_type": "stream",
          "name": "stdout",
          "text": [
            "RewardAveraging(eps=0.01, optimism=0)\n",
            " -> Frequency of correct arm: 0.5196\n",
            " -> Average reward: 1.2578\n"
          ]
        },
        {
          "output_type": "stream",
          "name": "stderr",
          "text": [
            "100%|██████████| 200/200 [00:01<00:00, 100.94it/s]"
          ]
        },
        {
          "output_type": "stream",
          "name": "stdout",
          "text": [
            "RewardAveraging(eps=0.01, optimism=5)\n",
            " -> Frequency of correct arm: 0.7465\n",
            " -> Average reward: 1.4833\n"
          ]
        },
        {
          "output_type": "stream",
          "name": "stderr",
          "text": [
            "\n"
          ]
        },
        {
          "output_type": "display_data",
          "data": {
            "text/html": [
              "<html>\n",
              "<head><meta charset=\"utf-8\" /></head>\n",
              "<body>\n",
              "    <div>            <script src=\"https://cdnjs.cloudflare.com/ajax/libs/mathjax/2.7.5/MathJax.js?config=TeX-AMS-MML_SVG\"></script><script type=\"text/javascript\">if (window.MathJax && window.MathJax.Hub && window.MathJax.Hub.Config) {window.MathJax.Hub.Config({SVG: {font: \"STIX-Web\"}});}</script>                <script type=\"text/javascript\">window.PlotlyConfig = {MathJaxConfig: 'local'};</script>\n",
              "        <script charset=\"utf-8\" src=\"https://cdn.plot.ly/plotly-2.35.2.min.js\"></script>                <div id=\"4aca1299-09e4-43c0-aff4-9cfe3d007d62\" class=\"plotly-graph-div\" style=\"height:450px; width:750px;\"></div>            <script type=\"text/javascript\">                                    window.PLOTLYENV=window.PLOTLYENV || {};                                    if (document.getElementById(\"4aca1299-09e4-43c0-aff4-9cfe3d007d62\")) {                    Plotly.newPlot(                        \"4aca1299-09e4-43c0-aff4-9cfe3d007d62\",                        [{\"mode\":\"lines\",\"name\":\"RewardAveraging\\u003cbr\\u003e  │eps=0.01\\u003cbr\\u003e  │optimism=0\",\"y\":[0.6802691732226358,0.7508390045336083,0.7798478401295077,0.8122602314448751,0.8492759970871269,0.8838089937460926,0.9089746452465417,0.9264368930715124,0.9305990222475325,0.9417874741527543,0.9389420543075865,0.9525878920191541,0.9529807483751208,0.9712229836302709,0.9828912826673648,0.9844376893566018,1.003576070070172,1.0231106851187313,1.0225520379569886,1.0231421999041845,1.0251843047456635,1.019028373323456,1.019290814012033,1.026118442474617,1.026312703451541,1.0440247512291168,1.0428001650470042,1.0665305136423966,1.0678525642355639,1.0659115458764883,1.079906871775548,1.0678331376613357,1.0619134622908377,1.0754057349083859,1.0863073886360273,1.0789808495569049,1.08443739291743,1.0925923534320185,1.089438237490497,1.0883402161333833,1.0792633403336542,1.0779647998817339,1.0589961716412417,1.0632886891199642,1.07066753166151,1.060811227683023,1.0677082059251737,1.073549172203183,1.0624936618876049,1.0544172272229204,1.0591206802911424,1.0658748064492944,1.0604409112889963,1.0760929651001414,1.0904873779438,1.0903911938170372,1.0951064037495224,1.0975879073702464,1.096325563261602,1.0827048198054035,1.0935496320564382,1.0875633295606741,1.0887411706721897,1.0960949068686616,1.0934438233070969,1.0917529382641518,1.0801056566295022,1.0688605132173867,1.055311399354853,1.0445273604291307,1.0480341337576922,1.0560187766505966,1.058250983302286,1.0440316937970464,1.052704588163608,1.0444218454749499,1.048321982782781,1.0402515366873577,1.0449554309621627,1.0460482238860276,1.0412880925972596,1.0487307473793295,1.0619691213748288,1.0685343859259622,1.074497845478762,1.071810672518033,1.0577137809145265,1.0554961673311898,1.0608805819781395,1.0572478909427996,1.0534385327613005,1.0529336730530048,1.0464113104946005,1.0411296762060147,1.0428277656347396,1.0475665930014353,1.0482616611742486,1.0456928830467271,1.0460301211011607,1.0393197735056912,1.044506304205018,1.0504044227466427,1.0572435032504406,1.0598062282706497,1.0619275853599808,1.0679012118294149,1.0730637116368125,1.0873914311851072,1.0894014524875815,1.0981336526862502,1.0998249446823867,1.1082433099080171,1.1110213111217442,1.103078703446325,1.118554635223929,1.1189318869664087,1.1190091673053777,1.1250865396425307,1.1250858320057204,1.1205374402023571,1.1246338178688282,1.132291403347846,1.1287362300700001,1.1374104409269952,1.1342062164737807,1.1494763175381146,1.1490292873559127,1.1497912282527125,1.1556394526908036,1.1505282937949497,1.1540025439800579,1.160790150369085,1.1675883136758765,1.1706103032356452,1.173551613174118,1.1754126820695263,1.159772489301425,1.1684513146910567,1.1607554381625713,1.1641844243906765,1.1592197561111013,1.1490538112610864,1.1471298969866894,1.1534079452415786,1.1457006517181432,1.1370861432197104,1.1275269852063938,1.1222920886026675,1.113697978894201,1.1182136265049565,1.1187925177467244,1.124680406606427,1.1280125357697481,1.1322086283505959,1.1315654072437231,1.1172311407104512,1.1220490513444341,1.127423858562516,1.11801043143822,1.1233627986968846,1.1324800554006742,1.1349165330538313,1.1256913994743363,1.1376831613234895,1.1376711165323399,1.1394820572857478,1.1346876158163355,1.121797995841871,1.1259068890919253,1.1307510715747413,1.1386379671865674,1.1443207600989826,1.1399977058900712,1.146711951166202,1.1551801403120787,1.1419110910388723,1.142128333900458,1.1536415532148339,1.1492273577072203,1.1600171782690873,1.1581822757000566,1.1716106715999313,1.1698089364645228,1.164612540433319,1.16295135552672,1.1632599068845233,1.1617311942305453,1.1682661266069658,1.1734770096409515,1.170199805498974,1.188204361905599,1.1907246030293284,1.1794573453627701,1.1828377878384135,1.169330063384522,1.165483008943903,1.1517637731603676,1.1529972853352584,1.1551878458858578,1.1481818037085,1.1469867592761243,1.138798767287138,1.1367211382984634,1.1287195384794093,1.1147003267775668,1.1184570906357842,1.123502976375221,1.133635668772382,1.1353574579496712,1.1477558924547453,1.1547085826589485,1.1628423043636,1.1667559185687613,1.1739080610058086,1.1688879136966628,1.1787665338328377,1.186976391728649,1.192104005208059,1.202308427957265,1.2120361592119404,1.198105391419557,1.1965618372323414,1.1934643897149877,1.201427499395525,1.1973588430160722,1.1946994146480923,1.1909441549962765,1.1895329809609885,1.1834113704057831,1.1954346462628658,1.1867524132648024,1.1936803336157538,1.2012180998882096,1.2011481957373538,1.2067984266551852,1.2002692771710295,1.1953103706195387,1.1969874556623021,1.1855949130279781,1.185520364813677,1.1831260045872038,1.196344512926392,1.199712571518766,1.2053028849708993,1.2076171518168697,1.2060649770232998,1.202915377365025,1.2007569767393647,1.1918066366715379,1.1935173392783744,1.2034352204759027,1.2054482620542823,1.2059374497954118,1.211917951855321,1.2146614739559254,1.2219755426005918,1.2031571588239938,1.2039125672652973,1.2078684479144082,1.208495191876428,1.2206475523951668,1.2268108829184448,1.215042547906656,1.2209725821297865,1.2111677749786434,1.2032459163397788,1.2102608572083038,1.2070523611741881,1.2078497913192032,1.2028324882828125,1.1994456809708822,1.205610906056351,1.205010240512244,1.203877309638843,1.1982823960851572,1.187101663269785,1.1735200369347618,1.1784021213885543,1.177331267121224,1.1896171505099686,1.1988827152522845,1.1926993067151443,1.1900149612903042,1.180949833603851,1.1713409284344456,1.1671288474009012,1.1744113235966096,1.1767284540389407,1.1700705970536434,1.1781450150521664,1.1793661475004305,1.190772387660733,1.175442198623557,1.1779339534691151,1.1770076464418784,1.1744930506029807,1.1750529750513692,1.1877187369108129,1.1932214919647777,1.2081068398424313,1.2127747854845476,1.2137026436384455,1.2155512512019868,1.2106247745306027,1.2001011993625676,1.211454475192075,1.2111656918100493,1.2281817296265822,1.2169757372265204,1.2069261224622436,1.2182995686437759,1.223918718399087,1.2214461943287915,1.2317126947312962,1.2319471875995418,1.2292788642238937,1.2300295213037316,1.2303743852253775,1.237744622536987,1.2445772646903568,1.2334670800146683,1.2409733148230164,1.23413975693425,1.2410362255064873,1.2413168684626386,1.2345496232236959,1.2275221152939821,1.2260197040849448,1.2223255454282063,1.222848735317052,1.2311690773562531,1.2277323328035512,1.2359448906203359,1.231584164763596,1.2283655590692508,1.2389374869276026,1.2339096364925581,1.2465610580164328,1.2497874037088499,1.2513562924830428,1.2551233923826999,1.254748823451223,1.2547951724181037,1.2615053745807814,1.255442301350744,1.2464605432135272,1.244147552613697,1.238527297498077,1.2422568059341075,1.2524399284596182,1.243201321757302,1.2392818533063215,1.2437209755744865,1.2331306031892646,1.235655689808588,1.243500062772777,1.2498529342684568,1.2483976172847027,1.243897291928003,1.251031519901691,1.2602340401823728,1.261333973412574,1.2589459209376248,1.256085848650279,1.2468197449495089,1.253673864710792,1.2444013278809203,1.2397654359478376,1.2582888323115904,1.2613636688915866,1.2474949624914151,1.2449847885682819,1.2465961776376617,1.2417654154409965,1.2426968492690624,1.2407767841575037,1.2338726379290468,1.2355142007034032,1.2363852323632538,1.2438860588174825,1.2478213937817941,1.252451833303701,1.2546629942331833,1.2498053780288045,1.2480183867947023,1.2534190234941283,1.2578457889308463,1.2625266090772205,1.25831955967703,1.2557602703751096,1.248566530743896,1.2478985376086977,1.251189465447332,1.254701243922773,1.2522230033911759,1.249365924026631,1.256546867296447,1.2465275794258408,1.2486524372050931,1.249411677420729,1.2494201605755735,1.2373341198045296,1.2353731098355714,1.2412156610883927,1.2360672130154702,1.2453550514345275,1.2470564131741904,1.2499308759104528,1.2508297282507934,1.2500164177134026,1.2507942661690927,1.2521315956647185,1.2485644427810447,1.2432571440738571,1.2520024185280059,1.2533605829470276,1.2566301866969032,1.2528414162987436,1.2499703582854067,1.251584855985311,1.2523895612105471,1.25709750278531,1.24851940782526,1.2523086657056184,1.2548982094337588,1.2539316609956852,1.2470321689809643,1.2548633662962856,1.2626096315876643,1.2457257432830071,1.2393485489019478,1.2464424557915321,1.2530201678595896,1.2488095700008786,1.2518684903926025,1.2556930247546765,1.2552042589101915,1.2572904400130596,1.260793266378183,1.255705531870251,1.2564687283258953,1.2629511616313076,1.2623030651494749,1.2518897022220206,1.2585811984788127,1.2580899533273395,1.2592812520177328,1.2504787264416337,1.2612646897969702,1.2621180090443507,1.2541800273132442,1.2638177093517393,1.26165848483231,1.2456027453793694,1.24943620086774,1.2516355208857477,1.250339636098526,1.254021361827419,1.260843980877932,1.2675580712641856,1.2743045401947333,1.280514697345446,1.2865439872824558,1.2922586380641405,1.2933719133997859,1.3026532734384242,1.3037827900275412,1.3155158555764805,1.3257938822816564,1.320845157864475,1.316204881495575,1.3035486320555567,1.3052358778971818,1.303465338873184,1.2990818335186836,1.2973174825817524,1.3018699990667302,1.300626056362095,1.2941514880214906,1.30132675553225,1.2930920964757964,1.279358430069639,1.2754001832137192,1.27670237964093,1.28614330560913,1.284819757858865,1.2958721916742737,1.2871109681410493,1.2895096146395872,1.2940451113048312,1.3074007289250176,1.2991838528602633,1.3048272043756242,1.2991127125920305,1.2960804881852481,1.299160018338739,1.304048683608706,1.2988220064809033,1.2966400699355594,1.2905213848210224,1.2899413569531817,1.289961675154632,1.2978956917731617,1.2901595934443777,1.289375536068269,1.2856216611841167,1.2858783622992254,1.2816934497104435,1.2819195988526795,1.2848009210365414,1.2809048480370167,1.2788343250539052,1.280174291787633,1.2854405480313063,1.291362565771116,1.288959060104283,1.2954738136548865,1.2918873941002251,1.3056082666758584,1.3068086523798759,1.3022126846669304,1.30192718438866,1.3059722265973883,1.3180572479478845,1.3199613678140016,1.3190691557005494,1.3172434970574234,1.323115066786181,1.3205177380351416,1.3200330553915742,1.3399059132920683,1.3279470607600539,1.3279890127706873,1.3197500623291794,1.3155888586883975,1.3146645853404153,1.3192076560107202,1.3195562387389146,1.3015944499541774,1.295619055145926,1.3078724651508462,1.3152638184158907,1.3191274302080198,1.3243168744989133,1.3172798850707144,1.3076079832467484,1.3116958234197,1.3026319884154267,1.306374230423891,1.3042644624265525,1.3106705656373683,1.3036780431714001,1.2950699914669181,1.3141830941781563,1.3175028477235098,1.3096296803548815,1.3183297880245013,1.3199260014735728,1.3132827599843495,1.3073568307839423,1.309519327160342,1.3162050324649879,1.3277764136824772,1.3320079207729199,1.3383874478389164,1.3296626109655638,1.3260017652089193,1.3311952620913796,1.3280019024840917,1.3106376180349344,1.317572116623516,1.309496275721449,1.298765789657576,1.2955509317833578,1.3105607020830121,1.3063487390718669,1.3049632461201932,1.3067009947323414,1.295724721718572,1.2988218643519,1.3014398387912782,1.3044348422387202,1.3057609349435704,1.3012470752131018,1.319946912223304,1.307840951824384,1.3157300177957798,1.319559309220775,1.3156482377039613,1.3134410668138192,1.3153765548656642,1.3162706958970678,1.3168367322713417,1.3220914358236087,1.3165810181073008,1.3150474918724133,1.308575788059261,1.3075693967578066,1.308971880953633,1.3041492400323629,1.307078638348283,1.2999420147122842,1.3006378870444526,1.3114027665498347,1.3100301572948865,1.3060993510108498,1.3112390343543894,1.314722123265354,1.3161611168741805,1.3154439937673412,1.316487600692464,1.3276387809479653,1.3234923571737303,1.325683696242777,1.327902065272527,1.3294348985301516,1.3376135507710614,1.333176698069436,1.329036325664879,1.3362954919475973,1.3361823563714248,1.3357588037993082,1.3270356501562521,1.324445111814839,1.3323931666304059,1.3362764066462585,1.334405068293495,1.3405468325117378,1.3289842408021892,1.323523263166385,1.3333196690537155,1.319574285425233,1.3275544969335973,1.3264067497634036,1.3256620258066354,1.3322055332226606,1.3268938786549522,1.3284881297506217,1.3359621851427013,1.3336794983703764,1.3351323954299157,1.3347268037414475,1.333142324894599,1.345225298318966,1.355876638723627,1.3494869092334207,1.3562372942636254,1.3513237250864298,1.3591018202727734,1.3533465517853984,1.3439791939674401,1.3468307701989337,1.3533670951284194,1.3467124060724474,1.3371018417364515,1.3351144714112175,1.34398159232663,1.3359896606307227,1.3371666255502153,1.3309514841367596,1.3232449596862277,1.3315114178998024,1.3339123056754336,1.3380127545304654,1.3385139018035261,1.3446693432316579,1.347314509872581,1.3380953884532725,1.3399013312592085,1.355724196310348,1.3529892174748435,1.3404587053654344,1.3480059568662,1.3432137333031733,1.3549669410262293,1.3509688361609051,1.3388073236225562,1.3311851041796217,1.332260094453803,1.3372825102206813,1.3339846785173373,1.3404121734848786,1.3481830518662794,1.3578355322539286,1.3497981375524735,1.3654166252134246,1.3656464431138071,1.3673813257774783,1.3755448596326232,1.3690614583150895,1.3878811167701088,1.3919182000123707,1.3881856049204315,1.3821558175566073,1.3691144618864124,1.3736953750049907,1.3554113567680512,1.356718212361352,1.3583600734259638,1.3549043238831548,1.340590438778463,1.34483655478197,1.3462920811521069,1.335238457277266,1.3349875676478935,1.3296830914486235,1.3299505939948706,1.3329264491948607,1.3325136993006481,1.3428555761004721,1.3455054369579935,1.3469332497416873,1.3441231803666749,1.3214513598927549,1.3306100732837194,1.329474305687601,1.3304696818845363,1.3263676860445457,1.3320712666884447,1.3235681847777945,1.3142702234250236,1.3129216616504134,1.3220693748414836,1.3205201248245886,1.3072010495024566,1.2995031256860936,1.300948231311486,1.307187707837238,1.3215988592332073,1.3108725076357435,1.3082130203572813,1.3038906149707523,1.3092512139598511,1.3090204807456984,1.3158133239925747,1.3261839800663968,1.3325991671140476,1.335555386511237,1.336999264803315,1.3555767863775978,1.3638152394202658,1.37225742296849,1.3696561616513085,1.3727448441590318,1.372445567066499,1.3754925772384392,1.3810573065446305,1.3787326757731004,1.3793542232147273,1.379225022137886,1.3727437030630427,1.3698553870363033,1.361350230601829,1.3584138061302686,1.357699548345272,1.355780846361487,1.357271802194206,1.3562169646274849,1.3539209665144805,1.3612228034787677,1.3654819810312953,1.3597089546371839,1.3650452933854467,1.3628517459473415,1.3590985007847167,1.3518884445594115,1.339341863747859,1.3437895301330325,1.3475086522539035,1.3422533344992416,1.3419435460642792,1.3350265279455926,1.3383525877084745,1.336469367621324,1.3332938807626002,1.3303688285190218,1.3383204411038756,1.3379369213425738,1.3429233690627447,1.3464135436006246,1.359780774318627,1.3721349857983796,1.3722987877866217,1.3707281128558635,1.3736842012742196,1.372770999659527,1.3731491386286052,1.3697223806058976,1.3750603186602424,1.3841519533680715,1.3826813319606193,1.3830420879787804,1.3740359310688064,1.3619704843089115,1.3631419394550979,1.3646146847844876,1.3682318262291346,1.3720558747672613,1.3710193459755147,1.3778821557458134,1.3737272094637092,1.382071356134899,1.391194586896457,1.3957974209060922,1.3956293826546167,1.4025589593772794,1.40697956856377,1.413220280582459,1.4271494344800126,1.4307812086598157,1.4281915989414224,1.4261879310982295,1.4294107933864022,1.4410932144113757,1.4255692859939473,1.431309263866668,1.4311671146982765,1.4209535691415796,1.4121452493593856,1.4024025558413313,1.3933100720481206,1.3948348166182085,1.3937434748011128,1.3984660972558762,1.3936680328663746,1.4008878627536736,1.4019775614429515,1.395808934649267,1.383871850309553,1.3893614772475151,1.3898989519734337,1.386126411795355,1.389407263015907,1.3925628306368707,1.4025448660048216,1.408014949566071,1.403175811730504,1.4018731398972402,1.393293444301071,1.383669501269757,1.372613151344755,1.3767329657758638,1.383611820791945,1.3813484338480218,1.389308210327863,1.3839243304285296,1.3829588520889804,1.378273478125114,1.3785721297626272,1.3700106874503792,1.373353669652594,1.3773295341665743,1.388761812569131,1.3879270862663815,1.3900311164200805,1.3883908920496955,1.3826504055542803,1.3723115221883442,1.3748509863288443,1.3704064553203503,1.3746134092723574,1.373265546646265,1.3730621634895215,1.370676495944387,1.3777981704416409,1.3800478699679692,1.3661830549568095,1.3565391478433564,1.3454904415652134,1.364288444713884,1.3798650427006274,1.3735550636651774,1.372401961465069,1.3651079332695493,1.3670355976359587,1.3674148946962608,1.3694941695054088,1.373687453307381,1.3859828034525434,1.3788298581279832,1.3791874283370058,1.379612814183626,1.381561112762544,1.386778117796833,1.3805347494384175,1.3662440333536172,1.384322572973118,1.3859843094671003,1.3996089695445184,1.394337152140209,1.3958883411965568,1.3987056802478037,1.401306082976574,1.3914730707943666,1.3842982494444944,1.3772817302933769,1.3794443550287876,1.3747239792468462,1.3792442134657297,1.3682529509679473,1.376121872079284,1.3581702474817121,1.3701245075338648,1.3683610667594317,1.36541939287002,1.3697768485856765,1.3683283130045008,1.364411535261191,1.3635882658660496,1.3713160219078568,1.3686258655874857,1.3716616913689752,1.3781189703276595,1.3842472161092851,1.3988642616729672,1.3921987818404886,1.3941608342712546,1.3858294751485876,1.387292252178213,1.3966717662105264,1.3886289937750613,1.3895565884817036,1.3766217963551752,1.3675791429117907,1.3726189429304971,1.3744605612925322,1.3787669212682279,1.3758353873676696,1.3708475308548864,1.3630059089127826,1.3696796880213544,1.3728981367500486,1.3839178689222384,1.3764089560904418,1.375895329000999,1.3743625039979481,1.3727644265872945,1.3896149046904611,1.4012940297541414,1.3961689434128555,1.3965508040092875,1.4003347608220489,1.4054058010070245,1.4052325540660149,1.415149745832514,1.4108327130590927,1.4082987626822918,1.392953213593061,1.4004015389129107,1.3978944953763857,1.3960774004870018,1.3898748051135499,1.390570607248886,1.3877936799110862,1.393153457357903,1.394490472112284,1.399779692694392,1.3944727721738217,1.3953576129362923,1.3862445967679073,1.3834468432681812,1.381088624603141,1.381569203867548,1.3786768716125002,1.3768256455049444,1.3785841868241127,1.3854236818044228,1.381994663478372,1.3810655862855583,1.3834707509485118,1.3870835955622474,1.3815115622035592,1.3873673686674466,1.3872314601479199,1.378257223541838,1.3841462266667197,1.382131627159212,1.3906187582267193,1.3971442306853532,1.398228727227767,1.4067015565284995,1.3920152993379513,1.3883636208185333,1.398615921922889,1.3899382150661344,1.3848608040680574],\"type\":\"scatter\"},{\"mode\":\"lines\",\"name\":\"RewardAveraging\\u003cbr\\u003e  │eps=0.01\\u003cbr\\u003e  │optimism=5\",\"y\":[0.4122197005605972,0.5046529647562871,0.5786302981541451,0.6613511723555386,0.755572955255428,0.846846493803744,0.9475981223488305,1.0486064702996414,1.120650151337434,1.2137315036557623,1.2947695860889519,1.3124026958608928,1.320187776336328,1.3417711118138438,1.3547491060454404,1.361761190794622,1.3871755228440696,1.4092034243862703,1.4070031254002633,1.4104533926399117,1.4160734453948733,1.411368274085603,1.4135513379344151,1.4238376201919023,1.4282243032170416,1.4461158447833962,1.447871668893194,1.4734522295542969,1.4756164282758832,1.4741756511450546,1.4875682752795278,1.4746342509893646,1.468317964913716,1.482607037073858,1.4925751231850417,1.484401195818675,1.4898863564568017,1.4976718527685222,1.494278960016794,1.4906648459985021,1.4825695053269698,1.4813972086340963,1.4619838300628332,1.4648353128815501,1.4719433145700833,1.4612266946224253,1.4676290909154066,1.473681575341861,1.4617358346453642,1.453218788946468,1.4577592160592734,1.4640574678942027,1.459287400012658,1.475006790687542,1.4902516787270585,1.4907626099575917,1.4955021729904643,1.4976348412759923,1.4966167541703461,1.4834495094208953,1.4945221007246308,1.488527953540452,1.4898352272997064,1.4979793563459567,1.49630172778474,1.4954851732110532,1.483992583856616,1.4716323932816826,1.4583984731640243,1.4476821602146288,1.451123105009096,1.4591108545682383,1.4617811253729351,1.4478973167701923,1.4566949444563468,1.4482528342510468,1.45254531120239,1.4446086126256783,1.44990593813718,1.4503800574251016,1.444912108564959,1.4528847431294054,1.4674483171868569,1.474074776878058,1.4800316852192728,1.4768354516335402,1.4626956842680205,1.4600364738182539,1.4652869105862767,1.4614433131992532,1.4577007181066526,1.455438887769453,1.4484345184928182,1.4411156025846679,1.441860427560645,1.4454424087155047,1.4435861722528094,1.438875082143526,1.4374334264532298,1.4283371384391634,1.4318299659297868,1.4337642651786136,1.4383170445493627,1.4381661183286913,1.4376981382290297,1.4418042084098242,1.4452292868246805,1.457220139301531,1.4580553576111734,1.465299469054971,1.4661514127220243,1.4743033740783364,1.4757221901720186,1.46664183537798,1.4814991285374124,1.480139306621468,1.4806187642318813,1.487049044656476,1.4868031652295732,1.4816114988977895,1.4834778526402488,1.4913234405277838,1.4874139913883824,1.4961934852738616,1.4926579119972245,1.507502613758796,1.5061712905572147,1.5069274619629331,1.5126149050744289,1.507350014953181,1.5115749400139862,1.518806441849127,1.5250329498746018,1.527036622424788,1.5302664193500959,1.5332972793796822,1.5171151042713973,1.525187342854315,1.5168050758545897,1.5196926859541955,1.5139378277733082,1.5037366819480988,1.501515731688742,1.5069060043852327,1.4982038956077797,1.4891332338183152,1.4788306955339767,1.472393809810698,1.4640416354691506,1.4678933758678512,1.4671787418511921,1.4714165443549556,1.4738685925909143,1.476335128416459,1.4747336656529133,1.4600368712912977,1.4639459953486873,1.4684648515599292,1.4583563685992886,1.4634042973782035,1.4716923202290029,1.47333202502741,1.4639382639970924,1.4751651846170717,1.4739898151262556,1.4757305832242025,1.470443556891636,1.456733608611675,1.4609773401131103,1.4659248234814526,1.4720237663488756,1.4772963507681804,1.472299547925104,1.4783383774076015,1.4858619826497128,1.4719795037651617,1.4712359632971148,1.4820302264237075,1.4766509891800903,1.4864266998854703,1.4837998496069096,1.4977792374846028,1.4947499610042372,1.4888713882750892,1.4857284478627055,1.4863310621817125,1.4836200576933531,1.4892432188865616,1.4933451828399598,1.488970882650881,1.505785347854093,1.5072046536574817,1.4950422949092625,1.4981508114432396,1.4844348542234609,1.4802396168176795,1.4655803267043666,1.467722987412526,1.469081175200612,1.4623921889870188,1.4610952611693468,1.4527380468454643,1.4509740046593833,1.4433564493810043,1.4299729601933602,1.4343308066960616,1.4402681950890914,1.450400544023993,1.451201366981392,1.4636599067726972,1.469174914433457,1.476833004291575,1.4802068269084923,1.4878231167022817,1.4816362648476797,1.490987491661042,1.4983610107917835,1.5032777179692252,1.513399591735227,1.522925932425657,1.5083842881506675,1.5062314477840042,1.503062991510914,1.5114153643859292,1.5068049208544874,1.5049639331880789,1.5014658810358052,1.499961518496995,1.4938905230994994,1.5067972558744487,1.4982978292552767,1.505929736921818,1.5133397956743617,1.5127617618088833,1.517099460624043,1.5091477685178878,1.50274896651221,1.502199785479498,1.4900620799355768,1.4891920573009354,1.485730944559892,1.4974952328781455,1.4995367899155516,1.5038920503285758,1.5048916567494832,1.5015711327820402,1.4973518387689562,1.49248303210782,1.4824869497541007,1.4839563124630974,1.493948830934077,1.4965869368587468,1.4978615454984796,1.503173298016452,1.5055089213888095,1.5127146943267424,1.4944913468202572,1.4954029522307337,1.4990548212875903,1.4995228140753738,1.5121531466910294,1.5185160908502666,1.5076061137468666,1.513770581661667,1.502577089765172,1.4946956612893019,1.5012981158911278,1.4976876390700415,1.498263925602555,1.49275560640574,1.4895328556200298,1.4952506702892379,1.4931993281699951,1.4922786154258272,1.4868302669693094,1.4754988107190077,1.4609627170770219,1.466122472950345,1.4648576151543429,1.4785726134514297,1.487718500041266,1.4815607904388608,1.4792360148382462,1.47020350162904,1.4611507898400116,1.4564161419358166,1.4637701393106037,1.4664218244232379,1.459586079121747,1.4674123844711744,1.4680847416872667,1.4801635006697513,1.4647481554434725,1.466949333700245,1.4663669129929304,1.463890939653614,1.4644563649289315,1.4770535587045515,1.4825605348091169,1.4973678345730226,1.5016981218405363,1.5022993471519195,1.504564493495343,1.4992891864050724,1.4879490895898395,1.4995565240696351,1.4980235232307146,1.5146021657932616,1.502586112858493,1.49093433404787,1.5016477816256573,1.5063793697953543,1.503317200677979,1.513239044736474,1.5127980916758892,1.509414071069951,1.509781678113787,1.5093775590702496,1.5156046355344983,1.5218320324017176,1.5091249100405661,1.5165373852650532,1.5088640296558387,1.5154352133547035,1.5151448341605147,1.5075630176055332,1.4993164688988638,1.496899785704549,1.4921252206027475,1.4918525157363811,1.499730858374437,1.4945741854095407,1.501519747093702,1.4962591143807609,1.4914333622643008,1.5015745108742673,1.4954861923941318,1.507202215429546,1.508883114853423,1.5095499120163784,1.5122540562255873,1.5115807552676264,1.5107960404344793,1.5168504907663987,1.5105147116782405,1.5008722320419223,1.498477835116906,1.4933095353757417,1.4972587369352255,1.5083687921501034,1.498895041103386,1.4942767350974995,1.4990771121541229,1.489053208818723,1.4919252107705991,1.4995801364012664,1.5056501841323249,1.5038732285938636,1.4990512646824603,1.5055270860237822,1.5146910202450727,1.5150890342675514,1.5123020220143037,1.5079652328546749,1.4976709730770001,1.503818575316086,1.4944672707007385,1.4885767195643516,1.5066906122847816,1.5088349972141941,1.494791693049501,1.492068106571772,1.4934339138606372,1.4883824512014143,1.4893828911777443,1.4869872699159334,1.4804365235324062,1.4817673142195038,1.4831239864599486,1.4906585020686332,1.4946187183508983,1.4992740391907546,1.5016258805126503,1.4962028727103796,1.4942636364208814,1.4992414480402962,1.5032658753039339,1.5072453104962278,1.5026604942594,1.499498721895634,1.4917767847764707,1.4906154142090373,1.4932949866715035,1.4964767541968969,1.4936718933460194,1.4904970014986854,1.4968914132156366,1.4863998146540554,1.4881786098104537,1.4888480963403556,1.4884338681500746,1.476202491369395,1.4747637806190292,1.4804559012205345,1.4755169740834997,1.4849988160312326,1.4862352063167161,1.488433737425953,1.4895282607549083,1.4887375337181388,1.4898740484833222,1.491619845493589,1.4882654102007413,1.482203058702885,1.4909413911740255,1.492489508094703,1.4948062962051456,1.4907515147551142,1.4880375725963784,1.4885593253871698,1.4892940525910339,1.494809801791401,1.4875401812406228,1.4919106733893008,1.4946359225278607,1.4936135921736196,1.4874279983188217,1.4953435898952496,1.5041896313814125,1.4874914608777392,1.4813743260521506,1.4897358849540903,1.4963333378058148,1.4921752575235436,1.4960712409318224,1.4998657121881025,1.498455138652821,1.499329805454075,1.50143632487991,1.4950739092949485,1.4945625618885592,1.4989509700506916,1.4967198813863205,1.4844609672820526,1.4896653133270699,1.4869755534240539,1.4865771573649076,1.476448439249172,1.485776536800131,1.4852123635939127,1.4759321870879603,1.4849006082724978,1.482340631418136,1.4654638079403715,1.4692978089961874,1.4713317113211057,1.4702279726993461,1.4742771565629709,1.481521301545331,1.4877240098413191,1.4954031485546238,1.5017744689278667,1.5078310271846325,1.5137068411888397,1.5152253468655468,1.5245589149263574,1.5256884315154668,1.5372180294501352,1.546564153529092,1.5407327850889638,1.5350863625631064,1.5213822504437151,1.52166723526722,1.5187906141812164,1.513868513584786,1.5103991820082607,1.514109252501915,1.5117601502631335,1.5039605630457344,1.5097642903776962,1.5008672099174343,1.486154296051033,1.4807506317214347,1.4822876117130364,1.4906500248356678,1.4893051364761354,1.5004002615007797,1.492014315952641,1.4946296721175107,1.4989344394811572,1.5129179080889041,1.504483426659552,1.5102699310114909,1.5047789900627928,1.5017360085171125,1.5041135028816295,1.5088351441405015,1.5040178840795382,1.5015790484585219,1.4961574025177167,1.4953151278473038,1.49492454757448,1.5024529558005193,1.4939673324157334,1.4928630523034143,1.488038908591875,1.4874921585155638,1.4826329480479066,1.4819295532028869,1.483007700320665,1.4791254767525592,1.4764235791033948,1.4769673505722494,1.4817852497948252,1.4872616948183273,1.4837164183302471,1.4904681357334766,1.4867064419651872,1.499648175258835,1.5007700495503817,1.4966475990893136,1.496551720130833,1.5006890433005764,1.5131271581620391,1.5166455269863641,1.5154271796405585,1.5138018624985308,1.5198632823579374,1.5173612859721515,1.5167831376171914,1.537285901672438,1.5237782107942848,1.5232575345345063,1.5156263473588525,1.5112227823474769,1.5099203246092885,1.514071514909468,1.5140830802896061,1.49557390203103,1.488910727663559,1.5007683305374562,1.5076736948591816,1.511260838643875,1.5160958064182295,1.509029111812553,1.4989279363293992,1.503897678561422,1.49494816306288,1.4988399660504834,1.496831279792112,1.5032474229635833,1.4962107936898292,1.4867286408328027,1.506164297927512,1.5094136008331438,1.5019832417072696,1.5108945708187396,1.5126625710589072,1.5061911163607797,1.5001174408470888,1.5027176680537953,1.5095674298846613,1.5206339723521676,1.524844206078645,1.5314226097265722,1.5229275070482118,1.5195333806218665,1.5257727654479671,1.5226390103740792,1.5054948369280055,1.5123957385778113,1.5042668401657542,1.4929898963034096,1.4895594839781248,1.5051667825048298,1.5006645883011136,1.4992854456178597,1.5017269095619212,1.491028394623019,1.4942299892491595,1.496817106075476,1.4997519675024553,1.5010780602073055,1.4965642004768294,1.5149496928300779,1.5034521698345997,1.5121273879191526,1.5163314664368954,1.5126359493711485,1.5099974862397707,1.5121882401470657,1.5131250306588149,1.5132633971676417,1.5184689032132004,1.5127093008068035,1.5110251554417422,1.504358275874453,1.5029528697572383,1.5036040647719802,1.4985648012978876,1.5010273146194397,1.4931462028912088,1.4938699674868,1.5044533672179796,1.502820226191299,1.498625462525039,1.5034024751244337,1.507131754126643,1.5081607073931083,1.507472517909082,1.508600539049606,1.5199756522206447,1.516095768167156,1.5188569166430927,1.5206017011213437,1.5217406471416552,1.5295772138061616,1.5247037991324912,1.5199309237721006,1.5266121178997083,1.5260371383983131,1.5251664901770028,1.515864049663575,1.51269422445179,1.519700730236256,1.5224307341338923,1.518739080916627,1.523950508734462,1.5114698231464445,1.5065021061698645,1.5155216323287959,1.5012370025554977,1.5087347429827862,1.5065241783781553,1.5057691122026653,1.5117868047626264,1.5063870706939269,1.508159841846077,1.5155090555799082,1.513434870767575,1.5152583627145304,1.5158556246040538,1.514485111107054,1.5264493191433757,1.536763482216429,1.530739275442291,1.5373735413754805,1.532297156246303,1.5409159766085319,1.5349966013735639,1.5258797500676564,1.5283952727168904,1.5344003138250173,1.5275177026624154,1.5174343329457316,1.515577548160233,1.5239660194619167,1.5154512199056702,1.5166008975483465,1.5097685844873998,1.50078288939532,1.5089007824420226,1.5112052652956132,1.5147125358479647,1.5148991402548821,1.5203986859646268,1.5229012565740732,1.512584449116169,1.5138606743129837,1.5295076088459534,1.5259666368922202,1.5133887600134888,1.520807142272876,1.515912562361147,1.5278243736743207,1.5243234157084469,1.512161903170098,1.504220115870233,1.5055968636763812,1.5106192794432596,1.5076859226875816,1.5137138818543918,1.522557226896303,1.5323721645374613,1.525111546079135,1.5409267917048586,1.541243269533455,1.5429379258991578,1.5506444287164414,1.5440513733252526,1.5628335831331317,1.5665146167197765,1.5630113126784408,1.5568967118981467,1.5440483008863566,1.54854440058848,1.5295640707621714,1.5305973669672464,1.5314587556149795,1.527412226697288,1.5137218832730166,1.5182247935070337,1.52011873903654,1.5093868356740283,1.508419600191246,1.501702264117921,1.5022410029033229,1.505072125406044,1.505010137722987,1.5150742564479363,1.5177241173054425,1.5195846563996838,1.5165009127205848,1.494404371948758,1.50299152001168,1.5005600704438469,1.5008892186551899,1.495783159011368,1.500929993605981,1.4925583569469987,1.4837606947456758,1.4822589645480397,1.4900190585621356,1.4876361382851884,1.473824639176443,1.4653068212800766,1.4668473265196553,1.47287756930059,1.4854624878999099,1.4745012420747419,1.4715833484087095,1.4668405326457408,1.472189541092621,1.4719464830873221,1.478644999196422,1.4892404342976382,1.4952065696336376,1.4990073592098574,1.5000361566608262,1.5184003664655543,1.5262081731676518,1.5328967384841083,1.5295278447952418,1.5334658939831116,1.532774064031446,1.5355762493153482,1.5407561560272824,1.5380467026614952,1.5381270820110027,1.5375490670778011,1.53060098028562,1.526989918157915,1.5178127571273157,1.5144424660069187,1.5125992819012481,1.5106805799174556,1.5131575216102646,1.5114511711682705,1.5089486822938398,1.5160982672528462,1.520440255272979,1.5130233503324082,1.5170945838636423,1.5138892368985277,1.5089079662140497,1.5011552339525982,1.4866947832849595,1.490309213485913,1.4931671686700612,1.4877143854871824,1.4864621149972512,1.4786026148235882,1.481637705406759,1.4795637126014147,1.4754161064071165,1.4712761420902098,1.4793366432373205,1.4791157643679071,1.4841022120880856,1.487781939084789,1.5006392044080257,1.5139653915035525,1.514129193491802,1.5125288812804532,1.5151213497597382,1.5133856225963578,1.5128139506626062,1.509387192639906,1.5141799121188948,1.523301184107322,1.5218601999804682,1.5226238443771005,1.513063001691095,1.500887156485487,1.5018319290465114,1.5030921601586367,1.5065564570185113,1.5101538229714606,1.509537953055936,1.5162751770811913,1.5121573677300149,1.5214289053005965,1.530614116169454,1.5350960095282364,1.5345610266163172,1.5410355871636663,1.5454643324425281,1.5517564347959705,1.5656735261230854,1.5693631551123721,1.5671491376991373,1.5653601669906039,1.568322801314207,1.5795617851300752,1.5643541817757673,1.5707604714974424,1.570965094470542,1.5603157348428947,1.5517208222538708,1.542126580712617,1.5334024932675674,1.5350412055681923,1.5345456257346997,1.5387722950163303,1.5342671451591134,1.542142117059681,1.543367887956068,1.53793436704406,1.5264965807977053,1.5324229492382984,1.5335263832128778,1.5297135669833704,1.5336420835562876,1.5371520671148118,1.5476694739354875,1.5535430560929702,1.5489266633246948,1.547858352912302,1.5400577849068364,1.530626633888005,1.5190831109988268,1.5233589552851603,1.5301664960321735,1.5280599814583335,1.5359118806551275,1.5304636777447589,1.5286472813989198,1.5240957872360923,1.524710424163474,1.516239814271891,1.5193318719039175,1.5229676465865245,1.534208789351548,1.5333585577107443,1.5352854537688776,1.5335768035104442,1.527695945076721,1.517129310757188,1.5192580333197383,1.5146507641508984,1.518614903307586,1.5179736272746747,1.5170598666517132,1.5140510760103552,1.5205333475695624,1.5221629807379486,1.5081374666927028,1.498497611927102,1.4874730795397075,1.5061722195994813,1.5216697466592906,1.5153894049044234,1.514165486638285,1.506932092950016,1.5082595366206533,1.5080688445057453,1.509535622079784,1.5137289058817713,1.5255818450769614,1.5182489700238875,1.5188579861155025,1.5191662829415236,1.5205061928712136,1.5252511496749321,1.5186642334554412,1.5039014691400856,1.5215062623476265,1.5230942755408705,1.5359531006266933,1.5312854252852353,1.5329274304095786,1.535958907346291,1.538630165129098,1.5287867183939396,1.5219989948588741,1.5149879390976062,1.5172340357319627,1.5126779704898279,1.5171982047087114,1.5057081733494215,1.513580890691143,1.4956364276648249,1.5073441613906047,1.505795704941905,1.502372258373407,1.5065749067293381,1.5050051246021818,1.500852868909548,1.5000350629042563,1.5074901397214642,1.5044700535879352,1.5071529554663963,1.513402591600925,1.5193215273989304,1.5342668466305744,1.5274370562582893,1.5292446104808581,1.52105798405546,1.5224687259513,1.531874747800278,1.5242350377855323,1.5249441385234603,1.512179432682069,1.5031472137916353,1.5081870138103417,1.5103568948260697,1.5149381701956979,1.5122214096686093,1.5073161353081104,1.4994803856642647,1.506318475312628,1.509691422249504,1.5207111544216938,1.5132542767236827,1.5127406496342397,1.5110798036264137,1.5097828785199756,1.5266333566231425,1.53829786211874,1.5333259406830773,1.5337017381740983,1.5374779647219838,1.5422700384029364,1.5419500161790893,1.5520156472562425,1.5474290454031536,1.5442991513133468,1.5286823659849689,1.5358517248007957,1.5330657147602476,1.5313393154620978,1.5251543539843473,1.5254109188660854,1.5222093738427702,1.5271370198799408,1.5282027983951745,1.5332207827381352,1.5279742827186662,1.5288223613238794,1.519467183730876,1.51623417538223,1.514192933926188,1.5146308175886134,1.5117384853335656,1.50980907832142,1.5111199490362197,1.5175851063345362,1.514238621475791,1.5133920777502832,1.5157851858307063,1.5193202931621728,1.5136705225212155,1.5193676842947903,1.5190266939026666,1.5092627529272553,1.5153374366063115,1.5124242763270255,1.5204304106109703,1.5263316525803778,1.5269507284655446,1.5348799562044557,1.519506509292114,1.5152065139605535,1.524814535543419,1.515426868465435,1.5097243895836223],\"type\":\"scatter\"}],                        {\"template\":{\"data\":{\"barpolar\":[{\"marker\":{\"line\":{\"color\":\"white\",\"width\":0.5},\"pattern\":{\"fillmode\":\"overlay\",\"size\":10,\"solidity\":0.2}},\"type\":\"barpolar\"}],\"bar\":[{\"error_x\":{\"color\":\"rgb(36,36,36)\"},\"error_y\":{\"color\":\"rgb(36,36,36)\"},\"marker\":{\"line\":{\"color\":\"white\",\"width\":0.5},\"pattern\":{\"fillmode\":\"overlay\",\"size\":10,\"solidity\":0.2}},\"type\":\"bar\"}],\"carpet\":[{\"aaxis\":{\"endlinecolor\":\"rgb(36,36,36)\",\"gridcolor\":\"white\",\"linecolor\":\"white\",\"minorgridcolor\":\"white\",\"startlinecolor\":\"rgb(36,36,36)\"},\"baxis\":{\"endlinecolor\":\"rgb(36,36,36)\",\"gridcolor\":\"white\",\"linecolor\":\"white\",\"minorgridcolor\":\"white\",\"startlinecolor\":\"rgb(36,36,36)\"},\"type\":\"carpet\"}],\"choropleth\":[{\"colorbar\":{\"outlinewidth\":1,\"tickcolor\":\"rgb(36,36,36)\",\"ticks\":\"outside\"},\"type\":\"choropleth\"}],\"contourcarpet\":[{\"colorbar\":{\"outlinewidth\":1,\"tickcolor\":\"rgb(36,36,36)\",\"ticks\":\"outside\"},\"type\":\"contourcarpet\"}],\"contour\":[{\"colorbar\":{\"outlinewidth\":1,\"tickcolor\":\"rgb(36,36,36)\",\"ticks\":\"outside\"},\"colorscale\":[[0.0,\"#440154\"],[0.1111111111111111,\"#482878\"],[0.2222222222222222,\"#3e4989\"],[0.3333333333333333,\"#31688e\"],[0.4444444444444444,\"#26828e\"],[0.5555555555555556,\"#1f9e89\"],[0.6666666666666666,\"#35b779\"],[0.7777777777777778,\"#6ece58\"],[0.8888888888888888,\"#b5de2b\"],[1.0,\"#fde725\"]],\"type\":\"contour\"}],\"heatmapgl\":[{\"colorbar\":{\"outlinewidth\":1,\"tickcolor\":\"rgb(36,36,36)\",\"ticks\":\"outside\"},\"colorscale\":[[0.0,\"#440154\"],[0.1111111111111111,\"#482878\"],[0.2222222222222222,\"#3e4989\"],[0.3333333333333333,\"#31688e\"],[0.4444444444444444,\"#26828e\"],[0.5555555555555556,\"#1f9e89\"],[0.6666666666666666,\"#35b779\"],[0.7777777777777778,\"#6ece58\"],[0.8888888888888888,\"#b5de2b\"],[1.0,\"#fde725\"]],\"type\":\"heatmapgl\"}],\"heatmap\":[{\"colorbar\":{\"outlinewidth\":1,\"tickcolor\":\"rgb(36,36,36)\",\"ticks\":\"outside\"},\"colorscale\":[[0.0,\"#440154\"],[0.1111111111111111,\"#482878\"],[0.2222222222222222,\"#3e4989\"],[0.3333333333333333,\"#31688e\"],[0.4444444444444444,\"#26828e\"],[0.5555555555555556,\"#1f9e89\"],[0.6666666666666666,\"#35b779\"],[0.7777777777777778,\"#6ece58\"],[0.8888888888888888,\"#b5de2b\"],[1.0,\"#fde725\"]],\"type\":\"heatmap\"}],\"histogram2dcontour\":[{\"colorbar\":{\"outlinewidth\":1,\"tickcolor\":\"rgb(36,36,36)\",\"ticks\":\"outside\"},\"colorscale\":[[0.0,\"#440154\"],[0.1111111111111111,\"#482878\"],[0.2222222222222222,\"#3e4989\"],[0.3333333333333333,\"#31688e\"],[0.4444444444444444,\"#26828e\"],[0.5555555555555556,\"#1f9e89\"],[0.6666666666666666,\"#35b779\"],[0.7777777777777778,\"#6ece58\"],[0.8888888888888888,\"#b5de2b\"],[1.0,\"#fde725\"]],\"type\":\"histogram2dcontour\"}],\"histogram2d\":[{\"colorbar\":{\"outlinewidth\":1,\"tickcolor\":\"rgb(36,36,36)\",\"ticks\":\"outside\"},\"colorscale\":[[0.0,\"#440154\"],[0.1111111111111111,\"#482878\"],[0.2222222222222222,\"#3e4989\"],[0.3333333333333333,\"#31688e\"],[0.4444444444444444,\"#26828e\"],[0.5555555555555556,\"#1f9e89\"],[0.6666666666666666,\"#35b779\"],[0.7777777777777778,\"#6ece58\"],[0.8888888888888888,\"#b5de2b\"],[1.0,\"#fde725\"]],\"type\":\"histogram2d\"}],\"histogram\":[{\"marker\":{\"line\":{\"color\":\"white\",\"width\":0.6}},\"type\":\"histogram\"}],\"mesh3d\":[{\"colorbar\":{\"outlinewidth\":1,\"tickcolor\":\"rgb(36,36,36)\",\"ticks\":\"outside\"},\"type\":\"mesh3d\"}],\"parcoords\":[{\"line\":{\"colorbar\":{\"outlinewidth\":1,\"tickcolor\":\"rgb(36,36,36)\",\"ticks\":\"outside\"}},\"type\":\"parcoords\"}],\"pie\":[{\"automargin\":true,\"type\":\"pie\"}],\"scatter3d\":[{\"line\":{\"colorbar\":{\"outlinewidth\":1,\"tickcolor\":\"rgb(36,36,36)\",\"ticks\":\"outside\"}},\"marker\":{\"colorbar\":{\"outlinewidth\":1,\"tickcolor\":\"rgb(36,36,36)\",\"ticks\":\"outside\"}},\"type\":\"scatter3d\"}],\"scattercarpet\":[{\"marker\":{\"colorbar\":{\"outlinewidth\":1,\"tickcolor\":\"rgb(36,36,36)\",\"ticks\":\"outside\"}},\"type\":\"scattercarpet\"}],\"scattergeo\":[{\"marker\":{\"colorbar\":{\"outlinewidth\":1,\"tickcolor\":\"rgb(36,36,36)\",\"ticks\":\"outside\"}},\"type\":\"scattergeo\"}],\"scattergl\":[{\"marker\":{\"colorbar\":{\"outlinewidth\":1,\"tickcolor\":\"rgb(36,36,36)\",\"ticks\":\"outside\"}},\"type\":\"scattergl\"}],\"scattermapbox\":[{\"marker\":{\"colorbar\":{\"outlinewidth\":1,\"tickcolor\":\"rgb(36,36,36)\",\"ticks\":\"outside\"}},\"type\":\"scattermapbox\"}],\"scatterpolargl\":[{\"marker\":{\"colorbar\":{\"outlinewidth\":1,\"tickcolor\":\"rgb(36,36,36)\",\"ticks\":\"outside\"}},\"type\":\"scatterpolargl\"}],\"scatterpolar\":[{\"marker\":{\"colorbar\":{\"outlinewidth\":1,\"tickcolor\":\"rgb(36,36,36)\",\"ticks\":\"outside\"}},\"type\":\"scatterpolar\"}],\"scatter\":[{\"fillpattern\":{\"fillmode\":\"overlay\",\"size\":10,\"solidity\":0.2},\"type\":\"scatter\"}],\"scatterternary\":[{\"marker\":{\"colorbar\":{\"outlinewidth\":1,\"tickcolor\":\"rgb(36,36,36)\",\"ticks\":\"outside\"}},\"type\":\"scatterternary\"}],\"surface\":[{\"colorbar\":{\"outlinewidth\":1,\"tickcolor\":\"rgb(36,36,36)\",\"ticks\":\"outside\"},\"colorscale\":[[0.0,\"#440154\"],[0.1111111111111111,\"#482878\"],[0.2222222222222222,\"#3e4989\"],[0.3333333333333333,\"#31688e\"],[0.4444444444444444,\"#26828e\"],[0.5555555555555556,\"#1f9e89\"],[0.6666666666666666,\"#35b779\"],[0.7777777777777778,\"#6ece58\"],[0.8888888888888888,\"#b5de2b\"],[1.0,\"#fde725\"]],\"type\":\"surface\"}],\"table\":[{\"cells\":{\"fill\":{\"color\":\"rgb(237,237,237)\"},\"line\":{\"color\":\"white\"}},\"header\":{\"fill\":{\"color\":\"rgb(217,217,217)\"},\"line\":{\"color\":\"white\"}},\"type\":\"table\"}]},\"layout\":{\"annotationdefaults\":{\"arrowhead\":0,\"arrowwidth\":1},\"autotypenumbers\":\"strict\",\"coloraxis\":{\"colorbar\":{\"outlinewidth\":1,\"tickcolor\":\"rgb(36,36,36)\",\"ticks\":\"outside\"}},\"colorscale\":{\"diverging\":[[0.0,\"rgb(103,0,31)\"],[0.1,\"rgb(178,24,43)\"],[0.2,\"rgb(214,96,77)\"],[0.3,\"rgb(244,165,130)\"],[0.4,\"rgb(253,219,199)\"],[0.5,\"rgb(247,247,247)\"],[0.6,\"rgb(209,229,240)\"],[0.7,\"rgb(146,197,222)\"],[0.8,\"rgb(67,147,195)\"],[0.9,\"rgb(33,102,172)\"],[1.0,\"rgb(5,48,97)\"]],\"sequential\":[[0.0,\"#440154\"],[0.1111111111111111,\"#482878\"],[0.2222222222222222,\"#3e4989\"],[0.3333333333333333,\"#31688e\"],[0.4444444444444444,\"#26828e\"],[0.5555555555555556,\"#1f9e89\"],[0.6666666666666666,\"#35b779\"],[0.7777777777777778,\"#6ece58\"],[0.8888888888888888,\"#b5de2b\"],[1.0,\"#fde725\"]],\"sequentialminus\":[[0.0,\"#440154\"],[0.1111111111111111,\"#482878\"],[0.2222222222222222,\"#3e4989\"],[0.3333333333333333,\"#31688e\"],[0.4444444444444444,\"#26828e\"],[0.5555555555555556,\"#1f9e89\"],[0.6666666666666666,\"#35b779\"],[0.7777777777777778,\"#6ece58\"],[0.8888888888888888,\"#b5de2b\"],[1.0,\"#fde725\"]]},\"colorway\":[\"#1F77B4\",\"#FF7F0E\",\"#2CA02C\",\"#D62728\",\"#9467BD\",\"#8C564B\",\"#E377C2\",\"#7F7F7F\",\"#BCBD22\",\"#17BECF\"],\"font\":{\"color\":\"rgb(36,36,36)\"},\"geo\":{\"bgcolor\":\"white\",\"lakecolor\":\"white\",\"landcolor\":\"white\",\"showlakes\":true,\"showland\":true,\"subunitcolor\":\"white\"},\"hoverlabel\":{\"align\":\"left\"},\"hovermode\":\"closest\",\"mapbox\":{\"style\":\"light\"},\"paper_bgcolor\":\"white\",\"plot_bgcolor\":\"white\",\"polar\":{\"angularaxis\":{\"gridcolor\":\"rgb(232,232,232)\",\"linecolor\":\"rgb(36,36,36)\",\"showgrid\":false,\"showline\":true,\"ticks\":\"outside\"},\"bgcolor\":\"white\",\"radialaxis\":{\"gridcolor\":\"rgb(232,232,232)\",\"linecolor\":\"rgb(36,36,36)\",\"showgrid\":false,\"showline\":true,\"ticks\":\"outside\"}},\"scene\":{\"xaxis\":{\"backgroundcolor\":\"white\",\"gridcolor\":\"rgb(232,232,232)\",\"gridwidth\":2,\"linecolor\":\"rgb(36,36,36)\",\"showbackground\":true,\"showgrid\":false,\"showline\":true,\"ticks\":\"outside\",\"zeroline\":false,\"zerolinecolor\":\"rgb(36,36,36)\"},\"yaxis\":{\"backgroundcolor\":\"white\",\"gridcolor\":\"rgb(232,232,232)\",\"gridwidth\":2,\"linecolor\":\"rgb(36,36,36)\",\"showbackground\":true,\"showgrid\":false,\"showline\":true,\"ticks\":\"outside\",\"zeroline\":false,\"zerolinecolor\":\"rgb(36,36,36)\"},\"zaxis\":{\"backgroundcolor\":\"white\",\"gridcolor\":\"rgb(232,232,232)\",\"gridwidth\":2,\"linecolor\":\"rgb(36,36,36)\",\"showbackground\":true,\"showgrid\":false,\"showline\":true,\"ticks\":\"outside\",\"zeroline\":false,\"zerolinecolor\":\"rgb(36,36,36)\"}},\"shapedefaults\":{\"fillcolor\":\"black\",\"line\":{\"width\":0},\"opacity\":0.3},\"ternary\":{\"aaxis\":{\"gridcolor\":\"rgb(232,232,232)\",\"linecolor\":\"rgb(36,36,36)\",\"showgrid\":false,\"showline\":true,\"ticks\":\"outside\"},\"baxis\":{\"gridcolor\":\"rgb(232,232,232)\",\"linecolor\":\"rgb(36,36,36)\",\"showgrid\":false,\"showline\":true,\"ticks\":\"outside\"},\"bgcolor\":\"white\",\"caxis\":{\"gridcolor\":\"rgb(232,232,232)\",\"linecolor\":\"rgb(36,36,36)\",\"showgrid\":false,\"showline\":true,\"ticks\":\"outside\"}},\"title\":{\"x\":0.05},\"xaxis\":{\"automargin\":true,\"gridcolor\":\"rgb(232,232,232)\",\"linecolor\":\"rgb(36,36,36)\",\"showgrid\":false,\"showline\":true,\"ticks\":\"outside\",\"title\":{\"standoff\":15},\"zeroline\":false,\"zerolinecolor\":\"rgb(36,36,36)\"},\"yaxis\":{\"automargin\":true,\"gridcolor\":\"rgb(232,232,232)\",\"linecolor\":\"rgb(36,36,36)\",\"showgrid\":false,\"showline\":true,\"ticks\":\"outside\",\"title\":{\"standoff\":15},\"zeroline\":false,\"zerolinecolor\":\"rgb(36,36,36)\"}}},\"title\":{\"text\":\"Mean reward over all runs\"},\"height\":450,\"width\":750},                        {\"displayModeBar\": false, \"responsive\": true}                    ).then(function(){\n",
              "                            \n",
              "var gd = document.getElementById('4aca1299-09e4-43c0-aff4-9cfe3d007d62');\n",
              "var x = new MutationObserver(function (mutations, observer) {{\n",
              "        var display = window.getComputedStyle(gd).display;\n",
              "        if (!display || display === 'none') {{\n",
              "            console.log([gd, 'removed!']);\n",
              "            Plotly.purge(gd);\n",
              "            observer.disconnect();\n",
              "        }}\n",
              "}});\n",
              "\n",
              "// Listen for the removal of the full notebook cells\n",
              "var notebookContainer = gd.closest('#notebook-container');\n",
              "if (notebookContainer) {{\n",
              "    x.observe(notebookContainer, {childList: true});\n",
              "}}\n",
              "\n",
              "// Listen for the clearing of the current output cell\n",
              "var outputEl = gd.closest('.output');\n",
              "if (outputEl) {{\n",
              "    x.observe(outputEl, {childList: true});\n",
              "}}\n",
              "\n",
              "                        })                };                            </script>        </div>\n",
              "</body>\n",
              "</html>"
            ]
          },
          "metadata": {}
        }
      ],
      "source": [
        "class RewardAveraging(Agent):\n",
        "    def __init__(self, num_arms: int, seed: int, epsilon: float, optimism: float):\n",
        "        self.epsilon = epsilon\n",
        "        self.optimism = optimism\n",
        "\n",
        "        self.q = np.full(shape=(num_arms), fill_value=self.optimism, dtype=float)\n",
        "        self.n = np.zeros(shape=(num_arms), dtype=int)\n",
        "\n",
        "        super().__init__(num_arms, seed)\n",
        "\n",
        "    def get_action(self):\n",
        "        if self.rng.random() <= self.epsilon:\n",
        "            return self.rng.integers(0, self.num_arms)\n",
        "        else:\n",
        "            return int(np.argmax(self.q))\n",
        "\n",
        "    def observe(self, action, reward, info):\n",
        "        # the N array for the chosen arm gets increased\n",
        "        self.n[action] += 1\n",
        "        # based on the reward, we update the estimate of q\n",
        "        self.q[action] += (reward - self.q[action]) / self.n[action]\n",
        "\n",
        "    def reset(self, seed: int):\n",
        "        # reset random\n",
        "        super().reset(seed)\n",
        "        # back to initial state\n",
        "        self.q = np.full(shape=(self.num_arms), fill_value=self.optimism, dtype=float)\n",
        "        self.n = np.zeros(shape=(self.num_arms), dtype=int)\n",
        "\n",
        "\n",
        "    def __repr__(self):\n",
        "        # For the legend, when plotting\n",
        "        return f\"RewardAveraging(eps={self.epsilon}, optimism={self.optimism})\"\n",
        "\n",
        "\n",
        "num_arms = 10\n",
        "stationary = True\n",
        "names = []\n",
        "all_rewards = []\n",
        "env = gym.make(\"ArmedBanditTestbed-v0\", num_arms=num_arms, stationary=stationary)\n",
        "\n",
        "for optimism in [0, 5]:\n",
        "    agent = RewardAveraging(num_arms, 0, epsilon=0.01, optimism=optimism)\n",
        "    (rewards, num_correct) = run_agent(env, agent, n_runs=N_RUNS, base_seed=1)\n",
        "    all_rewards.append(rewards)\n",
        "    names.append(str(agent))\n",
        "    print(agent)\n",
        "    print(f\" -> Frequency of correct arm: {num_correct.mean():.4f}\")\n",
        "    print(f\" -> Average reward: {rewards.mean():.4f}\")\n",
        "\n",
        "utils.plot_rewards(all_rewards, names, moving_avg_window=15)"
      ]
    },
    {
      "cell_type": "markdown",
      "metadata": {
        "id": "T98_l0lRytjA"
      },
      "source": [
        "<details>\n",
        "<summary>Question - can you interpret these results?</summary>\n",
        "\n",
        "At the very start, the more optimistic agent performs worse, because it explores more and exploits less (here you will see it at the very beginning if you zoom in). Its estimates are wildly over-optimistic, so even if it finds a good arm, its Q-value for that arm will decrease. On the other hand, if the realistic agent finds a good arm early on, it'll probably return to exploit it.\n",
        "\n",
        "However, the optimistic agent eventually outperforms the realistic agent, because its increased exploration means it's more likely to converge on the best arm.\n",
        "</details>\n",
        "\n",
        "<details>\n",
        "<summary>Question - how do you think these results would change if epsilon was decreased for both agents?</summary>\n",
        "\n",
        "You should expect the optimistic agent to outperform the realistic agent even more. The smaller epsilon is, the more necessary optimism is (because without it the agent won't explore enough).\n",
        "</details>\n",
        "\n",
        "\n",
        "<details><summary>Solution</summary>\n",
        "\n",
        "```python\n",
        "class RewardAveraging(Agent):\n",
        "    def __init__(self, num_arms: int, seed: int, epsilon: float, optimism: float):\n",
        "        self.epsilon = epsilon\n",
        "        self.optimism = optimism\n",
        "        super().__init__(num_arms, seed)\n",
        "\n",
        "    def get_action(self):\n",
        "        if self.rng.random() < self.epsilon:\n",
        "            return self.rng.integers(low=0, high=self.num_arms).item()\n",
        "        else:\n",
        "            return np.argmax(self.Q)\n",
        "\n",
        "    def observe(self, action, reward, info):\n",
        "        self.N[action] += 1\n",
        "        self.Q[action] += (reward - self.Q[action]) / self.N[action]\n",
        "\n",
        "    def reset(self, seed: int):\n",
        "        super().reset(seed)\n",
        "        self.N = np.zeros(self.num_arms)\n",
        "        self.Q = np.full(self.num_arms, self.optimism, dtype=float)\n",
        "\n",
        "    def __repr__(self):\n",
        "        # For the legend, when plotting\n",
        "        return f\"RewardAveraging(eps={self.epsilon}, optimism={self.optimism})\"\n",
        "```\n",
        "</details>"
      ]
    },
    {
      "cell_type": "markdown",
      "metadata": {
        "id": "xILlg1ZtytjA"
      },
      "source": [
        "### Exercise - implement cheater agent\n",
        "\n",
        "> ```yaml\n",
        "> Difficulty: 🔴🔴⚪⚪⚪\n",
        "> Importance: 🔵🔵🔵⚪⚪\n",
        ">\n",
        "> You should spend up to 5-15 minutes on this exercise.\n",
        "> It's important for you to understand why cheater agents are important for debugging.\n",
        "> ```\n",
        "\n",
        "The cheater agent will always choose the best arm. It's a good idea to implement, because you can compare your other agents to it to make sure they're not doing better than the cheater (if they are, you probably have a bug!).\n",
        "\n",
        "You should fill in the methods `get_action` and `observe` below. The cheater agent will always choose the best arm available to it (remember that the best arm is stored in the `info` dictionary of each observation - see the `step` method in the `MultiArmedBandit` class)."
      ]
    },
    {
      "cell_type": "code",
      "execution_count": 17,
      "metadata": {
        "id": "7RiowFpqytjA",
        "outputId": "670c9d6b-5f99-4405-c1bd-e49fb037ed73",
        "colab": {
          "base_uri": "https://localhost:8080/",
          "height": 538
        }
      },
      "outputs": [
        {
          "output_type": "stream",
          "name": "stderr",
          "text": [
            "100%|██████████| 200/200 [00:00<00:00, 208.82it/s]\n",
            "100%|██████████| 200/200 [00:02<00:00, 73.95it/s]\n",
            "100%|██████████| 200/200 [00:01<00:00, 113.22it/s]\n"
          ]
        },
        {
          "output_type": "display_data",
          "data": {
            "text/html": [
              "<html>\n",
              "<head><meta charset=\"utf-8\" /></head>\n",
              "<body>\n",
              "    <div>            <script src=\"https://cdnjs.cloudflare.com/ajax/libs/mathjax/2.7.5/MathJax.js?config=TeX-AMS-MML_SVG\"></script><script type=\"text/javascript\">if (window.MathJax && window.MathJax.Hub && window.MathJax.Hub.Config) {window.MathJax.Hub.Config({SVG: {font: \"STIX-Web\"}});}</script>                <script type=\"text/javascript\">window.PlotlyConfig = {MathJaxConfig: 'local'};</script>\n",
              "        <script charset=\"utf-8\" src=\"https://cdn.plot.ly/plotly-2.35.2.min.js\"></script>                <div id=\"6c94f1e2-17d8-4359-861d-abc776bd7af6\" class=\"plotly-graph-div\" style=\"height:450px; width:750px;\"></div>            <script type=\"text/javascript\">                                    window.PLOTLYENV=window.PLOTLYENV || {};                                    if (document.getElementById(\"6c94f1e2-17d8-4359-861d-abc776bd7af6\")) {                    Plotly.newPlot(                        \"6c94f1e2-17d8-4359-861d-abc776bd7af6\",                        [{\"mode\":\"lines\",\"name\":\"Cheater\",\"y\":[1.48430664354447,1.6031731168107308,1.586067116259427,1.5791920523359144,1.580962279377163,1.5865026368187896,1.5884766676671964,1.5907087970578024,1.578565847450274,1.5766865568986568,1.563976135040125,1.5677980082348832,1.5586547375269362,1.5705960051449008,1.5730138493338297,1.5678395401492937,1.5810772988719919,1.5930096439624655,1.586492492164733,1.5833659509762275,1.583817054042154,1.576281148760726,1.5740502307765283,1.5799718597457248,1.5799734093979017,1.5962527728604963,1.5948841704594197,1.61669415827941,1.6158782158778147,1.6127956044472795,1.6248811432322308,1.6108642387342063,1.6044367441114151,1.6157824171399113,1.625598650234315,1.6159007427310437,1.6195066622067154,1.626541348503676,1.6212945853756768,1.6181104655113998,1.607486145873502,1.6061121244722414,1.5869642687849876,1.5903278357918376,1.5975939506126668,1.5874317174617867,1.5939111188133361,1.5990004622772014,1.588182850640348,1.5785939296572205,1.5832249844108504,1.590186332491722,1.5846184024273091,1.601005575464319,1.6166287673401825,1.6167129570395133,1.6200431781779598,1.6215975851245967,1.6198236313611658,1.605844430063549,1.615666798544793,1.6092996472916554,1.6105189292009356,1.617007868350341,1.6142076529168226,1.6148330125530663,1.6028328012456663,1.5925393423424272,1.5796400581930699,1.5673273048216023,1.570083997909152,1.576988872363259,1.5797614834254516,1.566078605558668,1.57391159934371,1.566519580291928,1.5701752691495272,1.561623623552731,1.5662173277081688,1.5678027090734077,1.561051511604118,1.5689606300703824,1.5827080315126827,1.5892114282305594,1.5956919419937472,1.5933305746254784,1.5791101992771113,1.5757542820657326,1.5804876173151967,1.5775437863210395,1.5727268278799877,1.5718213004841894,1.566698923125792,1.5620071322928235,1.56285305516642,1.5664458076187202,1.566875055275536,1.5612753177886607,1.5587587816785988,1.5498478936855482,1.5535673279681779,1.5583998742758884,1.5625295978961902,1.5622058579301514,1.5618968618425053,1.5668437341056156,1.5689048566659891,1.5799866718863125,1.578494151951287,1.584915422352331,1.5863089474260468,1.5932648960159668,1.595404011487102,1.587229682963571,1.60164040209843,1.60228196970232,1.6030220926682888,1.609219191388242,1.609170773386478,1.6043199155450945,1.6076182714406628,1.6157535881402965,1.6116079436420876,1.6205983865647569,1.6174004067691252,1.6306230709954965,1.6288994831388928,1.6296450694345745,1.6341311668654555,1.6291060701038438,1.6316107904035297,1.636524765341064,1.6428297536474608,1.645823792892666,1.6482197097842857,1.6513079712842038,1.6369943872659956,1.6446167460784087,1.6373422992524014,1.6400190427917267,1.6343491647664166,1.6227231431825582,1.6195857983298443,1.6255661916890385,1.6171941704432224,1.6065814491474764,1.5958001332794027,1.5900679038149121,1.5830161083714755,1.5859832193934418,1.5831987524987274,1.5859145381988506,1.588737451671195,1.5912419849352413,1.5901800649193016,1.5758650945133164,1.5810300986765318,1.5869341570706108,1.5760361517091668,1.580404434574757,1.5890029079919317,1.5918112208483117,1.5815297915137725,1.5899349647454148,1.589135410056584,1.592531040082963,1.5867270555446302,1.5721427826761176,1.5745652100835628,1.578604286603589,1.5861676413377608,1.5912277983960241,1.585299654619799,1.5913401512617649,1.5988228923711745,1.5854891579272552,1.584511755957188,1.5966686951548694,1.5931602157426292,1.6047671799414427,1.6002324070509795,1.6148582164508336,1.6132974886671454,1.6090118735694394,1.6065779221082457,1.6067257064103047,1.6045525314736173,1.6111485287875362,1.6165130786623536,1.6126657806189921,1.629245671893716,1.631356513346255,1.618946007269479,1.6205585622870482,1.6068649019263412,1.603509203425305,1.5893935233751335,1.5898719227192335,1.5912530827482139,1.583664507301133,1.5809630668015606,1.574309822894793,1.5714009878221342,1.5647723007258947,1.5526549275965331,1.5562494936653024,1.5598322273645484,1.571091712396128,1.5733225006795768,1.5831539685764673,1.5911976381523611,1.5989426160495328,1.601973738107726,1.6077271272288498,1.601655075955898,1.612587036661019,1.6179267048063746,1.622560937448308,1.6301827191509537,1.6380032230122046,1.6258769904899357,1.6259480237735109,1.6209939915719436,1.628546843159874,1.625630933774384,1.6211209708705534,1.6171089992428733,1.6170250216944206,1.6107931244906089,1.6236690843865669,1.6129097762517821,1.6201364917101273,1.6275376522200342,1.628450384775033,1.633597144933579,1.6242091852822265,1.6172713752923642,1.6182960029896094,1.6076754081968716,1.606309452130726,1.6023188658626206,1.6129607375797832,1.6136511688117934,1.6191780918254797,1.6203349561662397,1.618195671518754,1.614630168916627,1.611976447638195,1.6008881959976862,1.601078424405815,1.6108527766952307,1.6123341378946483,1.6111374472283273,1.614373173469672,1.617669604884994,1.6254960116942963,1.6065696343589744,1.6088110272325329,1.612304355753046,1.6128644455510084,1.625406186856003,1.6295002184313527,1.6177922454238152,1.6242522030250712,1.617621554951567,1.6087043250912225,1.6148335705999557,1.6129297662637139,1.6139266224313018,1.6070792029448777,1.6026391345032645,1.6085347362816529,1.6082431386579628,1.606303693742196,1.5997928601650528,1.588236200066884,1.5771256109375031,1.5828083692859802,1.5806829127562347,1.5911924521224932,1.601023055273591,1.5959517142951767,1.5926225675143542,1.5833906862033662,1.575481081472852,1.5713084299905518,1.578504887170258,1.5793069678834892,1.5733472724835906,1.582345279506213,1.5853420495371855,1.595017907506057,1.5770618774117982,1.5798168282881306,1.5805527423001005,1.5777177510589468,1.5774326675884291,1.5903922999182176,1.5947615398756398,1.60738362872479,1.6131105500263287,1.6137952099706505,1.6153594137426732,1.6100070194405285,1.5982181022398587,1.6065713425646322,1.6057193311075972,1.6227723481159917,1.6122447438821192,1.598457120417106,1.6090022191364104,1.6157822194817073,1.6127980466073912,1.6227198906658828,1.6250304074376838,1.6231802479597528,1.6233414638873076,1.6242635833980141,1.6298351625085579,1.636201272987868,1.6240040384941836,1.6298798345756345,1.6226139059656892,1.6271157785532675,1.6272710090734488,1.6195047529266882,1.6103367975938074,1.6077900070347444,1.603481481880984,1.6013784394674682,1.6072636212913418,1.6022464514465733,1.6082811662463579,1.60328021420684,1.5986588599559355,1.608478127931888,1.603470149485535,1.6138575997334177,1.616722807192726,1.6166124299347606,1.6202457937164505,1.618551634227371,1.6166995629766385,1.622330402914478,1.6171616415050645,1.6076436764030102,1.6073210011213632,1.6010791042784907,1.6046108623110664,1.6147943035517605,1.6071431689871285,1.602763141940568,1.6106742141556576,1.6000800396352437,1.6039183676229414,1.610636343416248,1.6165741563750922,1.615717895184927,1.6108754087352812,1.6153180830262348,1.6255718673844664,1.624505906721159,1.6227396395534925,1.6191606622904753,1.6086485247856672,1.6133099284718961,1.6048644730600017,1.5970174209841388,1.6157051134065115,1.617964308505202,1.6039458856584663,1.6030683991151895,1.6035246730032364,1.5986339011868647,1.5997724344787456,1.5943748908326825,1.5879762492311784,1.5885463358811118,1.590236443999667,1.5977372704538917,1.6021985272194115,1.6046216495978343,1.6060296817058997,1.5998296733556798,1.5977087350267387,1.602707033553088,1.6053279317792506,1.6109522328569028,1.60648209518882,1.604667522529591,1.5969455854104277,1.5951290138450456,1.5973971745488293,1.5994671717612619,1.5984680281944974,1.5942895777169421,1.6026163794435433,1.5943203835879407,1.5969497631755682,1.5971280547088402,1.5979188467489773,1.5881218817101777,1.5860801350343006,1.5932896178299492,1.588493416538457,1.598118428147192,1.6014512704531172,1.6048941923753242,1.6062559315390217,1.6042767037590617,1.6061369593297286,1.6070476384698245,1.602572729865877,1.5965621075415433,1.6074265722625418,1.6092923247116233,1.6108709525477782,1.6057426576521796,1.6016859687614822,1.6020508172667556,1.6028611854737391,1.6060285985270033,1.5974969150792806,1.6025223269326412,1.6043699476628868,1.6034270724757562,1.5959503057501023,1.6027719897540995,1.6109319948555367,1.5921374601330172,1.5847763175934915,1.5902872787303144,1.5970876105961906,1.5923083321370237,1.5946599966232118,1.5984259667472012,1.599595609238592,1.6001982415129987,1.6029551000461348,1.5978883174489436,1.5970569507188277,1.6021335963141914,1.600258045175959,1.5874664696228062,1.593203219036847,1.5916304102944878,1.5911089695124019,1.5804580284911025,1.5896379954537603,1.5895831536730232,1.5805526910420666,1.5891278631467989,1.587265580776807,1.5696472933340146,1.5737690165346672,1.5774896396618336,1.5760509319120577,1.579315224052895,1.5888352890980741,1.5951650929584427,1.601083920349894,1.6075047010139694,1.6168120385571,1.623349842216832,1.6255770065406143,1.6349933901014007,1.6343764774385818,1.6466793212994995,1.6565569187033133,1.6490920709430534,1.64213365285093,1.6294833966989093,1.6313805344498102,1.6292713798409977,1.6223369692275205,1.6196112754483996,1.6248540965369558,1.6203391960762852,1.6132205710154266,1.6175601687253902,1.6076269019382303,1.5944293872979112,1.5896522472945966,1.5893133958595476,1.6004072736958885,1.5987947453609574,1.6085569843756276,1.6005088401267433,1.6001225299499842,1.6055808536337433,1.619819855280419,1.6114798740256597,1.6175709575087618,1.6105430612193308,1.6076764627813798,1.6108252088524446,1.6146444945375833,1.6103052534798128,1.6092056445421576,1.6020066366391574,1.6016375116908192,1.6016085511051188,1.609079397294416,1.602418263149381,1.6000184583220516,1.5963598937964663,1.5961132305595507,1.5904350647036987,1.5924232428271807,1.5975559957934289,1.5929025205187828,1.5907931785589502,1.5917115666738861,1.595697489852561,1.6003307131079283,1.5977514440002096,1.6039748225781372,1.6002188052342186,1.6115746176773427,1.6138973443230422,1.610565268333221,1.6083425848473325,1.6124775999081369,1.622218678411241,1.6214261813715212,1.620978113108375,1.6183687538911196,1.6215594095801635,1.6188700848837092,1.6195491694299942,1.6384408551759029,1.6276943283060594,1.6292342189858497,1.6207017503722077,1.615812462144489,1.611598550724769,1.616587556798519,1.615839088826495,1.5984652679835032,1.5925680443235932,1.605112246066915,1.612265288090157,1.6155517217247886,1.6200690340453698,1.6123382674591766,1.6028685481028637,1.6062084361965845,1.5936734637851335,1.5975729970376127,1.5958831059926069,1.6027819325051647,1.5949482134169861,1.5874034140521038,1.6062550368295585,1.609223695226577,1.5999450615451603,1.6075291258039064,1.6096746231275423,1.604693961844411,1.5994133646827853,1.602103276736701,1.6081267715931895,1.62041558634722,1.624352401088178,1.6294642894254443,1.62167136170364,1.6189570533141553,1.6228762619473855,1.619812323973118,1.6045833333248918,1.6136834941294487,1.6070059166563244,1.5961744887107898,1.5929781303611283,1.6065137492772767,1.6016316381327669,1.599339930915024,1.6012735174060178,1.5919612071845526,1.5957691171764812,1.5970126934151192,1.5987349555521329,1.6016294429398612,1.5961193505755848,1.6126254350276819,1.5998082085024103,1.6065556945920434,1.6111932666742026,1.6053900795171028,1.6031024453469096,1.6043461835651973,1.606272911894113,1.6058701236111195,1.6109209370391833,1.6075061568872873,1.6057946724900376,1.6012446687747495,1.5996505331381665,1.6022959492660902,1.5983937981495424,1.6003472981688296,1.593428196699915,1.5924749306981842,1.6039995473159023,1.6037648113355394,1.6003847683896537,1.606247368049541,1.6103942638731799,1.6100823013244963,1.607648419521585,1.6089124013402019,1.6182876015173406,1.6147382335661633,1.615505160928918,1.6198809620234291,1.6218251686624172,1.6288397227738414,1.6251972347981716,1.620719253506445,1.6272618583538057,1.6251657058394358,1.6222195327404658,1.6118443960743283,1.6116641653738497,1.617465225856904,1.621023490262769,1.6182676707458767,1.6225020000042074,1.6109079344178174,1.6039999985180278,1.6118600259031912,1.5979477541773879,1.6042577326284269,1.6026568545681963,1.6002966070552929,1.6096048385452908,1.6042105678664333,1.6067216469390586,1.6121853979646705,1.612014552591078,1.6124470778974076,1.6125506808943253,1.610886278874159,1.622723415597587,1.6313271219859113,1.6267501719493338,1.6360136087492265,1.6314207090028352,1.6391080442471926,1.6333527757598252,1.6214172231245962,1.6265832340634765,1.631307935412921,1.623836717382225,1.6124974405199586,1.6111221663444666,1.619712562586589,1.6125040706189642,1.613362708376432,1.6080144397699163,1.5992031410869307,1.6041849709030582,1.6072931431048951,1.6105566567566407,1.6105791544159729,1.618684717999031,1.6185368003188312,1.6089164616598888,1.6102430464592241,1.6255460292619925,1.6232758088328108,1.6115161084771443,1.6189618835587225,1.6144653898462669,1.6237029751500813,1.6195006517708104,1.609236561219162,1.60213059027213,1.6028255155601225,1.6084178861552119,1.6048442751085834,1.6117866524562032,1.6219042848603293,1.6319599982642103,1.6259967814094276,1.6418590117294873,1.6410357438751058,1.641792068648086,1.6490134139538744,1.6423169553723862,1.661892069303197,1.6639105403621215,1.6589067242871351,1.6527921235068486,1.6395976255852929,1.64194194107619,1.6230398087915394,1.6232204768506562,1.624966447023841,1.6205611062215364,1.605054785541491,1.6098552043622476,1.6119729384619859,1.6014104396188789,1.6014506705237637,1.5955463211278886,1.5964206765876952,1.601938148670024,1.6045194459827294,1.6143429663623465,1.6166957432109788,1.618366801550883,1.6147140745645325,1.590915024929988,1.5992589385186269,1.5983134873813014,1.5982614368529235,1.5932293340380663,1.598328484581619,1.589098482335127,1.5787831364634712,1.5785745041529935,1.5851386997952734,1.5801124945225637,1.5686103783101317,1.5622850353091962,1.5634149278695078,1.5688792955155957,1.5863839838195115,1.5753740632579594,1.5718537543513624,1.5687600345885888,1.5729654675980025,1.5743790630868717,1.5811433932855683,1.5909524830366688,1.5954343433866294,1.5986326367179269,1.601014359613085,1.6170691865215001,1.6241725723272187,1.63291324384345,1.6296101642441803,1.628628443727454,1.6278987354193002,1.6298173375132592,1.6330980407526567,1.6303885873868693,1.6286314642417286,1.629268488896499,1.6220830928687822,1.6180760012796933,1.6092808793171267,1.6054985860507258,1.6040661197685797,1.600659363785735,1.6013675864013446,1.602474395578747,1.6011053468632175,1.6073313820704698,1.6126751673203974,1.607551131661512,1.6129010920285054,1.6098502769682,1.6064968541566942,1.6030928010684269,1.5912114873800116,1.5929167140729683,1.594833745958931,1.589444296762061,1.5881920262721148,1.5796398862601413,1.5822061952595807,1.580506297251956,1.576388328338256,1.572424533174899,1.5785633415552183,1.5778643578713551,1.582834718946909,1.5839051556603105,1.5924121711058281,1.6041127078726125,1.6042765098608622,1.6042633878460342,1.6085908561394717,1.6093999286492362,1.6116692641869728,1.6069614430578136,1.610749799536158,1.6204214815470246,1.6199383155927989,1.6203604207551356,1.6112257009016957,1.599743776557913,1.6004187751322811,1.6028369435365828,1.6057965068588298,1.6100357508833136,1.6078568646620017,1.6135683728307413,1.61029582399586,1.6175920688077592,1.6254548059456737,1.6302369030027422,1.6322305796555763,1.6383695783651244,1.6425890898991686,1.6494000459521128,1.6632061462427978,1.6679879249490872,1.6670014802359674,1.664921568191979,1.6685582390382478,1.6803031288523167,1.6654588382014481,1.6707341961704818,1.672676954353498,1.6626678172199718,1.6550881624549978,1.6431200696165282,1.633436337205103,1.6349705975129079,1.632445370668999,1.6363818661285374,1.6311508457933541,1.636356259244591,1.6371401699065244,1.6315784080509275,1.6197640175195223,1.624616985182714,1.6226916401469529,1.6156681298143971,1.6191001040633182,1.6205568840761468,1.6299604873852027,1.6364539991893556,1.6313520043045628,1.6308982967553978,1.6230738659015362,1.6133832761947966,1.6013541511891012,1.6054846563697538,1.6125715163377512,1.6111397775537475,1.6179512540144667,1.6138248279132463,1.6141718130766094,1.6088095004615752,1.6117833138701674,1.6043349423780606,1.605558825129477,1.6100392442893432,1.621300452906083,1.6189396562804177,1.6199604239332832,1.6190855548326606,1.6128644333881008,1.6010826562322715,1.6016901670013795,1.598011779444808,1.60118922229852,1.5990286352150784,1.5990851507924768,1.5933872159827691,1.5996349966315848,1.60193769360723,1.5882130487992374,1.5774529232021754,1.5663987535341979,1.5864617758362176,1.601018088626961,1.594708109591511,1.594863772467473,1.5881583094846823,1.5887892375151296,1.591647232601569,1.5939270577378617,1.5978636294106916,1.609816340298903,1.6031835311327995,1.6027575003257273,1.6030674508507825,1.6051818719080984,1.609956465992415,1.6030115106604323,1.5896342808550494,1.6083659834826751,1.6075529149249632,1.6215214753313982,1.6172569447213845,1.6153582945638845,1.6167321457545314,1.619160920902444,1.609864654053581,1.6011562784526632,1.5941452226914103,1.595341158742076,1.5900122495317797,1.5955731027051419,1.5842344881015682,1.5925349769350305,1.5745158725246104,1.5874436670420438,1.5850558322475536,1.5807122118792145,1.5851750728634064,1.5849964986138427,1.5813427129475257,1.5804074279506797,1.5884704706186008,1.5864437407132603,1.5904692304999268,1.5971678124160462,1.6034302393371036,1.6178209225889684,1.6105137177326165,1.6125794216285916,1.6058901840161222,1.6082238356140048,1.617712045028611,1.6110239879729458,1.6110177240551367,1.5984828892864396,1.5887176556937297,1.5943193794371988,1.5966808749423156,1.5998225555738828,1.5975717769258002,1.5923581625166814,1.5869899173844866,1.5929514076970919,1.5976332036323735,1.6059354861999813,1.5966807209457936,1.5961670938563506,1.5945345008039717,1.5925994338075877,1.6084054474865752,1.6207148776890334,1.6146212588542919,1.6138198158926116,1.6189228799650057,1.6228060890907727,1.6214180271028908,1.6307422840202586,1.6267715292590765,1.6213767132159471,1.6080890781559296,1.6168515703733495,1.6156175040021632,1.6133068377053406,1.6096833947496483,1.6109522761924078,1.6078241850536565,1.6133851697439392,1.6155906248462846,1.621378789750194,1.6170510978546644,1.6205597847950381,1.6099805939009153,1.6067487428840954,1.6051364133308652,1.6044020258650107,1.5999242904732456,1.598507502180731,1.5999179628821518,1.6047285136628033,1.6003133168174373,1.5987545540608457,1.6021029855400835,1.6044589644136522,1.5973741086435136,1.6042866139683307,1.6043319813024632,1.5955030983909941,1.6006166488405598,1.5996519230476527,1.607571861081078,1.6140673182427843,1.6128266110533787,1.6199650151007519,1.606212482939039,1.602519611541887,1.6133873319712166,1.603389951658149,1.5988765979198434],\"type\":\"scatter\"},{\"mode\":\"lines\",\"name\":\"RewardAveraging\\u003cbr\\u003e  │eps=0.1\\u003cbr\\u003e  │optimism=0\",\"y\":[0.6310828703738308,0.6911189884305704,0.7209797505162301,0.7507854918080279,0.7865965565470543,0.8197723739827923,0.8436290203897765,0.8622923750278133,0.8688528841908949,0.8847247969875848,0.882412256809165,0.8968608722127002,0.8939596192544417,0.9196372983425701,0.9333847000998109,0.938611090916556,0.9585251099682476,0.9762148825403246,0.9785060548987545,0.9843316098695318,0.991994894900227,0.9920701463584108,0.9947027970868836,1.0055201288862319,1.0146396265285984,1.0391760592745947,1.0397990720467811,1.0681609224831659,1.0710415919577663,1.0735297678183013,1.0910360702202007,1.0860339624816453,1.0872488005041887,1.1030275978465995,1.1167882626872843,1.1139885317963458,1.1207318868789262,1.1371291763516296,1.1294461033079344,1.1270290994623138,1.12188280991268,1.1205800601075198,1.1081842159558202,1.1167453696959706,1.125677742841908,1.1213049038252663,1.1357328314972794,1.140225851477331,1.1362055822482404,1.127905380411587,1.136921324296406,1.1476542025001961,1.1461223268029552,1.172100815029622,1.1917820430561141,1.1908836879701739,1.2011382074087753,1.2064805817710502,1.2037816017742553,1.1899060082603214,1.2034043317278518,1.1987117980658766,1.2061829463772147,1.2133831531936214,1.217810453854151,1.2191751928121954,1.2021662009866683,1.1916937225237234,1.1802099746998977,1.1673410656269103,1.1705348931261617,1.1768549735870542,1.1738902203261177,1.1616103391113815,1.172063984702219,1.1623875435994477,1.1636504618388415,1.15581271741956,1.161282513970598,1.1600209756528992,1.158292102619932,1.1780759249324746,1.194566105859935,1.2035575031198316,1.2156591886228056,1.2223987463991364,1.2182798829806472,1.2215962344635074,1.2278853886612533,1.226856538790733,1.2190767792377888,1.226132473287266,1.2189836584503118,1.2168309936597326,1.2148916182851424,1.2194128590438993,1.2172024707817939,1.2095880056146484,1.2099866421226702,1.1989303659797685,1.2042952358999932,1.2073589150773054,1.2134186738038333,1.2171553520517135,1.2198641231265743,1.2231458331153695,1.2153170055526203,1.2314505860252098,1.2296355747520882,1.2413320363226035,1.2409258047995129,1.251153454231896,1.2579249118846585,1.2436732356328377,1.260660933638846,1.2538670570578252,1.2555849218294886,1.2624365158675819,1.2632011869596047,1.2591098006554433,1.2654638778177192,1.2778116718019248,1.275954891169935,1.285174165607117,1.2861307131135353,1.3039590445925417,1.3018410454722036,1.3021033198714007,1.3129598856637397,1.307626855586496,1.3138842791434893,1.3190546535211847,1.3232838006314316,1.3265522020531364,1.3335138085207632,1.3453018625756594,1.3402619254320334,1.3523485644978792,1.350096345841814,1.354124114102975,1.3417180653026,1.3297455897172787,1.3227917066561115,1.3311953630553186,1.3198677583680232,1.3135307339353859,1.3048331667732118,1.3025701875723883,1.3014422294383943,1.304314989188335,1.3020469821890401,1.2994724096156725,1.3019744258458483,1.3039489792193157,1.2991968252683839,1.2909352981041025,1.299067919576142,1.311138028359352,1.2976317053660884,1.3100040616984037,1.3182284164469686,1.3217590377038524,1.3100796066206783,1.3138628093431142,1.3143870862678928,1.317314177561004,1.315346697749042,1.296287477731094,1.3024305545224346,1.3108559355539455,1.3152551022872994,1.3192444418100802,1.3126695437029279,1.3227270038637111,1.3243216688097543,1.305082026623046,1.3005294261728484,1.3175035089372993,1.3174737399946745,1.3254170849502542,1.3199565727564277,1.334382611945578,1.3301377614810916,1.323258870934014,1.3141838060739643,1.315468003646752,1.3171173736822823,1.3272741355321367,1.330681308905262,1.334885346281906,1.3555685963565396,1.3645784423306737,1.3503596757806824,1.3521358343021328,1.33872864953539,1.3396823436412926,1.3275645700819723,1.3357370353375946,1.337342453664951,1.337397036938906,1.3347904165261109,1.327445327375464,1.319440374016504,1.3125871642804157,1.3000692731078212,1.3045596592460222,1.3070499082822455,1.3219999456616658,1.326114208531783,1.3393431603087966,1.3478351810640807,1.35401656959743,1.3552790474676935,1.3641785581420645,1.3528213283240538,1.3692955073277346,1.37523613214816,1.382708657990535,1.3926089817656893,1.4043711448028033,1.3935502598078984,1.3918539107977306,1.3888152388005968,1.3898122100714507,1.3877230324028953,1.3833033051839114,1.381790574223597,1.384831234086164,1.376659740271998,1.3959596086069344,1.3861288639138327,1.395448344133259,1.4032795064147876,1.4032096194135268,1.4100949694536553,1.4048646735775492,1.4021681573240925,1.4010330232384112,1.3971453351003447,1.3941100781546727,1.3929027326269685,1.4035360878817338,1.4016691987028405,1.4072021419452123,1.4069800686003684,1.4067019043012465,1.405430888376039,1.4031498117650776,1.3927908779889435,1.3864094861816094,1.3965835582232784,1.3885506875375464,1.3855368224566442,1.3879590545445883,1.3928609109483319,1.395837737184426,1.3768019329401606,1.383694983911145,1.3908501048980801,1.3958332729734935,1.4084350391143252,1.4102900759284505,1.4005896498969945,1.4066406200265191,1.402567107978924,1.3934078716598757,1.4073467940877586,1.4073947185266016,1.4115038233838315,1.3990288689017802,1.3989806416800812,1.40000832026282,1.4016051593090082,1.396543052085307,1.3871668161172503,1.3707015660659445,1.3540817677645047,1.3537977316133492,1.3545220803699636,1.3619270764306672,1.3692919953021943,1.3607614563702706,1.353911854553447,1.3385548214324445,1.3342571885544847,1.32770913885192,1.3379513166250983,1.3363512187953992,1.3266218557918894,1.3389435388796074,1.3465292337187749,1.3632298783995567,1.3530236801638884,1.3537690155848623,1.3613042205359194,1.361582672114283,1.3660780826457009,1.3844607492888485,1.385061792386936,1.398687531509904,1.401584009287554,1.4023469486253588,1.4032852703865841,1.405724644455654,1.3913930647826456,1.3969630073919272,1.3991357417434036,1.4094903998827324,1.4021498323156683,1.3884480663521799,1.4008254768867043,1.4032701977491078,1.4056557412640474,1.4195801506277765,1.4215194218703193,1.4225693113162985,1.4277045800255412,1.429225783861159,1.431867424575315,1.4398977582260197,1.427801267270172,1.4281421048452179,1.4307935633264568,1.4381324153782733,1.4345409201963661,1.4204817971491366,1.4170407938222107,1.4070565819715777,1.405731536027338,1.4091493014107945,1.415877310434602,1.4071279288028526,1.4099834999125658,1.4123085496492043,1.4088663633727265,1.4202193933642964,1.4118146307552517,1.4149525316318583,1.4152036595193105,1.4170606685528924,1.4285738484030768,1.4230857384752311,1.4228378297466369,1.4281360101780138,1.4186140297282464,1.409627939832482,1.4106797214535012,1.4087536648412349,1.4032477768833587,1.4095240307669579,1.4012880675493686,1.401564483088066,1.4174940684864017,1.4064181200631083,1.4095829620034466,1.4141598663153634,1.425570088967053,1.428741361077861,1.4260650015102783,1.431219630011204,1.4412129922532775,1.4438407906711708,1.4425278701728417,1.4406816928344672,1.431441030070433,1.4362628959400505,1.4324379083134393,1.4189342418668844,1.4355802095325885,1.4382429220905502,1.4259822265405282,1.4183313772471744,1.409539152555605,1.4055610066044475,1.4078893378096116,1.3998855279703624,1.389832370408764,1.3846299477509434,1.3834669880935166,1.3916167371825205,1.395678953919393,1.3942956074648274,1.3966244831158066,1.3972987444552056,1.3929615470925947,1.3919976749626926,1.4010183926885438,1.4149036474442256,1.4089495406916475,1.4078037120765392,1.399861062720284,1.4019362686583994,1.4113101258308915,1.412667069292176,1.409858776917804,1.4085380148778313,1.411052715500845,1.3989867414909327,1.3962308717448195,1.400914711078402,1.40249521772173,1.393048653353071,1.3899396791320593,1.3948387808681446,1.3911040136082495,1.4047500803103807,1.3980735254089647,1.3989200750619526,1.4058931659050964,1.4038329540677674,1.4065920024572354,1.4080478737031703,1.4042682275099954,1.3986710204641593,1.4061362967323323,1.408549032836163,1.4092826519945296,1.3974544435518585,1.3912701141041757,1.384053381045813,1.3835074727320793,1.3893045706823766,1.3766255560191591,1.3774021070543465,1.3818532458725485,1.379540775924564,1.3785679819843304,1.3874045183602448,1.3967296491295655,1.373117745851323,1.3661778658376231,1.3677232426914694,1.3795582536297692,1.3791625383679653,1.390920269198735,1.3956572188473804,1.3973542713097837,1.4012617672231726,1.4118872400079832,1.4027839899612218,1.400953846045248,1.4086242780867375,1.4102656241479812,1.3951814991934801,1.4017616515859268,1.3998571858653197,1.4035638078226005,1.389564240040022,1.394981375807197,1.388055410517624,1.373843008254327,1.3865023117231203,1.3868603390469236,1.3604756679294345,1.3705834795984477,1.3764125412332533,1.3738378625319911,1.3736072112466597,1.383742325746319,1.3954793289358198,1.3976632319318318,1.399231134793149,1.4083718527859597,1.4155479217154532,1.421692995727282,1.4365748460643317,1.439005192877039,1.4526157751426125,1.4690308093138962,1.455566314617757,1.450260653993875,1.4337793762634192,1.436487866955728,1.4327070087142146,1.4260028311124566,1.4242163565344603,1.4301363200346562,1.4232256919540154,1.4154939779453115,1.416020676274502,1.402468736515266,1.383452454146004,1.3716894049142032,1.3684776423757057,1.3823565869913788,1.3721904555167157,1.3798162815625195,1.3652009475716114,1.364571493712386,1.3670993617805,1.3856810198936576,1.3759909067254361,1.3890115870228101,1.3879512801700835,1.3891173970231951,1.3955999486767874,1.4028201414159336,1.4044557213106372,1.4065586536192238,1.3962126260871022,1.3980223016257394,1.4020804617573353,1.419824389209551,1.4239848038291332,1.4229081350504202,1.4158445378323299,1.420213514170109,1.4134910038353836,1.4164023326390331,1.4215427196976633,1.416328606780371,1.4158885068171305,1.4150856360542547,1.4141139278873198,1.4233417139628879,1.4300609106257298,1.4373712035341897,1.430857006119777,1.4341841787085285,1.4388071717408062,1.4405825088540345,1.4385543312549545,1.440532304277849,1.4484457863151268,1.4505851504662814,1.4500686700779093,1.448066940100633,1.4554195342689809,1.4557322318726695,1.4570423916078425,1.4684421964301464,1.4621279471731972,1.4697936362880681,1.4643246071629543,1.4547539469202018,1.4533030689207331,1.4533400356135417,1.4550822501358576,1.4368851940449607,1.4291176099573932,1.4393530985552085,1.4459940519799526,1.4477378158347014,1.4554950994031135,1.4491281819941226,1.4398297812775505,1.4323771056962187,1.4158056922924591,1.4141565285018713,1.4173016632212694,1.4169341250846021,1.415264477751657,1.4075308679774556,1.4237777110889738,1.4288987010642358,1.4183339278553149,1.4247475546063622,1.426476068493313,1.4227808576405778,1.419559425205057,1.4210867591125103,1.4339902798370152,1.443020488263187,1.452570101855114,1.460732539785469,1.4556789218271509,1.456014647613612,1.4568889888650423,1.4561533432052025,1.4387812439459442,1.4507717195049585,1.442617649914564,1.4293913925140942,1.4266563703902269,1.4338650907214818,1.4327973365431186,1.4301582667051964,1.4392778791082037,1.4259978534931634,1.4232019464443055,1.4270448425003754,1.427292693643282,1.4314080821654065,1.4318506856251285,1.4388008385343558,1.4277904460966737,1.4348402735152754,1.4388050965109793,1.4343661603623634,1.4287203632108079,1.425851292846619,1.4281519470387138,1.4278609269417302,1.4364816690873492,1.4320908635501837,1.4317370158985645,1.4193577470698604,1.4217636485346097,1.422136316833765,1.4299360546412647,1.43239721959366,1.4260533597803942,1.4275721828544343,1.4364284806807215,1.4377725523686802,1.435640179318193,1.4390933946401447,1.4411190614787983,1.4400162449516225,1.44280581652525,1.4368893960070257,1.4515177550425202,1.4412772490767565,1.438655648149385,1.4368406880235018,1.4371533548172466,1.438605720114477,1.431587527586377,1.425130566725837,1.4350581576018688,1.4352520836095892,1.4368122506063932,1.423993180112954,1.4236208537838213,1.4259257248146695,1.4302348023580407,1.4272767732355154,1.429005370711343,1.4191723408276327,1.4190369802820593,1.4265827224722671,1.4157533280472763,1.419936935305327,1.4216951242438276,1.4238601365280374,1.4319161302428711,1.4230738887338097,1.427002725870481,1.431745983389942,1.4333757703023668,1.4395510078854084,1.4401357393431151,1.447522685289088,1.4580461064020862,1.4673286548151887,1.4622798078938481,1.474247862395805,1.4744079861359372,1.478156105842686,1.4685965039637874,1.4615910330590092,1.4624518742099857,1.4670648847707903,1.4616307761027731,1.4529377871478877,1.442952386078923,1.4494860258888063,1.4397136205084886,1.444707293653831,1.4353667807149122,1.4270138927696583,1.4283478561376115,1.4301070425632665,1.4316437251009044,1.4359176910934972,1.4393448347709636,1.4419811787032435,1.4252179875829674,1.42355532651787,1.4357432364181022,1.4366655652271372,1.4253583446406612,1.430428656764775,1.4186137219423622,1.4308586428143144,1.429640858375069,1.4228042809324961,1.4186675582134967,1.419244583247731,1.4199508278073305,1.420253030214864,1.431023690400957,1.4469819552958825,1.4571617709425102,1.44803062228137,1.4629231240120286,1.4625100785748677,1.4632343624520217,1.4743476999714555,1.4613127109362722,1.4817073490163086,1.4852477980240262,1.4795111643626873,1.478675437932149,1.46227132196791,1.4632533107037262,1.4455451209337524,1.4447789555974546,1.4471461269028167,1.4428828565227756,1.4325195962151156,1.443467389164607,1.4520462081257393,1.443415509467809,1.4463914144603904,1.4337413101816765,1.4304176323173352,1.43855827399287,1.4381453597437712,1.454610861015241,1.4513141661278572,1.4517308991888815,1.4506623417606912,1.4323036409393277,1.444214915588077,1.4441455924149522,1.442885089293077,1.4377773117767068,1.4392059661095193,1.4288920934750347,1.4259997805119005,1.4251698772312011,1.4260802451252175,1.4191651832779675,1.4025670983254712,1.3972536866865084,1.3953574356052059,1.3943927172786517,1.4083446822636612,1.3898022965418098,1.3852252398511837,1.3728316779932053,1.3686397293972428,1.3711372377119158,1.3821169041722519,1.3867001382888247,1.3913799239768043,1.3960581299495896,1.3986537929795,1.4133521226901167,1.4186042932576508,1.4224123835139457,1.4249719531157021,1.422820741697683,1.4316726261842632,1.437405292155783,1.444282700972311,1.4479072468031593,1.4464026291927363,1.443598048945114,1.4315152140914884,1.4299721015024867,1.42360169895447,1.4228554265732556,1.4223920840257127,1.423001558392169,1.4311080229336919,1.4244595064524976,1.4227681205104925,1.432549031822858,1.4350973085405259,1.4316680384582923,1.4365878662101599,1.4342228131240518,1.4345327361973583,1.4369247084464405,1.4317718968829922,1.4294098183212858,1.4254558798746984,1.4231566521161616,1.42052658969698,1.4090262520909165,1.4166289395406542,1.4105316441766718,1.3998745862436408,1.3930755318422294,1.401609897336175,1.401410585108124,1.4052875325660503,1.4016370307182417,1.4070981146411972,1.408953794560254,1.4099576894580272,1.4172185369016157,1.420793236957752,1.4218949775486331,1.4201965510277357,1.416734089694152,1.4235482283744507,1.436903501362561,1.4415910695704952,1.4406963690710655,1.430618483899146,1.4154799934697317,1.4212208492214056,1.4284224847196432,1.4332338701023823,1.4393531321016781,1.4308157383174906,1.4386664148477697,1.436863591971284,1.4512567026343428,1.4562762962376383,1.4624741662122687,1.461740608226531,1.463855973984073,1.4717634019723695,1.4744470700619785,1.482468769028128,1.4860904458651325,1.480306371344265,1.4766478211670497,1.4779702515900983,1.4931001738942389,1.4715108751451529,1.4786289285830359,1.4792105375964033,1.4708166552049837,1.4610601477459568,1.4508827242780626,1.4427118685955975,1.4392897797670534,1.4390750196887288,1.4554335551555444,1.4488526257075895,1.4608633387305416,1.4688010489811405,1.4701644150116864,1.4562761052485258,1.4678108452962988,1.4662661387666351,1.463321572556621,1.4654053839246899,1.4723652481409013,1.4808537066406038,1.4901261897645781,1.4849601388844804,1.482775140943977,1.4734756974606322,1.4617706456770672,1.4436575074015763,1.4464580914358067,1.4502107935712805,1.451886266236852,1.4589680462264065,1.4540350991916815,1.4492841194432458,1.4441108717569022,1.4402710321385408,1.432164101450462,1.4258390373510186,1.4300730352369555,1.4440316724074365,1.4416144140768665,1.4455104928363955,1.4505077977664163,1.4453651056311174,1.4311639637955826,1.4341176100216975,1.43338643115347,1.438977376461086,1.4365173887694254,1.445157634358687,1.441796128019132,1.4452992965783626,1.4479640993046359,1.4360103769601815,1.4236558781212656,1.4127118820767464,1.428686449096449,1.4389592102301474,1.425523720724747,1.4250954129065727,1.4158227965913739,1.4122227662938258,1.4073350130544895,1.410251990753856,1.4084068480228475,1.4208101908949629,1.4211304245503318,1.4173204425891375,1.4122205668176018,1.4169206847465072,1.4221758415517343,1.4171659587132126,1.4079983281064263,1.426977838957843,1.4236850793659566,1.4367222790585856,1.438171646259131,1.4412592119076029,1.4388901298606622,1.4366381044485783,1.426368142238122,1.4124899337834147,1.4099060097975173,1.4142614274110807,1.4113218907848781,1.4112809986979755,1.403712905914108,1.4104094201052098,1.3938172580704606,1.41615131267525,1.410480341894163,1.3985431687523184,1.398645079604724,1.4040786406590693,1.4001682539193552,1.4008477023846202,1.4100908484941252,1.4092823871585856,1.413884517598414,1.4147719490959996,1.425538248798269,1.438001192466148,1.4285676671278906,1.4310981034134633,1.4103917799707384,1.4165083780661158,1.425126069295114,1.4256022552163208,1.4170395720007793,1.4097952118909083,1.398532979350057,1.4043099178863485,1.4046528683706734,1.4082660282578066,1.4117867811885996,1.408879225132993,1.4028212554051758,1.4078989237476436,1.4173627608616244,1.4327991884184939,1.4182687444595103,1.4211822584591423,1.415802089516607,1.4198119879221092,1.434646259943899,1.4461786647954946,1.4405879373739026,1.4492405806850002,1.4573229434118578,1.4611269042362134,1.4574779125797401,1.4627601051280028,1.4646796695245332,1.4533724456127706,1.434056102957508,1.4479186650182025,1.447768800795211,1.445254380364395,1.4413719303382702,1.443914695710752,1.4364898717859433,1.4411716130885148,1.4358039725860938,1.4393308364992512,1.4347306569343041,1.4375923180707104,1.432449990589824,1.4264757788616558,1.4289949929430046,1.4335933750713594,1.4315385694146243,1.4263828189304149,1.427219100440243,1.4282078131036846,1.4163406804398921,1.4246107877121479,1.4307018266238478,1.4333456929415207,1.4238160558170116,1.4334953408651927,1.4326633322874387,1.4191438395806473,1.4256412369664,1.4210267103038405,1.4329547467940909,1.4391350541298076,1.4405733742345546,1.4452960370762564,1.437757406001083,1.4450455508769513,1.4490334041535637,1.4367459241792404,1.4335126017501352],\"type\":\"scatter\"},{\"mode\":\"lines\",\"name\":\"RandomAgent\",\"y\":[-0.022084170341744546,-0.017364338831666198,-0.024533069836751617,-0.029354691637811105,-0.02689115995386497,-0.018795850225607806,-0.022765618597587255,-0.017408641997166685,-0.02367090404923283,-0.016961610521580173,-0.036241490535690576,-0.027409546812447998,-0.036620978055023304,-0.031078922225562283,-0.02662079419304523,-0.023695113338562935,-0.014228978756947968,-0.003049747364507949,-0.018283247300999558,-0.01706685501341086,-0.017606506980552498,-0.020510899289957234,-0.02617599877406732,-0.02171830993969555,-0.037257207225028184,-0.017981214467492568,-0.015417696893644191,0.004551490246764319,0.01148338248580915,0.006379452085260599,0.02134487831018704,0.0060540187984738075,-0.009842265219936216,0.004237833934141574,0.007755667583517045,-0.0020379456398899637,0.0027662106255935534,0.02337157036979694,0.014858296082259703,0.018269572309016092,0.010229112308342062,0.008203696592750553,-0.011850550559281673,-0.005614168307899728,0.003992481861435315,-0.01871659584559408,-0.00586411055357912,0.0015357760247502053,-0.0023769583709140805,0.0003559784028571563,0.0037260732168080384,0.013179292974067428,-0.005006178938719212,0.01218404335592509,0.029810997114970112,0.028923344423240245,0.03195293357955347,0.020404586889661066,0.02491067935577303,0.009308025968515798,0.027455370609703756,0.031418958876726494,0.036646954633936316,0.04237435631321469,0.028218671503502064,0.03835849126920898,0.0118701962927465,-0.005247696310250423,-0.020627280573066058,-0.029700431363751646,-0.025257665144957666,-0.02815585652853813,-0.020665014710180025,-0.04560399805768977,-0.029022602138962936,-0.034445873568596776,-0.04293827915212364,-0.06297651108979915,-0.05569420108684422,-0.05320370769047598,-0.07104241753457179,-0.06257284057491547,-0.04314185417384824,-0.032242107459665235,-0.025472750222264317,-0.02854811459439627,-0.03308496180663967,-0.03042066420538254,-0.021729536664604244,-0.03244774069781367,-0.03986644845837035,-0.03897019557743196,-0.029359558947524414,-0.04298947875544203,-0.041824392677280435,-0.03655981886141005,-0.02845671186341008,-0.035277802671032546,-0.035691507786815256,-0.05915943016494394,-0.055091550822866105,-0.05343185559320423,-0.042262082848880535,-0.042602195908236655,-0.039224032633471004,-0.03764859035065548,-0.03788492817946286,-0.03726742256408263,-0.036491871473172136,-0.022282264244034906,-0.009363830012525106,0.0005682209495975125,-0.006462594922040473,-0.018519032425164415,0.006386206344736752,0.0070992523699139705,0.008591711797453971,0.0009262287056186925,0.0007807008306388585,-0.006888678525589054,-0.011793179233979777,-0.0005163024231873129,0.00007298839069317017,0.01475762720728467,0.003772524552078549,0.0077969524014624685,0.003464481358377721,0.022989598544643643,0.026237509214197777,0.01539206843741258,0.011225790117352563,0.012563815260572885,0.02447178041354044,0.030605710722959544,0.02262204685519816,0.03571364959289999,0.028936946280958522,0.03335302429042142,0.02039970186120151,0.021270796963271263,0.013249646748693111,0.010300214604665939,0.0008653994722582621,0.01133377174660349,0.005715419895902526,-0.0013800403639674533,0.003927405819407692,0.002905584680554381,-0.0026277671995518373,0.004508896223140916,0.0037225230273702464,-0.004915383506362314,-0.0037381643726045392,-0.005292006111462063,-0.0039012493439910902,-0.015566331294687104,-0.023213549116319173,-0.013102578710490661,-0.021756031214454685,-0.01467821885056959,0.0011056275001378514,-0.017296571783835722,-0.027379089816310077,-0.018924494582331683,-0.01628129314123344,-0.006856448427925077,-0.004914919849944595,-0.01559624944071755,-0.004106135427167201,0.0013143950894556925,0.008770025273705028,0.014966483853036694,0.008063384428667305,0.0034685317125165314,0.011710757320512662,-0.007511273025937681,-0.01032393855158206,0.0020238113066777695,-0.009355912133882411,0.004154082401265624,-0.014277298335709298,0.0026244694379173278,0.015616471108899965,-0.004717081684830937,-0.016387587334493667,-0.004803918918714641,0.003545739050034132,0.006352780879108355,0.018165662701177032,0.01602768193251496,0.0389962005455752,0.05005121015946907,0.034392241512778685,0.039399528386662344,0.022629724458884153,0.031577689676442706,0.010968731212676852,0.004856794160276342,0.02114403264288156,0.022806145834941605,0.013435523344189211,-0.0014250544490160167,0.00021874386627741179,-0.006544598774745181,-0.012131446424569677,-0.011204490728012884,-0.009443597634244643,0.008347400843466168,0.012890839688305577,0.02238036748262755,0.03211033562345599,0.044544566829284656,0.03690827662532919,0.04960403466959654,0.04703248164043001,0.05291588735762592,0.05406616222990216,0.05251736008632721,0.0604237702529208,0.06564156610895741,0.04773109098651433,0.045263328608406886,0.04145723489904938,0.04357524889089435,0.03850776072104895,0.02842696395268744,0.018804547065192315,0.02332173110037104,0.027044089312801792,0.03040155642618305,0.026292069936754828,0.030394638329800844,0.04127773841873482,0.0335545537916687,0.03641246245115625,0.03736410103813411,0.04349009201346825,0.03884497964902322,0.030078485743355608,0.0409792527638355,0.03895888241244503,0.05260758880427828,0.05523360183427064,0.05045367755731422,0.06422435813538876,0.05282247983665569,0.06305193507202919,0.060744916128829936,0.059597945799992925,0.05598115662390342,0.06173257930164301,0.052291388755391945,0.04530853631179506,0.04209123567767533,0.038873357817740144,0.039273322836315676,0.014902931790095148,0.02390546565765234,0.02784617766455295,0.025705482761979193,0.04612318356561598,0.04087920236967236,0.02517727803515389,0.03454600018863518,0.026979062500494467,0.015287461028143816,0.03385740565014865,0.039036533552266994,0.05331970887710884,0.04748580592973322,0.04099272383339519,0.04323745583196535,0.035134287999457545,0.026947561218814652,0.016452444047806006,-0.00037945693169202005,-0.0029985353374960924,-0.00004032645112599376,-0.010406547459964817,0.0008762414909658863,0.01756741611899564,-0.006243659286818841,-0.0039013273330810914,-0.024790313350642603,-0.04043949137908462,-0.034779941189436135,-0.020431176337242823,-0.013632364221161646,-0.02052288120452994,-0.007468380210692945,-0.0005007325453894781,0.0017182939480467675,-0.008172445767167054,-0.00024282648497222503,-0.003700647033881577,-0.013992324949144175,-0.007891385007103712,-0.0012051574843970384,0.01831829634738676,0.036585495453059176,0.03279255786545985,0.032396584416184634,0.02591642226393008,0.02450237277285233,0.003367682440604384,-0.0010776102121207683,0.0012514995914112278,0.016459783187306773,0.002577378925847255,-0.008214299458740474,0.0007874087494077624,0.007348305268671792,-0.005495309202421013,-0.003784471465521951,0.0011064202000991821,0.0005415454674105054,-0.004548269597409993,-0.0024322738386200063,-0.0047076541955327995,0.0020693244108735223,-0.004238850199502661,0.00578816984040366,0.005155085924804596,0.009208938865558158,0.00311950975854689,-0.004730567389550992,-0.007682670096916174,-0.005901435078163475,-0.011573939456657885,-0.024383632667814358,-0.01775465668199055,-0.014289909426116054,-0.007483833452910756,-0.0030508880995931075,-0.004634766491145426,0.009015550551589202,-0.01183016299348593,-0.008240226335580629,-0.0075571036574534865,-0.0016143359073716704,0.0018963360470188207,0.00510438911112856,0.0053463572349206215,0.015806660150558087,0.02066326750005539,0.008364341715492888,-0.00845447629764157,-0.019202023977044846,-0.018299780100538655,-0.0005656810431041345,-0.008210643724833296,-0.0028377907314506364,0.006810190628910491,0.005824130067906216,0.011291397096895913,0.019846161842326165,0.014910080474873277,0.018338450120251672,0.014383190613267842,0.024746000200786256,0.03686553829949553,0.05435802026781529,0.054100680146924145,0.046612536951517486,0.024623266500252847,0.02956102572116442,0.012059068682664546,-0.0033301589923001806,0.007604982543843667,0.015407237511166386,0.004191942820410776,0.0026652526316756,0.0002601042310280762,-0.0025642971530266696,-0.011225474770495965,-0.008837973159512262,-0.02925624609641231,-0.0254841243401733,-0.02743075601751017,-0.009513015598452575,-0.0010917370576350857,0.013524406086733753,0.026206818688609433,0.018464755313716733,0.009368618917304354,0.013523567503615386,0.008775169883040619,0.01238494557279212,0.00732723334592209,0.005218417280971174,-0.0027319086007303373,0.004791195823071437,0.014686620645442483,0.022343853982249303,0.008813252504768254,0.00019850888270163126,0.009845728985108989,-0.0037994946902155063,0.004025492658464843,0.006472409137093408,0.002929624166111274,0.00582752833478164,0.006650510544981033,0.009010864243967258,0.011372397665379912,0.016560353100438987,0.01590673393245171,0.007697853764648333,-0.0013887397953601314,0.008889490648019487,0.010532997554705477,0.01003373420248644,0.0018231161374952028,-0.00005056218044717416,0.010232134345146788,0.013899497505514787,0.0075845979165042095,-0.004029162632271147,-0.00281509978463171,-0.00704511383777282,-0.0056473119445786,0.006999677542365582,-0.0032851191070632614,0.008555109648897682,-0.004323955792389208,-0.010400910519830341,-0.02792335869161729,-0.015676607062024582,-0.016922517953788466,-0.03883643724648992,-0.043250385939279226,-0.029602893778270665,-0.006225012942027863,-0.02009301747417503,-0.027287582093264613,-0.02285922280520721,-0.029305560562295902,-0.030817491884805738,-0.027065295322927282,-0.021305568530103274,-0.02150039691028467,-0.009453171167374446,-0.01657125760296312,-0.0199001444966212,-0.017452129348385744,-0.024719724361485722,-0.02582823030859749,-0.0589224098640493,-0.038307255149952917,-0.02656778185077949,-0.04741779667177489,-0.03969327699785182,-0.03053977269487244,-0.04124162971312327,-0.04028247717120741,-0.028699552635517038,-0.03096534379430989,-0.023727484733654276,-0.025854317796369028,-0.01299735464755049,-0.005382134422183996,0.000518065381731884,0.025310123107995106,0.03261830291380464,0.03379455074076961,0.0503147091064721,0.05652977923118863,0.05508751345797831,0.06188186123295816,0.05673685044344908,0.049900336871360966,0.042959584971283354,0.04985116727641972,0.045893899129684536,0.03155920004452908,0.024243155323620445,0.025295102148368956,0.02361615093322308,0.0038729018048886993,0.01172247985869482,0.006764968434831609,-0.0054032139003929855,0.0025118211359103377,-0.0009699095821760206,0.007421040402894352,0.003279576696566607,0.011947100757575945,-0.0027296378651572974,0.004746419597220959,0.01103832652227233,0.029361521707082647,0.025239953151408433,0.025047829921194652,0.02505556093283346,0.02074600242208541,0.025803378867608907,0.0281971280283894,0.017141736552085913,0.021258548585586765,0.02011623457951647,0.016288369133134407,0.014023485471012767,0.02280260697814094,0.020508154654059085,0.03044200906760753,0.029868171416612316,0.02941804515881185,0.016745781562435964,0.011894346896928247,0.016037740100847,0.008823971452588737,-0.0002670292290439876,0.0020697822048399168,0.0007940557964970433,0.0013589813779090261,0.00387942191268853,0.006549362106327876,-0.009056882037350519,-0.004718675100495462,-0.009559838900232693,-0.011341597698369362,-0.01683276532443861,-0.005863795606253838,0.0070547922260566056,-0.00045465827577482185,0.0019986019068975124,0.009548141497614035,0.01863022414756948,0.019277505550515914,0.02166218749566582,0.03467180551670824,0.02972405582829669,0.04186483980478915,0.0338201126609795,0.025093717383787444,0.01608440098659849,0.02549538771280401,0.029298773715880064,0.0077085843810142055,0.005021783945411506,0.014133098110780621,0.01974685103504603,0.009605606443220201,0.005647706809626237,-0.00015384470209915216,-0.012966694238141733,-0.018902156436132838,-0.03399647640738167,-0.031868126591404346,-0.03340058890419211,-0.020265787527553886,-0.030481398591867864,-0.046601424105099126,-0.024836718867385966,-0.012758866258245108,-0.013329346123955865,-0.005114755398268193,0.0015719308198808809,0.004431445512186017,-0.0020883433157133703,0.013491873232253612,0.021708105793547924,0.035813623241273636,0.03983936377559836,0.05268380816539226,0.03669323812777036,0.0216784702823396,0.026252288545325665,0.028746467907158943,0.008012938420313927,0.013985934673826871,0.0016398047018381472,-0.0066563660204058605,-0.014814562488657874,-0.00014842157425682957,-0.015957756085173327,-0.009845017670702087,-0.0005979527518065631,0.0012140488324088909,0.00450431750324416,0.010431090208240927,0.02083094336792124,0.026735396794482735,0.012277692238301056,0.03438929452285429,0.013984831036489532,0.017982715672445575,0.019203629291157577,0.016870665438489703,0.020188831298217944,0.0256518730120348,0.02368489851456926,0.015276199091190415,0.011993061885385004,0.002982202206383929,0.004710819413249823,0.0034074217827315383,-0.0028724291675999622,0.009151397026877343,-0.004823710131730537,0.00008725737656150775,-0.0013718023244983612,0.0034506839939100566,0.013985915331407176,0.008534683600975097,0.0020185690086871174,0.0010906620102677364,0.004491577415363797,0.0065536467801899255,0.008689374512269855,0.009499051188599061,0.016275354848169332,0.01178054613849815,0.006033826538067662,0.014107869437791543,0.01499104079556739,0.019827367140380373,0.013577997187361922,0.006826390273073576,0.006635957217248152,0.008639369790249596,-0.0029142979725320056,-0.011280974147280295,-0.016294625799319996,-0.01217496299198156,-0.010668675645193382,-0.013120220568256702,-0.008311755747245898,-0.013183254912557719,-0.02309147300565047,-0.010882466887023264,-0.027622319559224066,-0.01859480858331365,-0.020521338951996614,-0.013328585869127055,-0.0019367752711714203,0.007489454804425311,0.006660570570496619,0.01761182387381656,0.008584405259857509,0.008210637654375515,0.016787289607622626,0.0317730457444348,0.032327677224016325,0.047112941774593686,0.04031423503653905,0.06350162090890456,0.05899755773513924,0.06880175169860742,0.06344791895730537,0.046103139010804796,0.0370159473821583,0.042096043888040315,0.04385321510953784,0.03235948414820588,0.03256391920261924,0.03315927945122867,0.021357337581739404,0.022308857201689788,0.01613921634362221,0.010740018373610589,0.006973993651615995,0.012316420060575517,0.017583146707382577,0.014159931189054712,0.021808437991192104,0.03875656805745698,0.024403006177652356,0.011136456760653808,0.030316658476122763,0.028549387667178502,0.021461408602804433,0.01920500836711036,0.0202233373919376,0.03293581450671583,0.0292030117570295,0.016673559392799516,0.010787352892242552,0.0010574341296497813,0.011389942015955364,0.009567928596736823,0.016727192656278866,0.030835762128058372,0.04961032150352098,0.04795312031385125,0.0590948339632277,0.05550449908712632,0.05610258341728945,0.07581499116392616,0.05843033985521607,0.07748338633184734,0.07803883750666346,0.07256399611721429,0.07643022540540301,0.05056076945500688,0.05371912948207278,0.0331082313067452,0.03292457196961488,0.033553363983742736,0.022371343742006524,0.017041519877477047,0.020651018060669674,0.0284678376839319,-0.004155313827830476,-0.01006312848250867,-0.014672761961990292,-0.017309253198962024,-0.008238059085694615,-0.007256249301443181,0.008015051871680967,0.014238085769127906,0.022132272934587565,0.020504818432845972,-0.013163810039561123,0.007625774798961278,-0.0036171680511932537,0.003922218467680357,-0.010871935276639159,0.007192224001988023,-0.00034632980944628857,-0.021759006527608923,-0.016262883876620057,-0.019459783069443404,-0.029701892420589182,-0.039835059977744024,-0.054986450461877764,-0.056406935918267405,-0.05128084933422456,-0.03286613187929757,-0.049112196748278096,-0.051289583352380555,-0.05710122687919004,-0.04588805633985314,-0.053338409141816236,-0.04235430358554041,-0.0309638455989868,-0.03372138574128553,-0.03015765627366435,-0.014686750615222798,-0.0025879754355832675,0.011351401327963372,0.009927963954538654,0.007691136664513939,0.01526187908005312,0.014914072835910315,0.015682305905850194,0.01263003520664121,0.014236173255016618,0.021689865524122175,0.02682757662558292,0.030656524077891205,0.038595522879987805,0.030640678301321098,0.02008513235490484,0.023169796076586025,0.015804842342556392,0.023422200828937947,0.02761282350232778,0.018119973922595397,0.022644965953466805,0.033876143592682456,0.031195773903512306,0.0314300231643573,0.025139692524394994,0.019042548732976707,0.0064719252323492665,-0.01759207411112366,-0.015408703860630328,-0.008892725339297176,-0.012018290248473562,-0.014958070543798089,-0.027871123562337688,-0.0244176520133608,-0.019728844888976364,-0.01968948699117501,-0.028759505991148338,-0.022109037901782418,-0.025274634113942856,-0.012639237635268625,-0.007525505540973576,-0.005577814568663619,0.013538998208730923,0.023557587637533926,0.024219967997933623,0.021208202676312144,0.020171552167981766,0.022511555670005734,0.010874254789349535,0.009429745972292144,0.011619291667569935,0.013069294780567139,0.00919961319347351,0.005954242701992444,-0.013638465668246624,-0.019745102339987615,-0.009297150067964388,-0.012789070804296662,-0.026005356888684203,-0.034050102788163804,-0.019381205659482013,-0.01966097953200503,-0.009608010516367511,0.001188029226437178,0.010498859845972557,0.018525520303137456,0.03115945311462601,0.044469802138114585,0.04773864578789079,0.06497454691503328,0.07863274294087587,0.08027009657872876,0.08420877045326366,0.10495066636390196,0.11930811641013707,0.08924199851879268,0.09691483895419743,0.10666684132787013,0.10111092716911632,0.09728020130859942,0.07356478828965975,0.06396840822731349,0.06483675174930165,0.0604103051393853,0.06233512951007795,0.049265838978477916,0.056116969589307966,0.050552286201456555,0.035085525529512,0.020738509088416398,0.03676195311886961,0.036874551387803815,0.02396504493524668,0.02768254580908233,0.019565632254174403,0.043554364416789504,0.04561386431160444,0.03732703498462448,0.0380486963506856,0.02903312052030375,0.021542970520416618,-0.0003155130114947724,0.0073118087369610524,0.02064393405662302,0.019497672595648535,0.02282280719259019,0.027375717632243498,0.023510650765823666,0.009428774757437116,0.009741303450207421,-0.00880016206766309,-0.00606149468443616,-0.008629039753065667,0.007108654494678746,-0.005312761010086279,-0.007439788986689481,0.0019913832642169875,-0.004173642030053238,-0.022533000618536705,-0.01965658814366839,-0.011417342171535515,-0.021298102394662108,-0.018588414094359487,-0.009684218705785182,-0.0066479149751469775,0.005017502705026722,0.007174486024168125,0.0014234272417233149,-0.010263739941858379,-0.006612122865510983,0.017973827461059185,0.035291124002553194,0.033279917071882895,0.04291301424910401,0.03300099320765882,0.025972963112096892,0.035064326759141194,0.03468662873469697,0.03330982993828222,0.05108682499780522,0.037005030499394805,0.03081866820998697,0.030893204895227438,0.03537263687592406,0.040314358574502586,0.018456793899406656,-0.0028072958569527037,0.013798379893773511,0.006146192322187538,0.013969340986892042,0.005425049119113308,-0.006737962667101153,0.0004939232312431467,-0.003296956161856042,-0.025667254294141628,-0.0300068843961677,-0.03211126147598715,-0.031446434342352524,-0.046103998123139436,-0.048257439580638814,-0.042816338679908424,-0.03868765597394699,-0.060145845566165396,-0.0382470223765124,-0.036833023152024386,-0.048637792682445634,-0.036030158383683224,-0.043895945775589654,-0.031192877750698914,-0.02085203974154422,-0.009847623480397456,-0.015191927940444098,-0.015284083747809991,-0.00471691388120495,0.0074222560943391375,0.02020822501814686,0.024513570069975604,0.029769897693505125,0.008108935653185927,0.013933228522312765,0.03761261792501832,0.02986387446752795,0.03377326500409925,0.015592223392382584,8.21050289214753e-6,0.009228516031751491,0.007566528552118967,0.013547790653521888,0.011015109307324581,0.0004032203891493206,-0.011915981881350035,-0.014426594948503417,-0.01355117721307438,-0.002024283176776187,-0.007656633775298438,-0.009113884889911125,-0.013540685457090381,-0.015305269415293072,-0.001317959730575898,0.02003094453222154,0.016129589421227546,0.01393011242530342,0.013546219887774609,0.013050766495176091,0.012837693617608004,0.03083386214001867,0.024567557227433964,0.022772413289962105,0.01558045284246236,0.011731122698039265,0.015022974082417366,0.013477495239972015,0.00960214719120079,0.005866965669310767,-0.01213298784814274,-0.01458207682132701,-0.007751754393668916,0.004292254513459899,0.013043473016796507,0.015843511604424758,0.006925016659204471,0.009355090120909064,0.004784548533894058,0.0008198695409712778,0.0025573442426537105,-0.002306492267526039,0.0033686869730972903,0.005662181471070819,-0.0020040883307319863,-0.007274288050114089,0.004766794257241536,0.005714107555200165,-0.006461594965211089,-0.00870652417351252,-0.006995692871170374,-0.028060656440777678,-0.034844849098915096,-0.032217769174808335,-0.023905961506333166,-0.00954712987550869,-0.021359853545045954,-0.01188226314140035,-0.029683924076918267,-0.02807698044955386,-0.0048057753364445215,-0.020271724653348738,-0.025630379157882053],\"type\":\"scatter\"}],                        {\"template\":{\"data\":{\"barpolar\":[{\"marker\":{\"line\":{\"color\":\"white\",\"width\":0.5},\"pattern\":{\"fillmode\":\"overlay\",\"size\":10,\"solidity\":0.2}},\"type\":\"barpolar\"}],\"bar\":[{\"error_x\":{\"color\":\"rgb(36,36,36)\"},\"error_y\":{\"color\":\"rgb(36,36,36)\"},\"marker\":{\"line\":{\"color\":\"white\",\"width\":0.5},\"pattern\":{\"fillmode\":\"overlay\",\"size\":10,\"solidity\":0.2}},\"type\":\"bar\"}],\"carpet\":[{\"aaxis\":{\"endlinecolor\":\"rgb(36,36,36)\",\"gridcolor\":\"white\",\"linecolor\":\"white\",\"minorgridcolor\":\"white\",\"startlinecolor\":\"rgb(36,36,36)\"},\"baxis\":{\"endlinecolor\":\"rgb(36,36,36)\",\"gridcolor\":\"white\",\"linecolor\":\"white\",\"minorgridcolor\":\"white\",\"startlinecolor\":\"rgb(36,36,36)\"},\"type\":\"carpet\"}],\"choropleth\":[{\"colorbar\":{\"outlinewidth\":1,\"tickcolor\":\"rgb(36,36,36)\",\"ticks\":\"outside\"},\"type\":\"choropleth\"}],\"contourcarpet\":[{\"colorbar\":{\"outlinewidth\":1,\"tickcolor\":\"rgb(36,36,36)\",\"ticks\":\"outside\"},\"type\":\"contourcarpet\"}],\"contour\":[{\"colorbar\":{\"outlinewidth\":1,\"tickcolor\":\"rgb(36,36,36)\",\"ticks\":\"outside\"},\"colorscale\":[[0.0,\"#440154\"],[0.1111111111111111,\"#482878\"],[0.2222222222222222,\"#3e4989\"],[0.3333333333333333,\"#31688e\"],[0.4444444444444444,\"#26828e\"],[0.5555555555555556,\"#1f9e89\"],[0.6666666666666666,\"#35b779\"],[0.7777777777777778,\"#6ece58\"],[0.8888888888888888,\"#b5de2b\"],[1.0,\"#fde725\"]],\"type\":\"contour\"}],\"heatmapgl\":[{\"colorbar\":{\"outlinewidth\":1,\"tickcolor\":\"rgb(36,36,36)\",\"ticks\":\"outside\"},\"colorscale\":[[0.0,\"#440154\"],[0.1111111111111111,\"#482878\"],[0.2222222222222222,\"#3e4989\"],[0.3333333333333333,\"#31688e\"],[0.4444444444444444,\"#26828e\"],[0.5555555555555556,\"#1f9e89\"],[0.6666666666666666,\"#35b779\"],[0.7777777777777778,\"#6ece58\"],[0.8888888888888888,\"#b5de2b\"],[1.0,\"#fde725\"]],\"type\":\"heatmapgl\"}],\"heatmap\":[{\"colorbar\":{\"outlinewidth\":1,\"tickcolor\":\"rgb(36,36,36)\",\"ticks\":\"outside\"},\"colorscale\":[[0.0,\"#440154\"],[0.1111111111111111,\"#482878\"],[0.2222222222222222,\"#3e4989\"],[0.3333333333333333,\"#31688e\"],[0.4444444444444444,\"#26828e\"],[0.5555555555555556,\"#1f9e89\"],[0.6666666666666666,\"#35b779\"],[0.7777777777777778,\"#6ece58\"],[0.8888888888888888,\"#b5de2b\"],[1.0,\"#fde725\"]],\"type\":\"heatmap\"}],\"histogram2dcontour\":[{\"colorbar\":{\"outlinewidth\":1,\"tickcolor\":\"rgb(36,36,36)\",\"ticks\":\"outside\"},\"colorscale\":[[0.0,\"#440154\"],[0.1111111111111111,\"#482878\"],[0.2222222222222222,\"#3e4989\"],[0.3333333333333333,\"#31688e\"],[0.4444444444444444,\"#26828e\"],[0.5555555555555556,\"#1f9e89\"],[0.6666666666666666,\"#35b779\"],[0.7777777777777778,\"#6ece58\"],[0.8888888888888888,\"#b5de2b\"],[1.0,\"#fde725\"]],\"type\":\"histogram2dcontour\"}],\"histogram2d\":[{\"colorbar\":{\"outlinewidth\":1,\"tickcolor\":\"rgb(36,36,36)\",\"ticks\":\"outside\"},\"colorscale\":[[0.0,\"#440154\"],[0.1111111111111111,\"#482878\"],[0.2222222222222222,\"#3e4989\"],[0.3333333333333333,\"#31688e\"],[0.4444444444444444,\"#26828e\"],[0.5555555555555556,\"#1f9e89\"],[0.6666666666666666,\"#35b779\"],[0.7777777777777778,\"#6ece58\"],[0.8888888888888888,\"#b5de2b\"],[1.0,\"#fde725\"]],\"type\":\"histogram2d\"}],\"histogram\":[{\"marker\":{\"line\":{\"color\":\"white\",\"width\":0.6}},\"type\":\"histogram\"}],\"mesh3d\":[{\"colorbar\":{\"outlinewidth\":1,\"tickcolor\":\"rgb(36,36,36)\",\"ticks\":\"outside\"},\"type\":\"mesh3d\"}],\"parcoords\":[{\"line\":{\"colorbar\":{\"outlinewidth\":1,\"tickcolor\":\"rgb(36,36,36)\",\"ticks\":\"outside\"}},\"type\":\"parcoords\"}],\"pie\":[{\"automargin\":true,\"type\":\"pie\"}],\"scatter3d\":[{\"line\":{\"colorbar\":{\"outlinewidth\":1,\"tickcolor\":\"rgb(36,36,36)\",\"ticks\":\"outside\"}},\"marker\":{\"colorbar\":{\"outlinewidth\":1,\"tickcolor\":\"rgb(36,36,36)\",\"ticks\":\"outside\"}},\"type\":\"scatter3d\"}],\"scattercarpet\":[{\"marker\":{\"colorbar\":{\"outlinewidth\":1,\"tickcolor\":\"rgb(36,36,36)\",\"ticks\":\"outside\"}},\"type\":\"scattercarpet\"}],\"scattergeo\":[{\"marker\":{\"colorbar\":{\"outlinewidth\":1,\"tickcolor\":\"rgb(36,36,36)\",\"ticks\":\"outside\"}},\"type\":\"scattergeo\"}],\"scattergl\":[{\"marker\":{\"colorbar\":{\"outlinewidth\":1,\"tickcolor\":\"rgb(36,36,36)\",\"ticks\":\"outside\"}},\"type\":\"scattergl\"}],\"scattermapbox\":[{\"marker\":{\"colorbar\":{\"outlinewidth\":1,\"tickcolor\":\"rgb(36,36,36)\",\"ticks\":\"outside\"}},\"type\":\"scattermapbox\"}],\"scatterpolargl\":[{\"marker\":{\"colorbar\":{\"outlinewidth\":1,\"tickcolor\":\"rgb(36,36,36)\",\"ticks\":\"outside\"}},\"type\":\"scatterpolargl\"}],\"scatterpolar\":[{\"marker\":{\"colorbar\":{\"outlinewidth\":1,\"tickcolor\":\"rgb(36,36,36)\",\"ticks\":\"outside\"}},\"type\":\"scatterpolar\"}],\"scatter\":[{\"fillpattern\":{\"fillmode\":\"overlay\",\"size\":10,\"solidity\":0.2},\"type\":\"scatter\"}],\"scatterternary\":[{\"marker\":{\"colorbar\":{\"outlinewidth\":1,\"tickcolor\":\"rgb(36,36,36)\",\"ticks\":\"outside\"}},\"type\":\"scatterternary\"}],\"surface\":[{\"colorbar\":{\"outlinewidth\":1,\"tickcolor\":\"rgb(36,36,36)\",\"ticks\":\"outside\"},\"colorscale\":[[0.0,\"#440154\"],[0.1111111111111111,\"#482878\"],[0.2222222222222222,\"#3e4989\"],[0.3333333333333333,\"#31688e\"],[0.4444444444444444,\"#26828e\"],[0.5555555555555556,\"#1f9e89\"],[0.6666666666666666,\"#35b779\"],[0.7777777777777778,\"#6ece58\"],[0.8888888888888888,\"#b5de2b\"],[1.0,\"#fde725\"]],\"type\":\"surface\"}],\"table\":[{\"cells\":{\"fill\":{\"color\":\"rgb(237,237,237)\"},\"line\":{\"color\":\"white\"}},\"header\":{\"fill\":{\"color\":\"rgb(217,217,217)\"},\"line\":{\"color\":\"white\"}},\"type\":\"table\"}]},\"layout\":{\"annotationdefaults\":{\"arrowhead\":0,\"arrowwidth\":1},\"autotypenumbers\":\"strict\",\"coloraxis\":{\"colorbar\":{\"outlinewidth\":1,\"tickcolor\":\"rgb(36,36,36)\",\"ticks\":\"outside\"}},\"colorscale\":{\"diverging\":[[0.0,\"rgb(103,0,31)\"],[0.1,\"rgb(178,24,43)\"],[0.2,\"rgb(214,96,77)\"],[0.3,\"rgb(244,165,130)\"],[0.4,\"rgb(253,219,199)\"],[0.5,\"rgb(247,247,247)\"],[0.6,\"rgb(209,229,240)\"],[0.7,\"rgb(146,197,222)\"],[0.8,\"rgb(67,147,195)\"],[0.9,\"rgb(33,102,172)\"],[1.0,\"rgb(5,48,97)\"]],\"sequential\":[[0.0,\"#440154\"],[0.1111111111111111,\"#482878\"],[0.2222222222222222,\"#3e4989\"],[0.3333333333333333,\"#31688e\"],[0.4444444444444444,\"#26828e\"],[0.5555555555555556,\"#1f9e89\"],[0.6666666666666666,\"#35b779\"],[0.7777777777777778,\"#6ece58\"],[0.8888888888888888,\"#b5de2b\"],[1.0,\"#fde725\"]],\"sequentialminus\":[[0.0,\"#440154\"],[0.1111111111111111,\"#482878\"],[0.2222222222222222,\"#3e4989\"],[0.3333333333333333,\"#31688e\"],[0.4444444444444444,\"#26828e\"],[0.5555555555555556,\"#1f9e89\"],[0.6666666666666666,\"#35b779\"],[0.7777777777777778,\"#6ece58\"],[0.8888888888888888,\"#b5de2b\"],[1.0,\"#fde725\"]]},\"colorway\":[\"#1F77B4\",\"#FF7F0E\",\"#2CA02C\",\"#D62728\",\"#9467BD\",\"#8C564B\",\"#E377C2\",\"#7F7F7F\",\"#BCBD22\",\"#17BECF\"],\"font\":{\"color\":\"rgb(36,36,36)\"},\"geo\":{\"bgcolor\":\"white\",\"lakecolor\":\"white\",\"landcolor\":\"white\",\"showlakes\":true,\"showland\":true,\"subunitcolor\":\"white\"},\"hoverlabel\":{\"align\":\"left\"},\"hovermode\":\"closest\",\"mapbox\":{\"style\":\"light\"},\"paper_bgcolor\":\"white\",\"plot_bgcolor\":\"white\",\"polar\":{\"angularaxis\":{\"gridcolor\":\"rgb(232,232,232)\",\"linecolor\":\"rgb(36,36,36)\",\"showgrid\":false,\"showline\":true,\"ticks\":\"outside\"},\"bgcolor\":\"white\",\"radialaxis\":{\"gridcolor\":\"rgb(232,232,232)\",\"linecolor\":\"rgb(36,36,36)\",\"showgrid\":false,\"showline\":true,\"ticks\":\"outside\"}},\"scene\":{\"xaxis\":{\"backgroundcolor\":\"white\",\"gridcolor\":\"rgb(232,232,232)\",\"gridwidth\":2,\"linecolor\":\"rgb(36,36,36)\",\"showbackground\":true,\"showgrid\":false,\"showline\":true,\"ticks\":\"outside\",\"zeroline\":false,\"zerolinecolor\":\"rgb(36,36,36)\"},\"yaxis\":{\"backgroundcolor\":\"white\",\"gridcolor\":\"rgb(232,232,232)\",\"gridwidth\":2,\"linecolor\":\"rgb(36,36,36)\",\"showbackground\":true,\"showgrid\":false,\"showline\":true,\"ticks\":\"outside\",\"zeroline\":false,\"zerolinecolor\":\"rgb(36,36,36)\"},\"zaxis\":{\"backgroundcolor\":\"white\",\"gridcolor\":\"rgb(232,232,232)\",\"gridwidth\":2,\"linecolor\":\"rgb(36,36,36)\",\"showbackground\":true,\"showgrid\":false,\"showline\":true,\"ticks\":\"outside\",\"zeroline\":false,\"zerolinecolor\":\"rgb(36,36,36)\"}},\"shapedefaults\":{\"fillcolor\":\"black\",\"line\":{\"width\":0},\"opacity\":0.3},\"ternary\":{\"aaxis\":{\"gridcolor\":\"rgb(232,232,232)\",\"linecolor\":\"rgb(36,36,36)\",\"showgrid\":false,\"showline\":true,\"ticks\":\"outside\"},\"baxis\":{\"gridcolor\":\"rgb(232,232,232)\",\"linecolor\":\"rgb(36,36,36)\",\"showgrid\":false,\"showline\":true,\"ticks\":\"outside\"},\"bgcolor\":\"white\",\"caxis\":{\"gridcolor\":\"rgb(232,232,232)\",\"linecolor\":\"rgb(36,36,36)\",\"showgrid\":false,\"showline\":true,\"ticks\":\"outside\"}},\"title\":{\"x\":0.05},\"xaxis\":{\"automargin\":true,\"gridcolor\":\"rgb(232,232,232)\",\"linecolor\":\"rgb(36,36,36)\",\"showgrid\":false,\"showline\":true,\"ticks\":\"outside\",\"title\":{\"standoff\":15},\"zeroline\":false,\"zerolinecolor\":\"rgb(36,36,36)\"},\"yaxis\":{\"automargin\":true,\"gridcolor\":\"rgb(232,232,232)\",\"linecolor\":\"rgb(36,36,36)\",\"showgrid\":false,\"showline\":true,\"ticks\":\"outside\",\"title\":{\"standoff\":15},\"zeroline\":false,\"zerolinecolor\":\"rgb(36,36,36)\"}}},\"title\":{\"text\":\"Mean reward over all runs\"},\"height\":450,\"width\":750},                        {\"displayModeBar\": false, \"responsive\": true}                    ).then(function(){\n",
              "                            \n",
              "var gd = document.getElementById('6c94f1e2-17d8-4359-861d-abc776bd7af6');\n",
              "var x = new MutationObserver(function (mutations, observer) {{\n",
              "        var display = window.getComputedStyle(gd).display;\n",
              "        if (!display || display === 'none') {{\n",
              "            console.log([gd, 'removed!']);\n",
              "            Plotly.purge(gd);\n",
              "            observer.disconnect();\n",
              "        }}\n",
              "}});\n",
              "\n",
              "// Listen for the removal of the full notebook cells\n",
              "var notebookContainer = gd.closest('#notebook-container');\n",
              "if (notebookContainer) {{\n",
              "    x.observe(notebookContainer, {childList: true});\n",
              "}}\n",
              "\n",
              "// Listen for the clearing of the current output cell\n",
              "var outputEl = gd.closest('.output');\n",
              "if (outputEl) {{\n",
              "    x.observe(outputEl, {childList: true});\n",
              "}}\n",
              "\n",
              "                        })                };                            </script>        </div>\n",
              "</body>\n",
              "</html>"
            ]
          },
          "metadata": {}
        },
        {
          "output_type": "stream",
          "name": "stdout",
          "text": [
            "Tests passed!\n"
          ]
        }
      ],
      "source": [
        "class CheatyMcCheater(Agent):\n",
        "    def __init__(self, num_arms: int, seed: int):\n",
        "        super().__init__(num_arms, seed)\n",
        "        self.best_arm = 0\n",
        "\n",
        "        self.N = np.zeros(shape=(num_arms))\n",
        "        self.Q = np.zeros(shape=(num_arms), dtype=float)\n",
        "\n",
        "    def get_action(self):\n",
        "        return self.best_arm\n",
        "\n",
        "    def observe(self, action: int, reward: float, info: dict):\n",
        "        self.best_arm = info[\"best_arm\"]\n",
        "\n",
        "    def __repr__(self):\n",
        "        return \"Cheater\"\n",
        "\n",
        "\n",
        "cheater = CheatyMcCheater(num_arms, 0)\n",
        "reward_averaging = RewardAveraging(num_arms, 0, epsilon=0.1, optimism=0)\n",
        "random = RandomAgent(num_arms, 0)\n",
        "\n",
        "names = []\n",
        "all_rewards = []\n",
        "\n",
        "for agent in [cheater, reward_averaging, random]:\n",
        "    (rewards, num_correct) = run_agent(env, agent, n_runs=N_RUNS, base_seed=1)\n",
        "    names.append(str(agent))\n",
        "    all_rewards.append(rewards)\n",
        "\n",
        "utils.plot_rewards(all_rewards, names, moving_avg_window=15)\n",
        "\n",
        "assert (all_rewards[0] < all_rewards[1]).mean() < 0.001, \"Cheater should be better than reward averaging\"\n",
        "print(\"Tests passed!\")"
      ]
    },
    {
      "cell_type": "markdown",
      "metadata": {
        "id": "16_uW9LGytjA"
      },
      "source": [
        "<details><summary>Solution</summary>\n",
        "\n",
        "```python\n",
        "class CheatyMcCheater(Agent):\n",
        "    def __init__(self, num_arms: int, seed: int):\n",
        "        super().__init__(num_arms, seed)\n",
        "        self.best_arm = 0\n",
        "\n",
        "    def get_action(self):\n",
        "        return self.best_arm\n",
        "\n",
        "    def observe(self, action: int, reward: float, info: dict):\n",
        "        self.best_arm = info[\"best_arm\"]\n",
        "\n",
        "    def __repr__(self):\n",
        "        return \"Cheater\"\n",
        "```\n",
        "</details>"
      ]
    },
    {
      "cell_type": "markdown",
      "metadata": {
        "id": "ip7u3HaNytjA"
      },
      "source": [
        "### The Authentic RL Experience\n",
        "\n",
        "It would be nice if we could say something like \"optimistic reward averaging is a good/bad feature that improves/decreases performance in bandit problems.\" Unfortunately, we can't justifiably claim either at this point.\n",
        "\n",
        "Usually, RL code fails silently, which makes it difficult to be confident that you don't have any bugs. I had a bug in my first attempt that made both versions appear to perform equally, and there were only 13 lines of code, and I had written similar code before.\n",
        "\n",
        "The number of hyperparameters also grows rapidly, and hyperparameters have interactions with each other. Even in this simple problem, we already have two different ways to encourage exploration (`epsilon` and `optimism`), and it's not clear whether it's better to use one or the other, or both in some combination. It's actually worse than that, because `epsilon` should probably be annealed down at some rate.\n",
        "\n",
        "Even in this single comparison, we trained 200 agents for each version. Is that a big number or a small number to estimate the effect size? Probably we should like, compute some statistics? And test with a different number of arms - maybe we need more exploration for more arms? The time needed for a rigorous evaluation is going to increase quickly.\n",
        "\n",
        "As we continue onward to more complicated algorithms, keep an eye out for small discrepancies or minor confusions. Look for opportunities to check and cross-check everything, and be humble with claims."
      ]
    },
    {
      "cell_type": "markdown",
      "metadata": {
        "id": "dEAl5vkmytjA"
      },
      "source": [
        "### Exercise - implement UCBA selection\n",
        "> ```yaml\n",
        "> Difficulty: 🔴🔴🔴⚪⚪\n",
        "> Importance: 🔵🔵⚪⚪⚪\n",
        ">\n",
        "> You should spend up to 15-30 minutes on this exercise.\n",
        "> ```\n",
        "\n",
        "Once you feel good about your `RewardAveraging` implementation, you should implement `UCBActionSelection`.\n",
        "\n",
        "This should store the same moving average rewards for each action as `RewardAveraging` did, but instead of taking actions using the epsilon-greedy strategy it should use Equation 2.10 in Section 2.7 to select actions using the upper confidence bound.\n",
        "\n",
        "You should expect to see a small improvement over `RewardAveraging` using this strategy.\n",
        "\n",
        "*Tip - be careful of division-by-zero errors!*"
      ]
    },
    {
      "cell_type": "code",
      "execution_count": 21,
      "metadata": {
        "id": "nyFkxKyuytjA",
        "outputId": "527f7e6d-2ea7-4e9a-9a4c-b4a7c24ec0d2",
        "colab": {
          "base_uri": "https://localhost:8080/",
          "height": 699
        }
      },
      "outputs": [
        {
          "output_type": "stream",
          "name": "stderr",
          "text": [
            "100%|██████████| 200/200 [00:00<00:00, 261.70it/s]\n",
            "100%|██████████| 200/200 [00:02<00:00, 97.64it/s] \n",
            "100%|██████████| 200/200 [00:02<00:00, 75.14it/s]\n",
            "  0%|          | 0/200 [00:00<?, ?it/s]<ipython-input-21-2a5e93bfbc5e>:14: RuntimeWarning:\n",
            "\n",
            "divide by zero encountered in log\n",
            "\n",
            "<ipython-input-21-2a5e93bfbc5e>:14: RuntimeWarning:\n",
            "\n",
            "invalid value encountered in sqrt\n",
            "\n",
            "100%|██████████| 200/200 [00:04<00:00, 42.11it/s]\n",
            "100%|██████████| 200/200 [00:01<00:00, 112.36it/s]\n"
          ]
        },
        {
          "output_type": "display_data",
          "data": {
            "text/html": [
              "<html>\n",
              "<head><meta charset=\"utf-8\" /></head>\n",
              "<body>\n",
              "    <div>            <script src=\"https://cdnjs.cloudflare.com/ajax/libs/mathjax/2.7.5/MathJax.js?config=TeX-AMS-MML_SVG\"></script><script type=\"text/javascript\">if (window.MathJax && window.MathJax.Hub && window.MathJax.Hub.Config) {window.MathJax.Hub.Config({SVG: {font: \"STIX-Web\"}});}</script>                <script type=\"text/javascript\">window.PlotlyConfig = {MathJaxConfig: 'local'};</script>\n",
              "        <script charset=\"utf-8\" src=\"https://cdn.plot.ly/plotly-2.35.2.min.js\"></script>                <div id=\"ef06e39d-dd14-413b-af0f-706608750aca\" class=\"plotly-graph-div\" style=\"height:450px; width:750px;\"></div>            <script type=\"text/javascript\">                                    window.PLOTLYENV=window.PLOTLYENV || {};                                    if (document.getElementById(\"ef06e39d-dd14-413b-af0f-706608750aca\")) {                    Plotly.newPlot(                        \"ef06e39d-dd14-413b-af0f-706608750aca\",                        [{\"mode\":\"lines\",\"name\":\"Cheater\",\"y\":[1.48430664354447,1.6031731168107308,1.586067116259427,1.5791920523359144,1.580962279377163,1.5865026368187896,1.5884766676671964,1.5907087970578024,1.578565847450274,1.5766865568986568,1.563976135040125,1.5677980082348832,1.5586547375269362,1.5705960051449008,1.5730138493338297,1.5678395401492937,1.5810772988719919,1.5930096439624655,1.586492492164733,1.5833659509762275,1.583817054042154,1.576281148760726,1.5740502307765283,1.5799718597457248,1.5799734093979017,1.5962527728604963,1.5948841704594197,1.61669415827941,1.6158782158778147,1.6127956044472795,1.6248811432322308,1.6108642387342063,1.6044367441114151,1.6157824171399113,1.625598650234315,1.6159007427310437,1.6195066622067154,1.626541348503676,1.6212945853756768,1.6181104655113998,1.607486145873502,1.6061121244722414,1.5869642687849876,1.5903278357918376,1.5975939506126668,1.5874317174617867,1.5939111188133361,1.5990004622772014,1.588182850640348,1.5785939296572205,1.5832249844108504,1.590186332491722,1.5846184024273091,1.601005575464319,1.6166287673401825,1.6167129570395133,1.6200431781779598,1.6215975851245967,1.6198236313611658,1.605844430063549,1.615666798544793,1.6092996472916554,1.6105189292009356,1.617007868350341,1.6142076529168226,1.6148330125530663,1.6028328012456663,1.5925393423424272,1.5796400581930699,1.5673273048216023,1.570083997909152,1.576988872363259,1.5797614834254516,1.566078605558668,1.57391159934371,1.566519580291928,1.5701752691495272,1.561623623552731,1.5662173277081688,1.5678027090734077,1.561051511604118,1.5689606300703824,1.5827080315126827,1.5892114282305594,1.5956919419937472,1.5933305746254784,1.5791101992771113,1.5757542820657326,1.5804876173151967,1.5775437863210395,1.5727268278799877,1.5718213004841894,1.566698923125792,1.5620071322928235,1.56285305516642,1.5664458076187202,1.566875055275536,1.5612753177886607,1.5587587816785988,1.5498478936855482,1.5535673279681779,1.5583998742758884,1.5625295978961902,1.5622058579301514,1.5618968618425053,1.5668437341056156,1.5689048566659891,1.5799866718863125,1.578494151951287,1.584915422352331,1.5863089474260468,1.5932648960159668,1.595404011487102,1.587229682963571,1.60164040209843,1.60228196970232,1.6030220926682888,1.609219191388242,1.609170773386478,1.6043199155450945,1.6076182714406628,1.6157535881402965,1.6116079436420876,1.6205983865647569,1.6174004067691252,1.6306230709954965,1.6288994831388928,1.6296450694345745,1.6341311668654555,1.6291060701038438,1.6316107904035297,1.636524765341064,1.6428297536474608,1.645823792892666,1.6482197097842857,1.6513079712842038,1.6369943872659956,1.6446167460784087,1.6373422992524014,1.6400190427917267,1.6343491647664166,1.6227231431825582,1.6195857983298443,1.6255661916890385,1.6171941704432224,1.6065814491474764,1.5958001332794027,1.5900679038149121,1.5830161083714755,1.5859832193934418,1.5831987524987274,1.5859145381988506,1.588737451671195,1.5912419849352413,1.5901800649193016,1.5758650945133164,1.5810300986765318,1.5869341570706108,1.5760361517091668,1.580404434574757,1.5890029079919317,1.5918112208483117,1.5815297915137725,1.5899349647454148,1.589135410056584,1.592531040082963,1.5867270555446302,1.5721427826761176,1.5745652100835628,1.578604286603589,1.5861676413377608,1.5912277983960241,1.585299654619799,1.5913401512617649,1.5988228923711745,1.5854891579272552,1.584511755957188,1.5966686951548694,1.5931602157426292,1.6047671799414427,1.6002324070509795,1.6148582164508336,1.6132974886671454,1.6090118735694394,1.6065779221082457,1.6067257064103047,1.6045525314736173,1.6111485287875362,1.6165130786623536,1.6126657806189921,1.629245671893716,1.631356513346255,1.618946007269479,1.6205585622870482,1.6068649019263412,1.603509203425305,1.5893935233751335,1.5898719227192335,1.5912530827482139,1.583664507301133,1.5809630668015606,1.574309822894793,1.5714009878221342,1.5647723007258947,1.5526549275965331,1.5562494936653024,1.5598322273645484,1.571091712396128,1.5733225006795768,1.5831539685764673,1.5911976381523611,1.5989426160495328,1.601973738107726,1.6077271272288498,1.601655075955898,1.612587036661019,1.6179267048063746,1.622560937448308,1.6301827191509537,1.6380032230122046,1.6258769904899357,1.6259480237735109,1.6209939915719436,1.628546843159874,1.625630933774384,1.6211209708705534,1.6171089992428733,1.6170250216944206,1.6107931244906089,1.6236690843865669,1.6129097762517821,1.6201364917101273,1.6275376522200342,1.628450384775033,1.633597144933579,1.6242091852822265,1.6172713752923642,1.6182960029896094,1.6076754081968716,1.606309452130726,1.6023188658626206,1.6129607375797832,1.6136511688117934,1.6191780918254797,1.6203349561662397,1.618195671518754,1.614630168916627,1.611976447638195,1.6008881959976862,1.601078424405815,1.6108527766952307,1.6123341378946483,1.6111374472283273,1.614373173469672,1.617669604884994,1.6254960116942963,1.6065696343589744,1.6088110272325329,1.612304355753046,1.6128644455510084,1.625406186856003,1.6295002184313527,1.6177922454238152,1.6242522030250712,1.617621554951567,1.6087043250912225,1.6148335705999557,1.6129297662637139,1.6139266224313018,1.6070792029448777,1.6026391345032645,1.6085347362816529,1.6082431386579628,1.606303693742196,1.5997928601650528,1.588236200066884,1.5771256109375031,1.5828083692859802,1.5806829127562347,1.5911924521224932,1.601023055273591,1.5959517142951767,1.5926225675143542,1.5833906862033662,1.575481081472852,1.5713084299905518,1.578504887170258,1.5793069678834892,1.5733472724835906,1.582345279506213,1.5853420495371855,1.595017907506057,1.5770618774117982,1.5798168282881306,1.5805527423001005,1.5777177510589468,1.5774326675884291,1.5903922999182176,1.5947615398756398,1.60738362872479,1.6131105500263287,1.6137952099706505,1.6153594137426732,1.6100070194405285,1.5982181022398587,1.6065713425646322,1.6057193311075972,1.6227723481159917,1.6122447438821192,1.598457120417106,1.6090022191364104,1.6157822194817073,1.6127980466073912,1.6227198906658828,1.6250304074376838,1.6231802479597528,1.6233414638873076,1.6242635833980141,1.6298351625085579,1.636201272987868,1.6240040384941836,1.6298798345756345,1.6226139059656892,1.6271157785532675,1.6272710090734488,1.6195047529266882,1.6103367975938074,1.6077900070347444,1.603481481880984,1.6013784394674682,1.6072636212913418,1.6022464514465733,1.6082811662463579,1.60328021420684,1.5986588599559355,1.608478127931888,1.603470149485535,1.6138575997334177,1.616722807192726,1.6166124299347606,1.6202457937164505,1.618551634227371,1.6166995629766385,1.622330402914478,1.6171616415050645,1.6076436764030102,1.6073210011213632,1.6010791042784907,1.6046108623110664,1.6147943035517605,1.6071431689871285,1.602763141940568,1.6106742141556576,1.6000800396352437,1.6039183676229414,1.610636343416248,1.6165741563750922,1.615717895184927,1.6108754087352812,1.6153180830262348,1.6255718673844664,1.624505906721159,1.6227396395534925,1.6191606622904753,1.6086485247856672,1.6133099284718961,1.6048644730600017,1.5970174209841388,1.6157051134065115,1.617964308505202,1.6039458856584663,1.6030683991151895,1.6035246730032364,1.5986339011868647,1.5997724344787456,1.5943748908326825,1.5879762492311784,1.5885463358811118,1.590236443999667,1.5977372704538917,1.6021985272194115,1.6046216495978343,1.6060296817058997,1.5998296733556798,1.5977087350267387,1.602707033553088,1.6053279317792506,1.6109522328569028,1.60648209518882,1.604667522529591,1.5969455854104277,1.5951290138450456,1.5973971745488293,1.5994671717612619,1.5984680281944974,1.5942895777169421,1.6026163794435433,1.5943203835879407,1.5969497631755682,1.5971280547088402,1.5979188467489773,1.5881218817101777,1.5860801350343006,1.5932896178299492,1.588493416538457,1.598118428147192,1.6014512704531172,1.6048941923753242,1.6062559315390217,1.6042767037590617,1.6061369593297286,1.6070476384698245,1.602572729865877,1.5965621075415433,1.6074265722625418,1.6092923247116233,1.6108709525477782,1.6057426576521796,1.6016859687614822,1.6020508172667556,1.6028611854737391,1.6060285985270033,1.5974969150792806,1.6025223269326412,1.6043699476628868,1.6034270724757562,1.5959503057501023,1.6027719897540995,1.6109319948555367,1.5921374601330172,1.5847763175934915,1.5902872787303144,1.5970876105961906,1.5923083321370237,1.5946599966232118,1.5984259667472012,1.599595609238592,1.6001982415129987,1.6029551000461348,1.5978883174489436,1.5970569507188277,1.6021335963141914,1.600258045175959,1.5874664696228062,1.593203219036847,1.5916304102944878,1.5911089695124019,1.5804580284911025,1.5896379954537603,1.5895831536730232,1.5805526910420666,1.5891278631467989,1.587265580776807,1.5696472933340146,1.5737690165346672,1.5774896396618336,1.5760509319120577,1.579315224052895,1.5888352890980741,1.5951650929584427,1.601083920349894,1.6075047010139694,1.6168120385571,1.623349842216832,1.6255770065406143,1.6349933901014007,1.6343764774385818,1.6466793212994995,1.6565569187033133,1.6490920709430534,1.64213365285093,1.6294833966989093,1.6313805344498102,1.6292713798409977,1.6223369692275205,1.6196112754483996,1.6248540965369558,1.6203391960762852,1.6132205710154266,1.6175601687253902,1.6076269019382303,1.5944293872979112,1.5896522472945966,1.5893133958595476,1.6004072736958885,1.5987947453609574,1.6085569843756276,1.6005088401267433,1.6001225299499842,1.6055808536337433,1.619819855280419,1.6114798740256597,1.6175709575087618,1.6105430612193308,1.6076764627813798,1.6108252088524446,1.6146444945375833,1.6103052534798128,1.6092056445421576,1.6020066366391574,1.6016375116908192,1.6016085511051188,1.609079397294416,1.602418263149381,1.6000184583220516,1.5963598937964663,1.5961132305595507,1.5904350647036987,1.5924232428271807,1.5975559957934289,1.5929025205187828,1.5907931785589502,1.5917115666738861,1.595697489852561,1.6003307131079283,1.5977514440002096,1.6039748225781372,1.6002188052342186,1.6115746176773427,1.6138973443230422,1.610565268333221,1.6083425848473325,1.6124775999081369,1.622218678411241,1.6214261813715212,1.620978113108375,1.6183687538911196,1.6215594095801635,1.6188700848837092,1.6195491694299942,1.6384408551759029,1.6276943283060594,1.6292342189858497,1.6207017503722077,1.615812462144489,1.611598550724769,1.616587556798519,1.615839088826495,1.5984652679835032,1.5925680443235932,1.605112246066915,1.612265288090157,1.6155517217247886,1.6200690340453698,1.6123382674591766,1.6028685481028637,1.6062084361965845,1.5936734637851335,1.5975729970376127,1.5958831059926069,1.6027819325051647,1.5949482134169861,1.5874034140521038,1.6062550368295585,1.609223695226577,1.5999450615451603,1.6075291258039064,1.6096746231275423,1.604693961844411,1.5994133646827853,1.602103276736701,1.6081267715931895,1.62041558634722,1.624352401088178,1.6294642894254443,1.62167136170364,1.6189570533141553,1.6228762619473855,1.619812323973118,1.6045833333248918,1.6136834941294487,1.6070059166563244,1.5961744887107898,1.5929781303611283,1.6065137492772767,1.6016316381327669,1.599339930915024,1.6012735174060178,1.5919612071845526,1.5957691171764812,1.5970126934151192,1.5987349555521329,1.6016294429398612,1.5961193505755848,1.6126254350276819,1.5998082085024103,1.6065556945920434,1.6111932666742026,1.6053900795171028,1.6031024453469096,1.6043461835651973,1.606272911894113,1.6058701236111195,1.6109209370391833,1.6075061568872873,1.6057946724900376,1.6012446687747495,1.5996505331381665,1.6022959492660902,1.5983937981495424,1.6003472981688296,1.593428196699915,1.5924749306981842,1.6039995473159023,1.6037648113355394,1.6003847683896537,1.606247368049541,1.6103942638731799,1.6100823013244963,1.607648419521585,1.6089124013402019,1.6182876015173406,1.6147382335661633,1.615505160928918,1.6198809620234291,1.6218251686624172,1.6288397227738414,1.6251972347981716,1.620719253506445,1.6272618583538057,1.6251657058394358,1.6222195327404658,1.6118443960743283,1.6116641653738497,1.617465225856904,1.621023490262769,1.6182676707458767,1.6225020000042074,1.6109079344178174,1.6039999985180278,1.6118600259031912,1.5979477541773879,1.6042577326284269,1.6026568545681963,1.6002966070552929,1.6096048385452908,1.6042105678664333,1.6067216469390586,1.6121853979646705,1.612014552591078,1.6124470778974076,1.6125506808943253,1.610886278874159,1.622723415597587,1.6313271219859113,1.6267501719493338,1.6360136087492265,1.6314207090028352,1.6391080442471926,1.6333527757598252,1.6214172231245962,1.6265832340634765,1.631307935412921,1.623836717382225,1.6124974405199586,1.6111221663444666,1.619712562586589,1.6125040706189642,1.613362708376432,1.6080144397699163,1.5992031410869307,1.6041849709030582,1.6072931431048951,1.6105566567566407,1.6105791544159729,1.618684717999031,1.6185368003188312,1.6089164616598888,1.6102430464592241,1.6255460292619925,1.6232758088328108,1.6115161084771443,1.6189618835587225,1.6144653898462669,1.6237029751500813,1.6195006517708104,1.609236561219162,1.60213059027213,1.6028255155601225,1.6084178861552119,1.6048442751085834,1.6117866524562032,1.6219042848603293,1.6319599982642103,1.6259967814094276,1.6418590117294873,1.6410357438751058,1.641792068648086,1.6490134139538744,1.6423169553723862,1.661892069303197,1.6639105403621215,1.6589067242871351,1.6527921235068486,1.6395976255852929,1.64194194107619,1.6230398087915394,1.6232204768506562,1.624966447023841,1.6205611062215364,1.605054785541491,1.6098552043622476,1.6119729384619859,1.6014104396188789,1.6014506705237637,1.5955463211278886,1.5964206765876952,1.601938148670024,1.6045194459827294,1.6143429663623465,1.6166957432109788,1.618366801550883,1.6147140745645325,1.590915024929988,1.5992589385186269,1.5983134873813014,1.5982614368529235,1.5932293340380663,1.598328484581619,1.589098482335127,1.5787831364634712,1.5785745041529935,1.5851386997952734,1.5801124945225637,1.5686103783101317,1.5622850353091962,1.5634149278695078,1.5688792955155957,1.5863839838195115,1.5753740632579594,1.5718537543513624,1.5687600345885888,1.5729654675980025,1.5743790630868717,1.5811433932855683,1.5909524830366688,1.5954343433866294,1.5986326367179269,1.601014359613085,1.6170691865215001,1.6241725723272187,1.63291324384345,1.6296101642441803,1.628628443727454,1.6278987354193002,1.6298173375132592,1.6330980407526567,1.6303885873868693,1.6286314642417286,1.629268488896499,1.6220830928687822,1.6180760012796933,1.6092808793171267,1.6054985860507258,1.6040661197685797,1.600659363785735,1.6013675864013446,1.602474395578747,1.6011053468632175,1.6073313820704698,1.6126751673203974,1.607551131661512,1.6129010920285054,1.6098502769682,1.6064968541566942,1.6030928010684269,1.5912114873800116,1.5929167140729683,1.594833745958931,1.589444296762061,1.5881920262721148,1.5796398862601413,1.5822061952595807,1.580506297251956,1.576388328338256,1.572424533174899,1.5785633415552183,1.5778643578713551,1.582834718946909,1.5839051556603105,1.5924121711058281,1.6041127078726125,1.6042765098608622,1.6042633878460342,1.6085908561394717,1.6093999286492362,1.6116692641869728,1.6069614430578136,1.610749799536158,1.6204214815470246,1.6199383155927989,1.6203604207551356,1.6112257009016957,1.599743776557913,1.6004187751322811,1.6028369435365828,1.6057965068588298,1.6100357508833136,1.6078568646620017,1.6135683728307413,1.61029582399586,1.6175920688077592,1.6254548059456737,1.6302369030027422,1.6322305796555763,1.6383695783651244,1.6425890898991686,1.6494000459521128,1.6632061462427978,1.6679879249490872,1.6670014802359674,1.664921568191979,1.6685582390382478,1.6803031288523167,1.6654588382014481,1.6707341961704818,1.672676954353498,1.6626678172199718,1.6550881624549978,1.6431200696165282,1.633436337205103,1.6349705975129079,1.632445370668999,1.6363818661285374,1.6311508457933541,1.636356259244591,1.6371401699065244,1.6315784080509275,1.6197640175195223,1.624616985182714,1.6226916401469529,1.6156681298143971,1.6191001040633182,1.6205568840761468,1.6299604873852027,1.6364539991893556,1.6313520043045628,1.6308982967553978,1.6230738659015362,1.6133832761947966,1.6013541511891012,1.6054846563697538,1.6125715163377512,1.6111397775537475,1.6179512540144667,1.6138248279132463,1.6141718130766094,1.6088095004615752,1.6117833138701674,1.6043349423780606,1.605558825129477,1.6100392442893432,1.621300452906083,1.6189396562804177,1.6199604239332832,1.6190855548326606,1.6128644333881008,1.6010826562322715,1.6016901670013795,1.598011779444808,1.60118922229852,1.5990286352150784,1.5990851507924768,1.5933872159827691,1.5996349966315848,1.60193769360723,1.5882130487992374,1.5774529232021754,1.5663987535341979,1.5864617758362176,1.601018088626961,1.594708109591511,1.594863772467473,1.5881583094846823,1.5887892375151296,1.591647232601569,1.5939270577378617,1.5978636294106916,1.609816340298903,1.6031835311327995,1.6027575003257273,1.6030674508507825,1.6051818719080984,1.609956465992415,1.6030115106604323,1.5896342808550494,1.6083659834826751,1.6075529149249632,1.6215214753313982,1.6172569447213845,1.6153582945638845,1.6167321457545314,1.619160920902444,1.609864654053581,1.6011562784526632,1.5941452226914103,1.595341158742076,1.5900122495317797,1.5955731027051419,1.5842344881015682,1.5925349769350305,1.5745158725246104,1.5874436670420438,1.5850558322475536,1.5807122118792145,1.5851750728634064,1.5849964986138427,1.5813427129475257,1.5804074279506797,1.5884704706186008,1.5864437407132603,1.5904692304999268,1.5971678124160462,1.6034302393371036,1.6178209225889684,1.6105137177326165,1.6125794216285916,1.6058901840161222,1.6082238356140048,1.617712045028611,1.6110239879729458,1.6110177240551367,1.5984828892864396,1.5887176556937297,1.5943193794371988,1.5966808749423156,1.5998225555738828,1.5975717769258002,1.5923581625166814,1.5869899173844866,1.5929514076970919,1.5976332036323735,1.6059354861999813,1.5966807209457936,1.5961670938563506,1.5945345008039717,1.5925994338075877,1.6084054474865752,1.6207148776890334,1.6146212588542919,1.6138198158926116,1.6189228799650057,1.6228060890907727,1.6214180271028908,1.6307422840202586,1.6267715292590765,1.6213767132159471,1.6080890781559296,1.6168515703733495,1.6156175040021632,1.6133068377053406,1.6096833947496483,1.6109522761924078,1.6078241850536565,1.6133851697439392,1.6155906248462846,1.621378789750194,1.6170510978546644,1.6205597847950381,1.6099805939009153,1.6067487428840954,1.6051364133308652,1.6044020258650107,1.5999242904732456,1.598507502180731,1.5999179628821518,1.6047285136628033,1.6003133168174373,1.5987545540608457,1.6021029855400835,1.6044589644136522,1.5973741086435136,1.6042866139683307,1.6043319813024632,1.5955030983909941,1.6006166488405598,1.5996519230476527,1.607571861081078,1.6140673182427843,1.6128266110533787,1.6199650151007519,1.606212482939039,1.602519611541887,1.6133873319712166,1.603389951658149,1.5988765979198434],\"type\":\"scatter\"},{\"mode\":\"lines\",\"name\":\"RewardAveraging\\u003cbr\\u003e  │eps=0.1\\u003cbr\\u003e  │optimism=0\",\"y\":[0.6310828703738308,0.6911189884305704,0.7209797505162301,0.7507854918080279,0.7865965565470543,0.8197723739827923,0.8436290203897765,0.8622923750278133,0.8688528841908949,0.8847247969875848,0.882412256809165,0.8968608722127002,0.8939596192544417,0.9196372983425701,0.9333847000998109,0.938611090916556,0.9585251099682476,0.9762148825403246,0.9785060548987545,0.9843316098695318,0.991994894900227,0.9920701463584108,0.9947027970868836,1.0055201288862319,1.0146396265285984,1.0391760592745947,1.0397990720467811,1.0681609224831659,1.0710415919577663,1.0735297678183013,1.0910360702202007,1.0860339624816453,1.0872488005041887,1.1030275978465995,1.1167882626872843,1.1139885317963458,1.1207318868789262,1.1371291763516296,1.1294461033079344,1.1270290994623138,1.12188280991268,1.1205800601075198,1.1081842159558202,1.1167453696959706,1.125677742841908,1.1213049038252663,1.1357328314972794,1.140225851477331,1.1362055822482404,1.127905380411587,1.136921324296406,1.1476542025001961,1.1461223268029552,1.172100815029622,1.1917820430561141,1.1908836879701739,1.2011382074087753,1.2064805817710502,1.2037816017742553,1.1899060082603214,1.2034043317278518,1.1987117980658766,1.2061829463772147,1.2133831531936214,1.217810453854151,1.2191751928121954,1.2021662009866683,1.1916937225237234,1.1802099746998977,1.1673410656269103,1.1705348931261617,1.1768549735870542,1.1738902203261177,1.1616103391113815,1.172063984702219,1.1623875435994477,1.1636504618388415,1.15581271741956,1.161282513970598,1.1600209756528992,1.158292102619932,1.1780759249324746,1.194566105859935,1.2035575031198316,1.2156591886228056,1.2223987463991364,1.2182798829806472,1.2215962344635074,1.2278853886612533,1.226856538790733,1.2190767792377888,1.226132473287266,1.2189836584503118,1.2168309936597326,1.2148916182851424,1.2194128590438993,1.2172024707817939,1.2095880056146484,1.2099866421226702,1.1989303659797685,1.2042952358999932,1.2073589150773054,1.2134186738038333,1.2171553520517135,1.2198641231265743,1.2231458331153695,1.2153170055526203,1.2314505860252098,1.2296355747520882,1.2413320363226035,1.2409258047995129,1.251153454231896,1.2579249118846585,1.2436732356328377,1.260660933638846,1.2538670570578252,1.2555849218294886,1.2624365158675819,1.2632011869596047,1.2591098006554433,1.2654638778177192,1.2778116718019248,1.275954891169935,1.285174165607117,1.2861307131135353,1.3039590445925417,1.3018410454722036,1.3021033198714007,1.3129598856637397,1.307626855586496,1.3138842791434893,1.3190546535211847,1.3232838006314316,1.3265522020531364,1.3335138085207632,1.3453018625756594,1.3402619254320334,1.3523485644978792,1.350096345841814,1.354124114102975,1.3417180653026,1.3297455897172787,1.3227917066561115,1.3311953630553186,1.3198677583680232,1.3135307339353859,1.3048331667732118,1.3025701875723883,1.3014422294383943,1.304314989188335,1.3020469821890401,1.2994724096156725,1.3019744258458483,1.3039489792193157,1.2991968252683839,1.2909352981041025,1.299067919576142,1.311138028359352,1.2976317053660884,1.3100040616984037,1.3182284164469686,1.3217590377038524,1.3100796066206783,1.3138628093431142,1.3143870862678928,1.317314177561004,1.315346697749042,1.296287477731094,1.3024305545224346,1.3108559355539455,1.3152551022872994,1.3192444418100802,1.3126695437029279,1.3227270038637111,1.3243216688097543,1.305082026623046,1.3005294261728484,1.3175035089372993,1.3174737399946745,1.3254170849502542,1.3199565727564277,1.334382611945578,1.3301377614810916,1.323258870934014,1.3141838060739643,1.315468003646752,1.3171173736822823,1.3272741355321367,1.330681308905262,1.334885346281906,1.3555685963565396,1.3645784423306737,1.3503596757806824,1.3521358343021328,1.33872864953539,1.3396823436412926,1.3275645700819723,1.3357370353375946,1.337342453664951,1.337397036938906,1.3347904165261109,1.327445327375464,1.319440374016504,1.3125871642804157,1.3000692731078212,1.3045596592460222,1.3070499082822455,1.3219999456616658,1.326114208531783,1.3393431603087966,1.3478351810640807,1.35401656959743,1.3552790474676935,1.3641785581420645,1.3528213283240538,1.3692955073277346,1.37523613214816,1.382708657990535,1.3926089817656893,1.4043711448028033,1.3935502598078984,1.3918539107977306,1.3888152388005968,1.3898122100714507,1.3877230324028953,1.3833033051839114,1.381790574223597,1.384831234086164,1.376659740271998,1.3959596086069344,1.3861288639138327,1.395448344133259,1.4032795064147876,1.4032096194135268,1.4100949694536553,1.4048646735775492,1.4021681573240925,1.4010330232384112,1.3971453351003447,1.3941100781546727,1.3929027326269685,1.4035360878817338,1.4016691987028405,1.4072021419452123,1.4069800686003684,1.4067019043012465,1.405430888376039,1.4031498117650776,1.3927908779889435,1.3864094861816094,1.3965835582232784,1.3885506875375464,1.3855368224566442,1.3879590545445883,1.3928609109483319,1.395837737184426,1.3768019329401606,1.383694983911145,1.3908501048980801,1.3958332729734935,1.4084350391143252,1.4102900759284505,1.4005896498969945,1.4066406200265191,1.402567107978924,1.3934078716598757,1.4073467940877586,1.4073947185266016,1.4115038233838315,1.3990288689017802,1.3989806416800812,1.40000832026282,1.4016051593090082,1.396543052085307,1.3871668161172503,1.3707015660659445,1.3540817677645047,1.3537977316133492,1.3545220803699636,1.3619270764306672,1.3692919953021943,1.3607614563702706,1.353911854553447,1.3385548214324445,1.3342571885544847,1.32770913885192,1.3379513166250983,1.3363512187953992,1.3266218557918894,1.3389435388796074,1.3465292337187749,1.3632298783995567,1.3530236801638884,1.3537690155848623,1.3613042205359194,1.361582672114283,1.3660780826457009,1.3844607492888485,1.385061792386936,1.398687531509904,1.401584009287554,1.4023469486253588,1.4032852703865841,1.405724644455654,1.3913930647826456,1.3969630073919272,1.3991357417434036,1.4094903998827324,1.4021498323156683,1.3884480663521799,1.4008254768867043,1.4032701977491078,1.4056557412640474,1.4195801506277765,1.4215194218703193,1.4225693113162985,1.4277045800255412,1.429225783861159,1.431867424575315,1.4398977582260197,1.427801267270172,1.4281421048452179,1.4307935633264568,1.4381324153782733,1.4345409201963661,1.4204817971491366,1.4170407938222107,1.4070565819715777,1.405731536027338,1.4091493014107945,1.415877310434602,1.4071279288028526,1.4099834999125658,1.4123085496492043,1.4088663633727265,1.4202193933642964,1.4118146307552517,1.4149525316318583,1.4152036595193105,1.4170606685528924,1.4285738484030768,1.4230857384752311,1.4228378297466369,1.4281360101780138,1.4186140297282464,1.409627939832482,1.4106797214535012,1.4087536648412349,1.4032477768833587,1.4095240307669579,1.4012880675493686,1.401564483088066,1.4174940684864017,1.4064181200631083,1.4095829620034466,1.4141598663153634,1.425570088967053,1.428741361077861,1.4260650015102783,1.431219630011204,1.4412129922532775,1.4438407906711708,1.4425278701728417,1.4406816928344672,1.431441030070433,1.4362628959400505,1.4324379083134393,1.4189342418668844,1.4355802095325885,1.4382429220905502,1.4259822265405282,1.4183313772471744,1.409539152555605,1.4055610066044475,1.4078893378096116,1.3998855279703624,1.389832370408764,1.3846299477509434,1.3834669880935166,1.3916167371825205,1.395678953919393,1.3942956074648274,1.3966244831158066,1.3972987444552056,1.3929615470925947,1.3919976749626926,1.4010183926885438,1.4149036474442256,1.4089495406916475,1.4078037120765392,1.399861062720284,1.4019362686583994,1.4113101258308915,1.412667069292176,1.409858776917804,1.4085380148778313,1.411052715500845,1.3989867414909327,1.3962308717448195,1.400914711078402,1.40249521772173,1.393048653353071,1.3899396791320593,1.3948387808681446,1.3911040136082495,1.4047500803103807,1.3980735254089647,1.3989200750619526,1.4058931659050964,1.4038329540677674,1.4065920024572354,1.4080478737031703,1.4042682275099954,1.3986710204641593,1.4061362967323323,1.408549032836163,1.4092826519945296,1.3974544435518585,1.3912701141041757,1.384053381045813,1.3835074727320793,1.3893045706823766,1.3766255560191591,1.3774021070543465,1.3818532458725485,1.379540775924564,1.3785679819843304,1.3874045183602448,1.3967296491295655,1.373117745851323,1.3661778658376231,1.3677232426914694,1.3795582536297692,1.3791625383679653,1.390920269198735,1.3956572188473804,1.3973542713097837,1.4012617672231726,1.4118872400079832,1.4027839899612218,1.400953846045248,1.4086242780867375,1.4102656241479812,1.3951814991934801,1.4017616515859268,1.3998571858653197,1.4035638078226005,1.389564240040022,1.394981375807197,1.388055410517624,1.373843008254327,1.3865023117231203,1.3868603390469236,1.3604756679294345,1.3705834795984477,1.3764125412332533,1.3738378625319911,1.3736072112466597,1.383742325746319,1.3954793289358198,1.3976632319318318,1.399231134793149,1.4083718527859597,1.4155479217154532,1.421692995727282,1.4365748460643317,1.439005192877039,1.4526157751426125,1.4690308093138962,1.455566314617757,1.450260653993875,1.4337793762634192,1.436487866955728,1.4327070087142146,1.4260028311124566,1.4242163565344603,1.4301363200346562,1.4232256919540154,1.4154939779453115,1.416020676274502,1.402468736515266,1.383452454146004,1.3716894049142032,1.3684776423757057,1.3823565869913788,1.3721904555167157,1.3798162815625195,1.3652009475716114,1.364571493712386,1.3670993617805,1.3856810198936576,1.3759909067254361,1.3890115870228101,1.3879512801700835,1.3891173970231951,1.3955999486767874,1.4028201414159336,1.4044557213106372,1.4065586536192238,1.3962126260871022,1.3980223016257394,1.4020804617573353,1.419824389209551,1.4239848038291332,1.4229081350504202,1.4158445378323299,1.420213514170109,1.4134910038353836,1.4164023326390331,1.4215427196976633,1.416328606780371,1.4158885068171305,1.4150856360542547,1.4141139278873198,1.4233417139628879,1.4300609106257298,1.4373712035341897,1.430857006119777,1.4341841787085285,1.4388071717408062,1.4405825088540345,1.4385543312549545,1.440532304277849,1.4484457863151268,1.4505851504662814,1.4500686700779093,1.448066940100633,1.4554195342689809,1.4557322318726695,1.4570423916078425,1.4684421964301464,1.4621279471731972,1.4697936362880681,1.4643246071629543,1.4547539469202018,1.4533030689207331,1.4533400356135417,1.4550822501358576,1.4368851940449607,1.4291176099573932,1.4393530985552085,1.4459940519799526,1.4477378158347014,1.4554950994031135,1.4491281819941226,1.4398297812775505,1.4323771056962187,1.4158056922924591,1.4141565285018713,1.4173016632212694,1.4169341250846021,1.415264477751657,1.4075308679774556,1.4237777110889738,1.4288987010642358,1.4183339278553149,1.4247475546063622,1.426476068493313,1.4227808576405778,1.419559425205057,1.4210867591125103,1.4339902798370152,1.443020488263187,1.452570101855114,1.460732539785469,1.4556789218271509,1.456014647613612,1.4568889888650423,1.4561533432052025,1.4387812439459442,1.4507717195049585,1.442617649914564,1.4293913925140942,1.4266563703902269,1.4338650907214818,1.4327973365431186,1.4301582667051964,1.4392778791082037,1.4259978534931634,1.4232019464443055,1.4270448425003754,1.427292693643282,1.4314080821654065,1.4318506856251285,1.4388008385343558,1.4277904460966737,1.4348402735152754,1.4388050965109793,1.4343661603623634,1.4287203632108079,1.425851292846619,1.4281519470387138,1.4278609269417302,1.4364816690873492,1.4320908635501837,1.4317370158985645,1.4193577470698604,1.4217636485346097,1.422136316833765,1.4299360546412647,1.43239721959366,1.4260533597803942,1.4275721828544343,1.4364284806807215,1.4377725523686802,1.435640179318193,1.4390933946401447,1.4411190614787983,1.4400162449516225,1.44280581652525,1.4368893960070257,1.4515177550425202,1.4412772490767565,1.438655648149385,1.4368406880235018,1.4371533548172466,1.438605720114477,1.431587527586377,1.425130566725837,1.4350581576018688,1.4352520836095892,1.4368122506063932,1.423993180112954,1.4236208537838213,1.4259257248146695,1.4302348023580407,1.4272767732355154,1.429005370711343,1.4191723408276327,1.4190369802820593,1.4265827224722671,1.4157533280472763,1.419936935305327,1.4216951242438276,1.4238601365280374,1.4319161302428711,1.4230738887338097,1.427002725870481,1.431745983389942,1.4333757703023668,1.4395510078854084,1.4401357393431151,1.447522685289088,1.4580461064020862,1.4673286548151887,1.4622798078938481,1.474247862395805,1.4744079861359372,1.478156105842686,1.4685965039637874,1.4615910330590092,1.4624518742099857,1.4670648847707903,1.4616307761027731,1.4529377871478877,1.442952386078923,1.4494860258888063,1.4397136205084886,1.444707293653831,1.4353667807149122,1.4270138927696583,1.4283478561376115,1.4301070425632665,1.4316437251009044,1.4359176910934972,1.4393448347709636,1.4419811787032435,1.4252179875829674,1.42355532651787,1.4357432364181022,1.4366655652271372,1.4253583446406612,1.430428656764775,1.4186137219423622,1.4308586428143144,1.429640858375069,1.4228042809324961,1.4186675582134967,1.419244583247731,1.4199508278073305,1.420253030214864,1.431023690400957,1.4469819552958825,1.4571617709425102,1.44803062228137,1.4629231240120286,1.4625100785748677,1.4632343624520217,1.4743476999714555,1.4613127109362722,1.4817073490163086,1.4852477980240262,1.4795111643626873,1.478675437932149,1.46227132196791,1.4632533107037262,1.4455451209337524,1.4447789555974546,1.4471461269028167,1.4428828565227756,1.4325195962151156,1.443467389164607,1.4520462081257393,1.443415509467809,1.4463914144603904,1.4337413101816765,1.4304176323173352,1.43855827399287,1.4381453597437712,1.454610861015241,1.4513141661278572,1.4517308991888815,1.4506623417606912,1.4323036409393277,1.444214915588077,1.4441455924149522,1.442885089293077,1.4377773117767068,1.4392059661095193,1.4288920934750347,1.4259997805119005,1.4251698772312011,1.4260802451252175,1.4191651832779675,1.4025670983254712,1.3972536866865084,1.3953574356052059,1.3943927172786517,1.4083446822636612,1.3898022965418098,1.3852252398511837,1.3728316779932053,1.3686397293972428,1.3711372377119158,1.3821169041722519,1.3867001382888247,1.3913799239768043,1.3960581299495896,1.3986537929795,1.4133521226901167,1.4186042932576508,1.4224123835139457,1.4249719531157021,1.422820741697683,1.4316726261842632,1.437405292155783,1.444282700972311,1.4479072468031593,1.4464026291927363,1.443598048945114,1.4315152140914884,1.4299721015024867,1.42360169895447,1.4228554265732556,1.4223920840257127,1.423001558392169,1.4311080229336919,1.4244595064524976,1.4227681205104925,1.432549031822858,1.4350973085405259,1.4316680384582923,1.4365878662101599,1.4342228131240518,1.4345327361973583,1.4369247084464405,1.4317718968829922,1.4294098183212858,1.4254558798746984,1.4231566521161616,1.42052658969698,1.4090262520909165,1.4166289395406542,1.4105316441766718,1.3998745862436408,1.3930755318422294,1.401609897336175,1.401410585108124,1.4052875325660503,1.4016370307182417,1.4070981146411972,1.408953794560254,1.4099576894580272,1.4172185369016157,1.420793236957752,1.4218949775486331,1.4201965510277357,1.416734089694152,1.4235482283744507,1.436903501362561,1.4415910695704952,1.4406963690710655,1.430618483899146,1.4154799934697317,1.4212208492214056,1.4284224847196432,1.4332338701023823,1.4393531321016781,1.4308157383174906,1.4386664148477697,1.436863591971284,1.4512567026343428,1.4562762962376383,1.4624741662122687,1.461740608226531,1.463855973984073,1.4717634019723695,1.4744470700619785,1.482468769028128,1.4860904458651325,1.480306371344265,1.4766478211670497,1.4779702515900983,1.4931001738942389,1.4715108751451529,1.4786289285830359,1.4792105375964033,1.4708166552049837,1.4610601477459568,1.4508827242780626,1.4427118685955975,1.4392897797670534,1.4390750196887288,1.4554335551555444,1.4488526257075895,1.4608633387305416,1.4688010489811405,1.4701644150116864,1.4562761052485258,1.4678108452962988,1.4662661387666351,1.463321572556621,1.4654053839246899,1.4723652481409013,1.4808537066406038,1.4901261897645781,1.4849601388844804,1.482775140943977,1.4734756974606322,1.4617706456770672,1.4436575074015763,1.4464580914358067,1.4502107935712805,1.451886266236852,1.4589680462264065,1.4540350991916815,1.4492841194432458,1.4441108717569022,1.4402710321385408,1.432164101450462,1.4258390373510186,1.4300730352369555,1.4440316724074365,1.4416144140768665,1.4455104928363955,1.4505077977664163,1.4453651056311174,1.4311639637955826,1.4341176100216975,1.43338643115347,1.438977376461086,1.4365173887694254,1.445157634358687,1.441796128019132,1.4452992965783626,1.4479640993046359,1.4360103769601815,1.4236558781212656,1.4127118820767464,1.428686449096449,1.4389592102301474,1.425523720724747,1.4250954129065727,1.4158227965913739,1.4122227662938258,1.4073350130544895,1.410251990753856,1.4084068480228475,1.4208101908949629,1.4211304245503318,1.4173204425891375,1.4122205668176018,1.4169206847465072,1.4221758415517343,1.4171659587132126,1.4079983281064263,1.426977838957843,1.4236850793659566,1.4367222790585856,1.438171646259131,1.4412592119076029,1.4388901298606622,1.4366381044485783,1.426368142238122,1.4124899337834147,1.4099060097975173,1.4142614274110807,1.4113218907848781,1.4112809986979755,1.403712905914108,1.4104094201052098,1.3938172580704606,1.41615131267525,1.410480341894163,1.3985431687523184,1.398645079604724,1.4040786406590693,1.4001682539193552,1.4008477023846202,1.4100908484941252,1.4092823871585856,1.413884517598414,1.4147719490959996,1.425538248798269,1.438001192466148,1.4285676671278906,1.4310981034134633,1.4103917799707384,1.4165083780661158,1.425126069295114,1.4256022552163208,1.4170395720007793,1.4097952118909083,1.398532979350057,1.4043099178863485,1.4046528683706734,1.4082660282578066,1.4117867811885996,1.408879225132993,1.4028212554051758,1.4078989237476436,1.4173627608616244,1.4327991884184939,1.4182687444595103,1.4211822584591423,1.415802089516607,1.4198119879221092,1.434646259943899,1.4461786647954946,1.4405879373739026,1.4492405806850002,1.4573229434118578,1.4611269042362134,1.4574779125797401,1.4627601051280028,1.4646796695245332,1.4533724456127706,1.434056102957508,1.4479186650182025,1.447768800795211,1.445254380364395,1.4413719303382702,1.443914695710752,1.4364898717859433,1.4411716130885148,1.4358039725860938,1.4393308364992512,1.4347306569343041,1.4375923180707104,1.432449990589824,1.4264757788616558,1.4289949929430046,1.4335933750713594,1.4315385694146243,1.4263828189304149,1.427219100440243,1.4282078131036846,1.4163406804398921,1.4246107877121479,1.4307018266238478,1.4333456929415207,1.4238160558170116,1.4334953408651927,1.4326633322874387,1.4191438395806473,1.4256412369664,1.4210267103038405,1.4329547467940909,1.4391350541298076,1.4405733742345546,1.4452960370762564,1.437757406001083,1.4450455508769513,1.4490334041535637,1.4367459241792404,1.4335126017501352],\"type\":\"scatter\"},{\"mode\":\"lines\",\"name\":\"RewardAveraging\\u003cbr\\u003e  │eps=0.1\\u003cbr\\u003e  │optimism=5\",\"y\":[0.3205165337075296,0.39769245738774234,0.4666124656781766,0.5381403971744052,0.6274261337328717,0.7058948349793528,0.794692411085877,0.8859175612198646,0.9588474157908216,1.0468164952223993,1.1156387171521835,1.16127683888365,1.170043309532699,1.2022632814924772,1.2227084810119426,1.226298965972146,1.2483024134593295,1.2683241810232337,1.2677212580934798,1.2708673642786281,1.2785344760604584,1.274655793891503,1.277075390987549,1.2885064100695895,1.2984107791400012,1.3234537573130452,1.321780836497368,1.3476706302537695,1.3504381547406044,1.3477148286701224,1.361987686504193,1.3524044659148473,1.3485678046079144,1.3594318400408723,1.367231758210925,1.3601245235996031,1.3626003416948114,1.3729943296846467,1.360231455847456,1.3519431855102988,1.3426376160613591,1.3394158050912774,1.32391844874027,1.3271265479687282,1.3344604663072814,1.3258350263685301,1.3380110344951863,1.3406557190790536,1.3334353254732274,1.3246655141941952,1.332631702597373,1.3410049773567783,1.3365178790715315,1.3597184732208092,1.377537642938034,1.3735577201625078,1.3831064907695676,1.3851511947289907,1.381493557272485,1.366105921733119,1.3774042919303908,1.3692935036138996,1.3747572938126553,1.3815026013588787,1.3849128703630622,1.3832605732387766,1.3637779918417958,1.3508441260747428,1.3378660322255125,1.3229410545903286,1.323047475856732,1.3275576235631794,1.3246841055447496,1.3108296855888342,1.3205031454486715,1.3120968299208708,1.3149548334330547,1.3068935760747034,1.3100087195770225,1.308061953701959,1.3067606547977193,1.3251525297439921,1.3419235850396072,1.3495026788256297,1.3592470168698252,1.3657097272625862,1.358749821695209,1.3591817799444565,1.362549133397015,1.3581087588860374,1.3455462520108095,1.3493179320127846,1.339973352942232,1.337730363350613,1.3332154627232293,1.3345024273233776,1.3305053446840986,1.3201802382230747,1.3194837399634214,1.3078151082608847,1.3121386254420533,1.3147940967641414,1.3211505594555717,1.3252671963519853,1.328226401223889,1.3315518914377085,1.3241992976979853,1.340329266639943,1.3372321954855446,1.3481418483776204,1.3479975873707,1.3591253051447418,1.3670957730239972,1.3515639640472652,1.3686933810635158,1.3615445867298357,1.3637306280027341,1.3703906623313742,1.37047307601505,1.365226453934315,1.3731573922371885,1.3857239418848735,1.3838053539731259,1.3940034261280307,1.3953510396741515,1.4120222333785837,1.4089208739781953,1.4066974346553385,1.4174164513822385,1.4085346626999373,1.4142400678822526,1.4166720415542804,1.4190791888802077,1.420516885108183,1.4260896323192565,1.4356546641984664,1.427655439231203,1.4373966184080946,1.4311962187963863,1.4325139240609475,1.4181348536876441,1.4040822011471656,1.3955097719747964,1.401656001451721,1.391029006208286,1.3821744664161106,1.3726037702026852,1.3685292766032358,1.3653886409343707,1.367341592323271,1.3633560072581967,1.3593609275412197,1.3594042373854356,1.3615633448008206,1.3558280752732381,1.3474539630707076,1.3556440792899063,1.3676842363306283,1.3542193144921764,1.366615702888049,1.3746980036565069,1.3770544001245848,1.3652626180617669,1.3694909466475318,1.3693416929301445,1.3714582702760254,1.3687694336976108,1.3488987995733435,1.3543231829472404,1.3633895227790258,1.3663337727361902,1.3699650059252122,1.3618010780336873,1.3714748402135248,1.371773720802048,1.3514350266653006,1.346337175546381,1.3624400079912733,1.3613862282738183,1.3702705321990398,1.3640480462544948,1.3787793375682005,1.3754115161694964,1.3682745586337737,1.3577737959870926,1.3588040634711396,1.359719758291677,1.3707619484704083,1.3733638411631015,1.3773458744808011,1.3974861835776133,1.4070704817043918,1.3926679420092607,1.394649614124078,1.3798880380126113,1.380734086073276,1.367319573458631,1.3733841797232098,1.3747110940228537,1.3741634174244477,1.3714996726084356,1.363847474400842,1.3549264975552282,1.3471556948829932,1.3325127771681082,1.336517570927803,1.3381126481954273,1.353113231840204,1.356623611052502,1.3688004073939775,1.3771091697998903,1.3823885168739518,1.3834959101862259,1.3906609020781162,1.3786009171238676,1.3942534506540558,1.3989539198341088,1.405445892229151,1.4160603828120126,1.4285457494741232,1.416941895797485,1.4147663903539487,1.4106420319338477,1.4105627113505268,1.40757531942171,1.4014737851067138,1.4001622557207838,1.4031730449980235,1.39479137238892,1.4135945524472162,1.402848425800346,1.4108300322506768,1.418042414424239,1.4168371129425812,1.4232319809954144,1.41759489276468,1.414325526904823,1.4124796659409413,1.4083961473287787,1.4050170744832637,1.40499295084727,1.4150432726476008,1.4133421890599949,1.4186373771023681,1.4192824190346225,1.4191759138018407,1.4191375042668029,1.4158786371785026,1.4051658702607104,1.398257905818923,1.4088909474745568,1.4003840855758465,1.3972334744144443,1.3993253131625996,1.4041452382306525,1.4065436586029325,1.3873451055150667,1.394834481928217,1.4023344627294212,1.4063185288198876,1.4189870265014026,1.4202638438088304,1.4113033512433617,1.4167397034838283,1.4118487160598305,1.401587850892171,1.4161400791832535,1.4160815478192867,1.420278790521066,1.4080398582360885,1.4075193365688354,1.40926434041617,1.410028161529768,1.4043913215904544,1.3944992505503555,1.3772667658151627,1.3611347155398639,1.3605889082293479,1.3615204438182067,1.3703497483861649,1.37832445945783,1.3690356649955675,1.361629331902384,1.3467056530571426,1.34301025848575,1.3374747380294782,1.3488530103813636,1.3475556317831623,1.3388266206051866,1.3524768399291778,1.3608136679880318,1.3779727911474273,1.3686755910849493,1.3698366299420512,1.3767731264722367,1.377525458259576,1.382959470601717,1.4024351057453184,1.4028636061383812,1.415920280167317,1.4177046897417085,1.4168059020591235,1.4172325350508799,1.41841305403669,1.4033998116693396,1.4085925116259357,1.4096376676665348,1.4195652276327224,1.412025519926461,1.3983210766836767,1.4098257286010114,1.4113575982011828,1.4131132572809482,1.4263885005472123,1.4283653728364394,1.4298454273610408,1.4349609833857508,1.4365482078770204,1.4391123740212948,1.4470044936503503,1.4349588176817292,1.43510244908166,1.4374225564857095,1.443976042074318,1.4404599371297384,1.426404466855551,1.4225229702025142,1.4125466967965887,1.410997771267417,1.4137668155771395,1.4196631005166713,1.4099251847638583,1.4119666229343997,1.4139623001513466,1.4100971198006618,1.4210428689725025,1.4132286778725642,1.4159735252157057,1.4160388448613843,1.417358754410327,1.4286529452785204,1.4230808925659895,1.4223156846529075,1.4270563379397079,1.4177644854928113,1.4087761084979207,1.409982804774241,1.4080800240008595,1.4026700295519883,1.408402496693164,1.3997395040587322,1.3988428531483994,1.414544614084927,1.4037069388948793,1.4069700014131512,1.4115753729972123,1.4228970799409315,1.4259746551001702,1.4242757047700063,1.4289446224215263,1.439192671175825,1.4423801812763486,1.4412065114362842,1.4402844238799994,1.4318753508455606,1.4369070265654842,1.4332189573418228,1.4195336048973823,1.4359509715394172,1.4386354186425137,1.426109716409879,1.4185272328000906,1.4098901451740706,1.4053141534878706,1.4077127880695115,1.3993384483209865,1.3885145594450516,1.3831765330346228,1.380855682914523,1.388208969453054,1.3921229033461562,1.3909881920682892,1.3935891422016085,1.3946475597257366,1.3902750720086487,1.3889676698729545,1.3983710139000018,1.4119983655844104,1.4058114077234298,1.4046623421364681,1.39692693054504,1.3994063029814015,1.4091488979383333,1.410622254257646,1.4077641672398462,1.4069432464794849,1.4094758656199398,1.3976917976660919,1.3946399397978289,1.39919889539561,1.4009399544449102,1.3915044235512217,1.3886968052788764,1.3938155876286373,1.390069944155789,1.4032953379846504,1.3963119173608372,1.3968814472686821,1.4034938568071615,1.4016328906024682,1.4037302572123356,1.4052389143765822,1.4010287205356236,1.3954663625780843,1.4026303393049224,1.405383887391857,1.4056264105498257,1.3941662132872352,1.3876000365050307,1.3795952424829996,1.378956743610244,1.38476776566359,1.3719527510455842,1.373075276202576,1.377324288706503,1.374912319827566,1.3738264364690773,1.3822520470675574,1.3912793577437166,1.3676942977761959,1.3605620738077202,1.3619556335553171,1.373452771703243,1.3731655652559767,1.385575563616832,1.390587968084022,1.3921947748716472,1.3960671242501197,1.4069315178329664,1.398271842669366,1.396779651481082,1.4044905379514983,1.406826119263883,1.3915310451574745,1.398332936083481,1.3965462562736397,1.4003969664867706,1.3865713557050867,1.3921622576210362,1.3853028601879336,1.3707725861482156,1.3833024383511883,1.3835481637028655,1.3570535920588327,1.3669553029278936,1.3725876466080156,1.369641410660635,1.3691826872586792,1.3796315729016062,1.3909705256513158,1.3931038919799523,1.3947573688414348,1.4034135007880952,1.4103672905924063,1.4161293133773674,1.4311397286523744,1.4340493827948952,1.447957742929475,1.4642701157333022,1.451242811100239,1.446142073601724,1.429699105596175,1.4323662910135226,1.4290012856686494,1.4225174786958406,1.420957253106144,1.4269371534623663,1.4201117161387022,1.4125639148409619,1.4134122980859956,1.4000708322828739,1.3804580560813293,1.3684953394489943,1.365312128672925,1.3789086762445701,1.3685298348102832,1.3765025625259342,1.361885576195497,1.3605993444607065,1.3632925259266964,1.3817697374177442,1.3718312540734359,1.3849212154472526,1.383761261581852,1.3850054257879643,1.3915376335629768,1.3991035049770442,1.400567501047514,1.4029054074989593,1.3926457627551523,1.3944849188895205,1.398512370061826,1.4165607290407176,1.421198119712153,1.4202027439075513,1.4131881025017643,1.4176000004460092,1.411081768344176,1.4141908054625143,1.419385383133211,1.414023706919473,1.4135287009688455,1.4132984631653926,1.4121514283381202,1.4215906363150301,1.4285947742050287,1.4359326915161545,1.4290408073022491,1.4320475045787437,1.4367604094737771,1.438545805911652,1.4367384324381798,1.4387078504762636,1.4468921976983893,1.449869405821649,1.449557481476677,1.448116892956864,1.4553671683865559,1.455717119309611,1.456860051685544,1.4682218030869458,1.4620756107615989,1.469864616044515,1.4644795570076592,1.4547203540444495,1.4529506685883462,1.4528762655356635,1.454602209663873,1.4358103894794416,1.4270160130327896,1.4370211976016587,1.443242569289608,1.4446949331101981,1.4522507342626871,1.4456271740186897,1.4360268082952568,1.428375861201342,1.411782159488674,1.4104072725846588,1.4140399881466768,1.4144518305661602,1.4132965376444113,1.4056877103117587,1.4225016221569906,1.428487845312899,1.418420309442566,1.4251846108456447,1.4273623141056304,1.424447588584591,1.4215172273433305,1.4235545802182894,1.4365654865933872,1.4460459846605167,1.4556196602229723,1.463758287903958,1.458063435832681,1.4579988458603794,1.4587497844752988,1.4577220132874118,1.4398642658352627,1.4515642515355618,1.4432205664089452,1.4294717644802784,1.4263638808258141,1.433363280065449,1.4327728337037493,1.430179004412465,1.4387944293868258,1.4255939677791882,1.4224013194416556,1.4263917898111382,1.4265230657261858,1.430573755340265,1.4309945673736062,1.4375621964813112,1.4267539342079165,1.433730820740713,1.4378538827173997,1.4330118708566866,1.427353610725701,1.423565506446092,1.4256814933510518,1.4254510043588122,1.4337287934432577,1.429547653950999,1.4290602352631672,1.4168440844727077,1.4190653108172075,1.4193094562946347,1.4271841078986351,1.4294721280554918,1.423213342950938,1.4246889028643561,1.43360219367133,1.4351039823897886,1.433096393931108,1.4368642118221564,1.4388192714956707,1.4377792941668683,1.440510310738417,1.4345885694723013,1.4493214674906918,1.4391431130564645,1.4366208715040025,1.4350188057218247,1.4357433750853488,1.4369983930689083,1.4302588387156752,1.4243011987856107,1.434083331992944,1.4343965974500936,1.4353583663837677,1.422737998940905,1.422670765432493,1.424776930721479,1.4291498690787647,1.4259763377650037,1.4280317993789595,1.4182833928282739,1.418074547447092,1.425026316999068,1.4144819268107616,1.4183260709202385,1.4196429988273622,1.4218622266247773,1.4299802206297347,1.421490262742759,1.4251534504513301,1.4292912977706314,1.4310655240582415,1.437258398784358,1.4378387880711898,1.4448239586798688,1.4549486446898754,1.464117320666037,1.4592785245953563,1.471157617852767,1.4718466026158314,1.475607543580395,1.466236748237255,1.4591811880373826,1.4598095917261162,1.464659090912907,1.4598850478547243,1.451098389591319,1.4412088155512113,1.4479277711226208,1.4383177685192854,1.4438012971984866,1.4345756990878726,1.4264288898539386,1.4278326627861133,1.4295638409119875,1.4312154854030572,1.4352924378092362,1.4389815009079332,1.4420495854792155,1.4251685052111043,1.4229884244678639,1.434965361201921,1.4356791167381593,1.4241843678698236,1.4296596421093606,1.4178806339713523,1.4303579154157358,1.4288986429070822,1.4221638749946957,1.4179275894894696,1.4184733619280374,1.4195113872750273,1.4199295605168496,1.4307619159521967,1.4468618921520222,1.4576409710101947,1.4492188092504117,1.4645771244950008,1.4644274592613706,1.4651590331299682,1.476355440332706,1.4633384447801974,1.484145994116875,1.4874791002863277,1.4819362546779302,1.4812463286292616,1.4647920372944099,1.4653763798497872,1.4477336467472621,1.4474399153373345,1.4500114665019435,1.445644229618612,1.4351690798678873,1.446272140636385,1.4547377836376578,1.4462781445722157,1.4493434860779038,1.436717309339724,1.4338715628331709,1.4420111757613312,1.4418085787661918,1.4583271104490678,1.4554382248366893,1.4557268984519776,1.4545081634623103,1.4358289862373945,1.4474670581971318,1.4475446004152748,1.4462551688661354,1.4410123269494381,1.4423293909365005,1.4322604670300658,1.4291036810250717,1.4281997593306641,1.4291162268033835,1.4221153886992928,1.4054462805835708,1.4000088425719923,1.3982016913255089,1.397197671087747,1.411146593987405,1.3929192518757796,1.3881659529569332,1.375785836895534,1.3721449649521447,1.3747397246257302,1.385378590896289,1.3901868147706031,1.3944802081611063,1.3990386742085852,1.4016828166863737,1.4163925442238983,1.4217271346409082,1.4254128698854325,1.4276346349800557,1.4253603290473393,1.4343821260309444,1.4401020957245387,1.4468954823382016,1.4500841962653643,1.4485548803630384,1.445556798888947,1.4331409526085281,1.4316968534034307,1.4254080738407235,1.4246300562676122,1.4243019725421466,1.42499497954124,1.4333699371672688,1.427086521673376,1.425298023982441,1.434720765236519,1.4371198508983374,1.4335884184202465,1.4386405505664546,1.4362965365056122,1.436894420042942,1.4394130120236999,1.4343029307293211,1.4318292725121713,1.4277577198230573,1.4251947191587684,1.4221784306083767,1.4103766679376348,1.4177185102786705,1.4116929688885496,1.4010680712102688,1.394237492195407,1.4029013868631712,1.4026885718415543,1.4065359962915864,1.402790102454992,1.4081778925910535,1.409924077368017,1.411046900327377,1.4183861190424674,1.4223614247150786,1.4237507096255588,1.4225143281093855,1.4193470324777688,1.4264769759311244,1.4399944562204534,1.4450483926513091,1.444150924821012,1.4341698955828026,1.4193029016668333,1.4251814811584154,1.4327130534826211,1.4379529978615362,1.4442675979495714,1.4358822318105922,1.4434108018006555,1.4417512017417873,1.4559830986408693,1.4609590903130234,1.4670440587134939,1.4665106014847273,1.4685475099131358,1.4765064270115242,1.4790246186012912,1.4866833361666825,1.4903183161706237,1.4844983685692872,1.480621116950609,1.4819587435325503,1.4970852663523297,1.475681790053765,1.4828748084102548,1.4836339297657863,1.4751905850404152,1.4655497195533067,1.4550003608569113,1.446926975088066,1.4435156368838458,1.4433109549398069,1.4602225022215558,1.4536963183148601,1.465443645015936,1.4734526039795885,1.4746144037519116,1.460616267220242,1.472201013855647,1.4702612093306926,1.4670492431483582,1.4690596096180797,1.4758997012337507,1.4842599355316453,1.4934718009066426,1.488597586014324,1.4862825405874143,1.476608009646179,1.464829378869672,1.447069547593507,1.4499979570856036,1.4536100928799744,1.4553079290279431,1.4623765575897323,1.4575406457971742,1.4527635862328832,1.4476856709070034,1.4438764004805458,1.4361034482598825,1.4296350465724723,1.4335691388308986,1.4477291275703312,1.445259834105976,1.4492244393279028,1.4541548786178737,1.44876728400133,1.4348372601346606,1.4379369786546703,1.437101913302907,1.442740114791468,1.440373217110088,1.4490595770540342,1.44552225199994,1.4488338891605053,1.4516968110401345,1.4397933363073359,1.4274122771259954,1.4165459497292583,1.4325354575005045,1.442852955352934,1.4294383512774402,1.4290737853268334,1.4197618332307078,1.4163305291522192,1.4114693306793016,1.4143703021584466,1.4126452973890384,1.4254213930017159,1.4260451350411132,1.4222942529555591,1.4172388293869669,1.4219914409665004,1.4272258356857341,1.4221442007801064,1.412937182759591,1.4324653717363618,1.4292376607969346,1.442377855749146,1.4439300814016103,1.4471448607162225,1.4450106855464129,1.4428165965275639,1.4325553354157667,1.4188239082115919,1.4161913028494988,1.420450224708611,1.41760805847645,1.4176503184860243,1.4103750088152083,1.4172258501216826,1.4004258860545482,1.4227341973297067,1.417117925388023,1.4051515208627583,1.4053478131329635,1.4107128711321366,1.4067874444717594,1.4074308105190538,1.4165426367954752,1.4159596268586787,1.4207476148292093,1.4217910215094587,1.4327708965793136,1.4450711779891057,1.435452006922363,1.4378868943743328,1.416978423379169,1.422981359793448,1.4316107565914231,1.432136028707085,1.4236027125883386,1.4163937332239736,1.4051597229953585,1.4110667680341369,1.4113725726237438,1.4146736386977106,1.4181571537728814,1.4151991198233798,1.409234770369585,1.414400798365159,1.4238304215737874,1.439323771110897,1.424949258272803,1.4279465455606746,1.4224926216164022,1.4263981923354245,1.4412069566621388,1.452653876201748,1.4472189006078224,1.4557894932399753,1.4642405469229136,1.4679152905471862,1.4641310169447328,1.4692643476258884,1.47122569943452,1.4599327781478526,1.4406772809111923,1.4543384735135685,1.4540407000926128,1.4514522963023713,1.4476132904017505,1.45003561682009,1.44257990791131,1.4470014107735552,1.4416045829538082,1.4449532700149423,1.440047601996912,1.4428907838377503,1.437689740825302,1.431669737583934,1.4340657489538746,1.4388148087341355,1.436638873865013,1.4315267731895953,1.4324015991584171,1.433357343126833,1.42152576545706,1.4298181435839372,1.4358945128149116,1.4384478743215368,1.4289174203289046,1.4388961969096423,1.4380013918393766,1.4246084166337065,1.4311058140194595,1.4266344843472174,1.4384811996732423,1.444850509172799,1.44620590845581,1.450778152667226,1.4431286262866403,1.4504167711625087,1.454326666906612,1.4419973654859253,1.4388154764871766],\"type\":\"scatter\"},{\"mode\":\"lines\",\"name\":\"UCB\\u003cbr\\u003e  │c=2.0\",\"y\":[0.21927338628131596,0.2535038642073574,0.2585465750361688,0.2846375596299289,0.31167993452520293,0.3392550741966056,0.37883690437425055,0.4096673580115268,0.4278615778835472,0.4606202348139107,0.4830880144989118,0.44538131534671216,0.4241574293782858,0.44467307093822256,0.4585500879593113,0.47562898542088594,0.5047269877966232,0.5422324967837547,0.5442131185885174,0.559599290913519,0.5838327128485644,0.5916218434448149,0.6204665301236008,0.63991270672535,0.6558555364907858,0.6837909258950818,0.6913820709078183,0.728805234571358,0.7356153890704582,0.7466167212746845,0.7712248275567382,0.7711422312632613,0.7826815907584401,0.8099377190269851,0.8327547879590301,0.8272301548983994,0.8338400659089814,0.8486281385387621,0.8519414666997077,0.8583854605231807,0.8540635233992527,0.8555491869769453,0.8488339608832616,0.8639158068046799,0.8691273673508647,0.8634728243075287,0.8740090983726998,0.8819670383515472,0.8777038602719655,0.8757677211085457,0.8872449767892922,0.89791741287647,0.9028014482439346,0.9203677045381362,0.9404668067262397,0.9584500895489244,0.981718734056206,0.9852570677900199,0.9850031505280792,0.977438669746131,0.9863842445919554,0.9841739626282044,0.9892077682783513,0.9950024708583977,1.000667318749271,1.0016995352204665,1.0041628357913326,0.9973438136714392,0.993049478652586,0.9832287404726894,0.9813194459431903,0.986216329393532,0.9945427262990278,0.9948478284533863,1.0035763664660677,0.9999973520857641,1.0165706312547296,1.0048496785891876,1.012339186640798,1.018597894449374,1.0266714443175151,1.0386480816777024,1.0502061869872676,1.0557651080714143,1.0726076896357137,1.0802088949375555,1.0665198555086812,1.0666237237908576,1.065851441003735,1.0698595085703013,1.0649846371274114,1.0635767157627896,1.066432887312311,1.0714566461242774,1.0691394509438548,1.0740266243781937,1.0771035847627843,1.080339785863533,1.0839989342443497,1.0764360719706019,1.0798664564111324,1.0946010510080044,1.103074859975724,1.1129734849222843,1.115628761311411,1.1317235340941798,1.13671470113709,1.152608680404806,1.1552357173617964,1.1705896313755146,1.1727931177860949,1.1886987887282818,1.1864775416815774,1.1876983974436324,1.206678161422539,1.2151747691918113,1.2200029225497293,1.2280250958176888,1.2358735873467623,1.2422269606375296,1.2446792505862552,1.2559789403360013,1.256373692011702,1.2637495991706327,1.2593780942696309,1.2770733839852093,1.269836948208815,1.2776189532775628,1.2837800702833373,1.2798332017471816,1.280343136570849,1.283284323134354,1.292423357731418,1.2940795833475562,1.2937912704337151,1.2986775296766107,1.2880861501740146,1.3002639821367958,1.2938833610026543,1.3043642160737003,1.2997656330411729,1.294792988247435,1.2938433923081893,1.294890647478085,1.288086420882318,1.280940850491976,1.2736625851145258,1.2702447514980804,1.265985694487724,1.2719645104029818,1.2692401770002335,1.2659289751419938,1.2681100931145617,1.2769940250891523,1.2724783955934185,1.25967280015455,1.2649404351819897,1.2718255916470127,1.2644109744826626,1.2709836174204838,1.2819820780911584,1.2850442509919806,1.2756109431509552,1.2810210005905673,1.2810605201516543,1.2844425594556717,1.2850415744435282,1.2725126649752287,1.2759824027870517,1.2819600770013722,1.2875194413637663,1.29496061241616,1.286208425165186,1.2985165885246526,1.3046943375026538,1.2928739809814223,1.2898243236799412,1.303469995025273,1.304567774348207,1.318675488931198,1.324949295049085,1.3380433066311108,1.3372061176592713,1.3344821037786763,1.3346593975040928,1.3396480259881325,1.3315312585066315,1.3436562556351759,1.3479822718234042,1.3502495029465251,1.36482691062025,1.366774228536851,1.3580470004044476,1.3550201022254689,1.3411512976267337,1.3353205378491415,1.320545704561376,1.3213924561217576,1.3217531829351836,1.3135664700067309,1.3132523648330108,1.3068007010960894,1.3021254349149842,1.2914225712902918,1.274719130952885,1.2806931349036157,1.2915996879202283,1.3037080308814495,1.313241752399324,1.3229476367799389,1.3333691977667854,1.344639692684503,1.3485071003359224,1.3535283597617611,1.3538467706706265,1.3616838819410455,1.3759742551217584,1.3835991578662818,1.3982862148917377,1.408626444618496,1.396984272855144,1.3954154969907184,1.389292859201898,1.3977146692230216,1.39895136178586,1.3954396261745634,1.395315157370095,1.3960135859908007,1.3906352902359287,1.3992796249439057,1.3911193058729054,1.397734187425302,1.4086517000932968,1.4099141864088856,1.4189439077168648,1.4158243508981079,1.4062960199930936,1.4095266854128814,1.3983409813647465,1.394654731982382,1.392220255912133,1.4061579177318853,1.4041124063709618,1.415025293231929,1.419777956681139,1.415916870518053,1.4155575754949987,1.4143823063888439,1.400888304800761,1.4022925130594899,1.4130852358123547,1.421908679848942,1.4212820502435912,1.4233497240026736,1.4268270996106593,1.4348726561259582,1.415837613684289,1.4217189497827614,1.4258137394298578,1.426826123256194,1.4431236671478511,1.4469828931175281,1.435561902329289,1.4426323650682549,1.4375903805083567,1.4285699055714114,1.4313677630073698,1.429239795964467,1.4332154421087504,1.433585116344049,1.4266374319424169,1.4302225415919982,1.4311845529530198,1.4285635346012138,1.4202907540067864,1.4131245661663305,1.39981740614049,1.401147424321414,1.399187263016241,1.4051483006521985,1.410791373573276,1.4029946472613044,1.3964168099705907,1.385121769418845,1.37059664259444,1.3650337957493055,1.3702389525445369,1.37187135849958,1.365999659745061,1.3815674254161345,1.3803926270234153,1.3918511203407624,1.3747975335070275,1.375346386105798,1.3717935050527104,1.3693235192546203,1.3653944438506338,1.3819897254511793,1.3862578198799043,1.4000106850345408,1.4095195426610152,1.4117191249661498,1.4148578319270162,1.4098931352588275,1.3949536193116727,1.4046729917730545,1.4048260078860115,1.422691668566199,1.4181044091966328,1.4110627434973442,1.4261785971791254,1.4416225961917803,1.4406938644429488,1.4551597728428798,1.46141381797482,1.4578137583466286,1.4601441901806274,1.4593458606257173,1.4645504275498449,1.4721843116020181,1.4621949680965638,1.4686637720239408,1.459766206780921,1.4660322461855608,1.4689293197703213,1.4569691590693272,1.4479484419152944,1.443981489436131,1.437883630578411,1.4351719453113447,1.4433710406178155,1.4356675980814846,1.443674139495397,1.4412631143120431,1.4373982013590914,1.4438800717111728,1.4396791489103635,1.4537109349099788,1.4553912819853811,1.4512260226275506,1.4555066497378788,1.4540595086448131,1.4554599518317028,1.4621589732221196,1.4573286994073593,1.4463142717811024,1.449535572575538,1.4465626731844055,1.4527361247706305,1.4620420853142795,1.4569729964023546,1.4549368806544558,1.466275027908292,1.4582715442638876,1.4701507156582503,1.4790693318669355,1.487911611727054,1.4860977323874067,1.4828070570544925,1.4891728156865307,1.5035136428241647,1.5030343418629097,1.499864344470734,1.4930786141770152,1.4844561259435218,1.4902284384958269,1.4808518784188511,1.4712660283215542,1.4913291323691775,1.4917715139168688,1.480296426816335,1.4807943990496293,1.480745230938616,1.4758939195409766,1.4761093746967313,1.4699198036065808,1.4642592443120521,1.4639131858891687,1.4663159783973811,1.4711616483179,1.4753785079776018,1.4755377365473463,1.4718855688654306,1.4638465531621818,1.4619490863804192,1.462171645568018,1.4634782597579146,1.4710664203291381,1.4652310656054055,1.4635011456749718,1.4557099212820808,1.4535851126568824,1.454784065260238,1.457129209335225,1.4573526273133703,1.4547779643726244,1.4614897655909356,1.4576377892121741,1.4571154238429926,1.454886090201429,1.4566498405677293,1.448247992323843,1.4436270544635021,1.4504012077434216,1.4440537077595195,1.4542509380444055,1.4565143419589845,1.4593380121893877,1.4606735476064727,1.4596369312795938,1.461042577833632,1.4676597810585919,1.464144854869543,1.4627040233509396,1.4730479567288512,1.4790243566148509,1.4796457765909887,1.4726838508447562,1.4706006327627166,1.4716188396856296,1.4714167235449622,1.4751380940473913,1.4677993068588042,1.4757055687824352,1.4759327401339608,1.4748066928592076,1.4674121006432794,1.4736155130712707,1.4796914426495127,1.4636139654535554,1.4567758726365354,1.4637394614465242,1.4721427157259617,1.4679148897071477,1.472176603110514,1.476325816692679,1.4782679294689993,1.4802040554113773,1.4817300406249083,1.479522659967544,1.477563584051245,1.4786595129670332,1.479197974891622,1.4662741411391607,1.4707593486163433,1.464685122155106,1.4618198047579578,1.4541396416723273,1.4631911187251794,1.4640267914634175,1.4579834520094892,1.4681014522568072,1.466982233208743,1.44932238748479,1.453921013507473,1.4605343550007168,1.4615868064171613,1.4630090561978326,1.4753556028711727,1.4796872214876278,1.4876671630482179,1.4963737157025434,1.5055290916478195,1.5130415075521266,1.5163884821727531,1.523208625073979,1.5226816070911506,1.5346953855010572,1.5461210907645258,1.5390906236663189,1.531204316661092,1.519652839007434,1.5227654606886971,1.5208974276688954,1.5185124659711846,1.5178916361090387,1.5224761891251395,1.517399263294995,1.5108476617419153,1.5145560229896318,1.5072904185700433,1.4942875465049308,1.4907333542349837,1.4868288607541824,1.4941181400347963,1.4918589507539992,1.5023277222836973,1.4955236662861124,1.4949978071965233,1.499489713181212,1.5151065212339518,1.5063100476791609,1.5118354110637484,1.503680254728503,1.499037181876406,1.5019559349052163,1.508378257659001,1.5062764739873047,1.5082646198517295,1.5025807460824276,1.5035780821948872,1.502979820153837,1.5094875465508115,1.4991015761582351,1.4922115810298844,1.4858675975146374,1.4842170994981947,1.479512298034077,1.4844400919237841,1.4920539659316168,1.4894914470218965,1.4833100226838345,1.481892961862339,1.4871349079220408,1.4905571914810858,1.4833020435904776,1.4900142982171474,1.4855161347411163,1.5015896256935322,1.5094573444664472,1.5073552509994443,1.5080634304796376,1.5154058218981088,1.524868499029473,1.5248651633907988,1.5247248154481667,1.52367171455788,1.5287517510925075,1.5270888711411543,1.5293117002685372,1.553913517604557,1.5449767225381796,1.547083988903584,1.532267964461721,1.5268841425155946,1.5213620241649173,1.5241712379088919,1.521659608578087,1.5036041673081626,1.4917173321744712,1.5036972080638482,1.513252302155623,1.5158761170233825,1.5201371581249306,1.513667518875233,1.5033490644202174,1.5034359751114228,1.4916749729580867,1.5008472925470566,1.495707472653718,1.5046205471009595,1.4985880935692117,1.4892577123658384,1.5064662256938013,1.514178455471885,1.505518663632582,1.5107636156719157,1.5134944587219252,1.5081143834154849,1.5049068610204206,1.5082138709271475,1.5174737433708438,1.5311263558717505,1.5353626518465262,1.5453828792497764,1.5372336983623276,1.5362666780493555,1.5420927325977043,1.541522458004397,1.526329524787449,1.5332983284973958,1.5292491588254127,1.5196189010446233,1.5169759716890667,1.5306245564236178,1.5274316007757989,1.5276887787053586,1.529561219723549,1.5211997553590133,1.5247169970427044,1.5268841354695724,1.527102888821393,1.5295688034718296,1.5228592959407024,1.5383449864898922,1.526044108364537,1.5293739888584772,1.529399710956136,1.5216918828470094,1.5165963420065964,1.5143889036127196,1.5138270210358542,1.514621955588791,1.5208878747303516,1.5187835630428177,1.5168469893615792,1.5117623157118791,1.5094421076116455,1.512118665317136,1.5111172141121414,1.5138300083277196,1.510000434827733,1.5133127265048416,1.5255875636210778,1.5276367113539209,1.525402643986581,1.5305243738857675,1.5330258956128318,1.5315798661727664,1.5280480572303077,1.5302294271227008,1.5398752258579256,1.5378282870000854,1.5359992442562922,1.5379187001082604,1.5399324106496275,1.5456566145348234,1.5407112641241383,1.5358414296039125,1.5403385983138074,1.5373551881489447,1.535764160963102,1.5262138193699382,1.5258376217637837,1.530492092286742,1.534615944140243,1.5317768130815845,1.5340413452810178,1.5251673836256714,1.5199275727353325,1.5258631822868816,1.5130637723137095,1.5196068018127638,1.5193277353896444,1.515821224570762,1.5260755108318562,1.519322678686323,1.5224306063372144,1.5281127485005754,1.528882105302364,1.5282878543568434,1.530447265315062,1.5276493072050623,1.5382014984088528,1.545942678465235,1.5450717053186205,1.5536697757120086,1.549503302940487,1.558225749745255,1.5553476157010664,1.5435116763095948,1.547513535619934,1.5512227129227312,1.5438635336843238,1.533551489448261,1.5332628985641046,1.541804770001325,1.5378785615132453,1.542012401828424,1.5379815511271622,1.5271347637031718,1.5340877016788832,1.5372946173598316,1.5396396593872472,1.5378204730276441,1.5428647891466123,1.5434848886400307,1.5347701308137858,1.5333272763906203,1.5469271817206922,1.5419791805654617,1.5278355913473283,1.53503112934474,1.527211717660604,1.5346990205917033,1.5297309994165895,1.5182275536692336,1.5091744895378496,1.5070609764237513,1.513537372292914,1.5129369128303856,1.5190788046325223,1.5285138738277966,1.5417763960833932,1.534937253156492,1.5523418433948488,1.552920649310416,1.5525152588753068,1.5633391426769851,1.5589483642012132,1.5789660996274886,1.5824786100281245,1.5790225000095537,1.576300335883343,1.565653146760466,1.568583275686448,1.5513957589043306,1.5498390282817354,1.5509039832007072,1.5484537350084187,1.5353442494157434,1.539805203826639,1.540908786388271,1.5286444717655665,1.528585514228113,1.5244586213095923,1.5226684717835042,1.5290018850808564,1.5320902643024055,1.5414203708236982,1.5453606718826147,1.5461638671967648,1.5451293889139304,1.5219742213393526,1.5314808523283014,1.5301827922836462,1.5325911876366338,1.5313961191192826,1.5373675756624077,1.5296299738135455,1.518022406242729,1.5193658312857072,1.524410237993023,1.5189806841773967,1.5087054344934663,1.5017643091909425,1.5033585873304143,1.507469388617604,1.523687973281911,1.5124256837567904,1.5078761627558,1.5034637065439407,1.505250561734033,1.5072440774321876,1.5123367047532383,1.522902725301742,1.5271769221073328,1.5311348748031606,1.5327676925511164,1.5473729221345442,1.555654605442957,1.5654422883659966,1.5637509455292882,1.565875562152011,1.5666379999917126,1.5701005465607067,1.5737623304425445,1.5724010504561572,1.569946382291899,1.5681626725633881,1.5617893962994003,1.5573868557887105,1.5505796663957123,1.5450075662672513,1.5443067549497604,1.5407656535999499,1.5416473540773572,1.5401750504649954,1.535363231958551,1.538870925440354,1.5446122445439263,1.5403034375324902,1.5440906549307025,1.540276445914439,1.5369020996168425,1.5342344969673376,1.5215856188020553,1.5226559787880736,1.5264309048898517,1.5174454218937323,1.5150180153576458,1.5037060434836955,1.5077378926868883,1.5081050894413996,1.505842556347458,1.5011396471925005,1.5066769471638357,1.5088293683756395,1.5164087751608653,1.5208466004328025,1.5278586860074788,1.54199159308896,1.541754084997501,1.541427094817906,1.5476569220709129,1.5482160100573006,1.5529038304868512,1.5486595028704566,1.5506895763077257,1.5591182750063883,1.5572468560468677,1.5560360982560573,1.5407504542498525,1.5260845315333276,1.5235190714517255,1.5265605672188183,1.527754991090084,1.5311075124867632,1.5296676847182424,1.5362309958964033,1.532136553047,1.5404365855938371,1.5484334698328135,1.5551494561918087,1.558015573838323,1.5650779519306828,1.5716949198363181,1.5837342005671113,1.598429319242435,1.6063761082595798,1.6066513545849375,1.604228587844788,1.610247201824177,1.6237521733174012,1.6100705954924555,1.6184142509760022,1.6208582099983384,1.6123991629254457,1.6046071129472088,1.5927289259530275,1.5835919456408343,1.5866562261482462,1.5850930942545043,1.5910336877500109,1.5842147523323546,1.5877123609826564,1.589447357381247,1.5816585478730152,1.568522518640551,1.573729748162623,1.569706635080532,1.5616541268426771,1.5643118993819523,1.5640901835822811,1.5724294850172251,1.5788516332376579,1.5720344523801941,1.5716920442808715,1.5626690236288292,1.555123929943981,1.5447619759042936,1.549871558932773,1.5592814259420569,1.5586002146068647,1.5639202041148261,1.5600777296104449,1.5605681194514243,1.5550327460295648,1.5596509968600913,1.554185598244188,1.5559499590277635,1.5608187461229288,1.5707947456209543,1.5688422129214965,1.5690145964810804,1.5679917435705042,1.5617102778532324,1.5497769527425893,1.5501866731818004,1.5474086775586935,1.55121230759014,1.5494453506189834,1.5511795935818402,1.5456740564368374,1.550278180616154,1.5514666657966396,1.537477255857372,1.5288552344670279,1.5185257689450584,1.5392140481879324,1.554312853744644,1.5484838549935225,1.5482770323240251,1.5391673178457494,1.5385689620618754,1.542307454453218,1.5433278571715467,1.5442473149386842,1.5549950710480214,1.547798004178412,1.5459671596453972,1.5453883789059395,1.5447244400213245,1.548974224283696,1.5421974453365541,1.5282450676647537,1.5446591582508973,1.5430884881694207,1.559782266721883,1.5575132919880161,1.5561259379167496,1.5583305085076062,1.5612435340767055,1.5519803007771011,1.5433094877916118,1.5361777327543222,1.5389083749050012,1.534612276471459,1.5397725869291208,1.5261989977557429,1.534265018691561,1.518288455738851,1.529436725753476,1.5282430766135349,1.5247083805444466,1.527470472193742,1.5266265804364594,1.522260808713842,1.5230407281269587,1.531948688640614,1.532461016155336,1.5368805520576188,1.543638303440442,1.5501043643963992,1.5664839948474916,1.559109686311558,1.560634476128007,1.5546233179671163,1.5544266482141667,1.5630928960586516,1.5571367642585605,1.5566533943408103,1.5458400667985794,1.5346661186081292,1.5402951282882138,1.5406519561594754,1.541687290846024,1.5359993628779194,1.532435137905289,1.5277179362788502,1.5338759071354464,1.5387125748443546,1.549734649209404,1.5389865494530417,1.537394370961374,1.5355059175585515,1.5327872218420302,1.5482244527166888,1.5603636116091517,1.5526150510031735,1.553582358539097,1.5589416551415676,1.5673510151041228,1.5645794284522707,1.5708820497240745,1.5660302492518894,1.5605102206705852,1.5461281499602593,1.5568095256732855,1.5563587221591206,1.554912995164159,1.5534743948527496,1.554447846235765,1.5515835636086044,1.5585551386055765,1.558480612803017,1.5648674732358208,1.5599718670201128,1.5625243600009828,1.5535146604103374,1.549799758448004,1.5466940013191106,1.5438535718574409,1.5397271433195026,1.538733572929717,1.5381083039203227,1.5422608677288887,1.5400992274122927,1.5394422963282675,1.542305216848475,1.5456427120405047,1.5392872160177526,1.5453539098918858,1.5459118465764277,1.53578845613359,1.5406763694030057,1.541294972701538,1.5499377634199694,1.5562352835649713,1.5550404636338953,1.5644594935527645,1.55148472171727,1.547587665055289,1.5570035290506743,1.5487450881384575,1.5446111286571067],\"type\":\"scatter\"},{\"mode\":\"lines\",\"name\":\"RandomAgent\",\"y\":[-0.022084170341744546,-0.017364338831666198,-0.024533069836751617,-0.029354691637811105,-0.02689115995386497,-0.018795850225607806,-0.022765618597587255,-0.017408641997166685,-0.02367090404923283,-0.016961610521580173,-0.036241490535690576,-0.027409546812447998,-0.036620978055023304,-0.031078922225562283,-0.02662079419304523,-0.023695113338562935,-0.014228978756947968,-0.003049747364507949,-0.018283247300999558,-0.01706685501341086,-0.017606506980552498,-0.020510899289957234,-0.02617599877406732,-0.02171830993969555,-0.037257207225028184,-0.017981214467492568,-0.015417696893644191,0.004551490246764319,0.01148338248580915,0.006379452085260599,0.02134487831018704,0.0060540187984738075,-0.009842265219936216,0.004237833934141574,0.007755667583517045,-0.0020379456398899637,0.0027662106255935534,0.02337157036979694,0.014858296082259703,0.018269572309016092,0.010229112308342062,0.008203696592750553,-0.011850550559281673,-0.005614168307899728,0.003992481861435315,-0.01871659584559408,-0.00586411055357912,0.0015357760247502053,-0.0023769583709140805,0.0003559784028571563,0.0037260732168080384,0.013179292974067428,-0.005006178938719212,0.01218404335592509,0.029810997114970112,0.028923344423240245,0.03195293357955347,0.020404586889661066,0.02491067935577303,0.009308025968515798,0.027455370609703756,0.031418958876726494,0.036646954633936316,0.04237435631321469,0.028218671503502064,0.03835849126920898,0.0118701962927465,-0.005247696310250423,-0.020627280573066058,-0.029700431363751646,-0.025257665144957666,-0.02815585652853813,-0.020665014710180025,-0.04560399805768977,-0.029022602138962936,-0.034445873568596776,-0.04293827915212364,-0.06297651108979915,-0.05569420108684422,-0.05320370769047598,-0.07104241753457179,-0.06257284057491547,-0.04314185417384824,-0.032242107459665235,-0.025472750222264317,-0.02854811459439627,-0.03308496180663967,-0.03042066420538254,-0.021729536664604244,-0.03244774069781367,-0.03986644845837035,-0.03897019557743196,-0.029359558947524414,-0.04298947875544203,-0.041824392677280435,-0.03655981886141005,-0.02845671186341008,-0.035277802671032546,-0.035691507786815256,-0.05915943016494394,-0.055091550822866105,-0.05343185559320423,-0.042262082848880535,-0.042602195908236655,-0.039224032633471004,-0.03764859035065548,-0.03788492817946286,-0.03726742256408263,-0.036491871473172136,-0.022282264244034906,-0.009363830012525106,0.0005682209495975125,-0.006462594922040473,-0.018519032425164415,0.006386206344736752,0.0070992523699139705,0.008591711797453971,0.0009262287056186925,0.0007807008306388585,-0.006888678525589054,-0.011793179233979777,-0.0005163024231873129,0.00007298839069317017,0.01475762720728467,0.003772524552078549,0.0077969524014624685,0.003464481358377721,0.022989598544643643,0.026237509214197777,0.01539206843741258,0.011225790117352563,0.012563815260572885,0.02447178041354044,0.030605710722959544,0.02262204685519816,0.03571364959289999,0.028936946280958522,0.03335302429042142,0.02039970186120151,0.021270796963271263,0.013249646748693111,0.010300214604665939,0.0008653994722582621,0.01133377174660349,0.005715419895902526,-0.0013800403639674533,0.003927405819407692,0.002905584680554381,-0.0026277671995518373,0.004508896223140916,0.0037225230273702464,-0.004915383506362314,-0.0037381643726045392,-0.005292006111462063,-0.0039012493439910902,-0.015566331294687104,-0.023213549116319173,-0.013102578710490661,-0.021756031214454685,-0.01467821885056959,0.0011056275001378514,-0.017296571783835722,-0.027379089816310077,-0.018924494582331683,-0.01628129314123344,-0.006856448427925077,-0.004914919849944595,-0.01559624944071755,-0.004106135427167201,0.0013143950894556925,0.008770025273705028,0.014966483853036694,0.008063384428667305,0.0034685317125165314,0.011710757320512662,-0.007511273025937681,-0.01032393855158206,0.0020238113066777695,-0.009355912133882411,0.004154082401265624,-0.014277298335709298,0.0026244694379173278,0.015616471108899965,-0.004717081684830937,-0.016387587334493667,-0.004803918918714641,0.003545739050034132,0.006352780879108355,0.018165662701177032,0.01602768193251496,0.0389962005455752,0.05005121015946907,0.034392241512778685,0.039399528386662344,0.022629724458884153,0.031577689676442706,0.010968731212676852,0.004856794160276342,0.02114403264288156,0.022806145834941605,0.013435523344189211,-0.0014250544490160167,0.00021874386627741179,-0.006544598774745181,-0.012131446424569677,-0.011204490728012884,-0.009443597634244643,0.008347400843466168,0.012890839688305577,0.02238036748262755,0.03211033562345599,0.044544566829284656,0.03690827662532919,0.04960403466959654,0.04703248164043001,0.05291588735762592,0.05406616222990216,0.05251736008632721,0.0604237702529208,0.06564156610895741,0.04773109098651433,0.045263328608406886,0.04145723489904938,0.04357524889089435,0.03850776072104895,0.02842696395268744,0.018804547065192315,0.02332173110037104,0.027044089312801792,0.03040155642618305,0.026292069936754828,0.030394638329800844,0.04127773841873482,0.0335545537916687,0.03641246245115625,0.03736410103813411,0.04349009201346825,0.03884497964902322,0.030078485743355608,0.0409792527638355,0.03895888241244503,0.05260758880427828,0.05523360183427064,0.05045367755731422,0.06422435813538876,0.05282247983665569,0.06305193507202919,0.060744916128829936,0.059597945799992925,0.05598115662390342,0.06173257930164301,0.052291388755391945,0.04530853631179506,0.04209123567767533,0.038873357817740144,0.039273322836315676,0.014902931790095148,0.02390546565765234,0.02784617766455295,0.025705482761979193,0.04612318356561598,0.04087920236967236,0.02517727803515389,0.03454600018863518,0.026979062500494467,0.015287461028143816,0.03385740565014865,0.039036533552266994,0.05331970887710884,0.04748580592973322,0.04099272383339519,0.04323745583196535,0.035134287999457545,0.026947561218814652,0.016452444047806006,-0.00037945693169202005,-0.0029985353374960924,-0.00004032645112599376,-0.010406547459964817,0.0008762414909658863,0.01756741611899564,-0.006243659286818841,-0.0039013273330810914,-0.024790313350642603,-0.04043949137908462,-0.034779941189436135,-0.020431176337242823,-0.013632364221161646,-0.02052288120452994,-0.007468380210692945,-0.0005007325453894781,0.0017182939480467675,-0.008172445767167054,-0.00024282648497222503,-0.003700647033881577,-0.013992324949144175,-0.007891385007103712,-0.0012051574843970384,0.01831829634738676,0.036585495453059176,0.03279255786545985,0.032396584416184634,0.02591642226393008,0.02450237277285233,0.003367682440604384,-0.0010776102121207683,0.0012514995914112278,0.016459783187306773,0.002577378925847255,-0.008214299458740474,0.0007874087494077624,0.007348305268671792,-0.005495309202421013,-0.003784471465521951,0.0011064202000991821,0.0005415454674105054,-0.004548269597409993,-0.0024322738386200063,-0.0047076541955327995,0.0020693244108735223,-0.004238850199502661,0.00578816984040366,0.005155085924804596,0.009208938865558158,0.00311950975854689,-0.004730567389550992,-0.007682670096916174,-0.005901435078163475,-0.011573939456657885,-0.024383632667814358,-0.01775465668199055,-0.014289909426116054,-0.007483833452910756,-0.0030508880995931075,-0.004634766491145426,0.009015550551589202,-0.01183016299348593,-0.008240226335580629,-0.0075571036574534865,-0.0016143359073716704,0.0018963360470188207,0.00510438911112856,0.0053463572349206215,0.015806660150558087,0.02066326750005539,0.008364341715492888,-0.00845447629764157,-0.019202023977044846,-0.018299780100538655,-0.0005656810431041345,-0.008210643724833296,-0.0028377907314506364,0.006810190628910491,0.005824130067906216,0.011291397096895913,0.019846161842326165,0.014910080474873277,0.018338450120251672,0.014383190613267842,0.024746000200786256,0.03686553829949553,0.05435802026781529,0.054100680146924145,0.046612536951517486,0.024623266500252847,0.02956102572116442,0.012059068682664546,-0.0033301589923001806,0.007604982543843667,0.015407237511166386,0.004191942820410776,0.0026652526316756,0.0002601042310280762,-0.0025642971530266696,-0.011225474770495965,-0.008837973159512262,-0.02925624609641231,-0.0254841243401733,-0.02743075601751017,-0.009513015598452575,-0.0010917370576350857,0.013524406086733753,0.026206818688609433,0.018464755313716733,0.009368618917304354,0.013523567503615386,0.008775169883040619,0.01238494557279212,0.00732723334592209,0.005218417280971174,-0.0027319086007303373,0.004791195823071437,0.014686620645442483,0.022343853982249303,0.008813252504768254,0.00019850888270163126,0.009845728985108989,-0.0037994946902155063,0.004025492658464843,0.006472409137093408,0.002929624166111274,0.00582752833478164,0.006650510544981033,0.009010864243967258,0.011372397665379912,0.016560353100438987,0.01590673393245171,0.007697853764648333,-0.0013887397953601314,0.008889490648019487,0.010532997554705477,0.01003373420248644,0.0018231161374952028,-0.00005056218044717416,0.010232134345146788,0.013899497505514787,0.0075845979165042095,-0.004029162632271147,-0.00281509978463171,-0.00704511383777282,-0.0056473119445786,0.006999677542365582,-0.0032851191070632614,0.008555109648897682,-0.004323955792389208,-0.010400910519830341,-0.02792335869161729,-0.015676607062024582,-0.016922517953788466,-0.03883643724648992,-0.043250385939279226,-0.029602893778270665,-0.006225012942027863,-0.02009301747417503,-0.027287582093264613,-0.02285922280520721,-0.029305560562295902,-0.030817491884805738,-0.027065295322927282,-0.021305568530103274,-0.02150039691028467,-0.009453171167374446,-0.01657125760296312,-0.0199001444966212,-0.017452129348385744,-0.024719724361485722,-0.02582823030859749,-0.0589224098640493,-0.038307255149952917,-0.02656778185077949,-0.04741779667177489,-0.03969327699785182,-0.03053977269487244,-0.04124162971312327,-0.04028247717120741,-0.028699552635517038,-0.03096534379430989,-0.023727484733654276,-0.025854317796369028,-0.01299735464755049,-0.005382134422183996,0.000518065381731884,0.025310123107995106,0.03261830291380464,0.03379455074076961,0.0503147091064721,0.05652977923118863,0.05508751345797831,0.06188186123295816,0.05673685044344908,0.049900336871360966,0.042959584971283354,0.04985116727641972,0.045893899129684536,0.03155920004452908,0.024243155323620445,0.025295102148368956,0.02361615093322308,0.0038729018048886993,0.01172247985869482,0.006764968434831609,-0.0054032139003929855,0.0025118211359103377,-0.0009699095821760206,0.007421040402894352,0.003279576696566607,0.011947100757575945,-0.0027296378651572974,0.004746419597220959,0.01103832652227233,0.029361521707082647,0.025239953151408433,0.025047829921194652,0.02505556093283346,0.02074600242208541,0.025803378867608907,0.0281971280283894,0.017141736552085913,0.021258548585586765,0.02011623457951647,0.016288369133134407,0.014023485471012767,0.02280260697814094,0.020508154654059085,0.03044200906760753,0.029868171416612316,0.02941804515881185,0.016745781562435964,0.011894346896928247,0.016037740100847,0.008823971452588737,-0.0002670292290439876,0.0020697822048399168,0.0007940557964970433,0.0013589813779090261,0.00387942191268853,0.006549362106327876,-0.009056882037350519,-0.004718675100495462,-0.009559838900232693,-0.011341597698369362,-0.01683276532443861,-0.005863795606253838,0.0070547922260566056,-0.00045465827577482185,0.0019986019068975124,0.009548141497614035,0.01863022414756948,0.019277505550515914,0.02166218749566582,0.03467180551670824,0.02972405582829669,0.04186483980478915,0.0338201126609795,0.025093717383787444,0.01608440098659849,0.02549538771280401,0.029298773715880064,0.0077085843810142055,0.005021783945411506,0.014133098110780621,0.01974685103504603,0.009605606443220201,0.005647706809626237,-0.00015384470209915216,-0.012966694238141733,-0.018902156436132838,-0.03399647640738167,-0.031868126591404346,-0.03340058890419211,-0.020265787527553886,-0.030481398591867864,-0.046601424105099126,-0.024836718867385966,-0.012758866258245108,-0.013329346123955865,-0.005114755398268193,0.0015719308198808809,0.004431445512186017,-0.0020883433157133703,0.013491873232253612,0.021708105793547924,0.035813623241273636,0.03983936377559836,0.05268380816539226,0.03669323812777036,0.0216784702823396,0.026252288545325665,0.028746467907158943,0.008012938420313927,0.013985934673826871,0.0016398047018381472,-0.0066563660204058605,-0.014814562488657874,-0.00014842157425682957,-0.015957756085173327,-0.009845017670702087,-0.0005979527518065631,0.0012140488324088909,0.00450431750324416,0.010431090208240927,0.02083094336792124,0.026735396794482735,0.012277692238301056,0.03438929452285429,0.013984831036489532,0.017982715672445575,0.019203629291157577,0.016870665438489703,0.020188831298217944,0.0256518730120348,0.02368489851456926,0.015276199091190415,0.011993061885385004,0.002982202206383929,0.004710819413249823,0.0034074217827315383,-0.0028724291675999622,0.009151397026877343,-0.004823710131730537,0.00008725737656150775,-0.0013718023244983612,0.0034506839939100566,0.013985915331407176,0.008534683600975097,0.0020185690086871174,0.0010906620102677364,0.004491577415363797,0.0065536467801899255,0.008689374512269855,0.009499051188599061,0.016275354848169332,0.01178054613849815,0.006033826538067662,0.014107869437791543,0.01499104079556739,0.019827367140380373,0.013577997187361922,0.006826390273073576,0.006635957217248152,0.008639369790249596,-0.0029142979725320056,-0.011280974147280295,-0.016294625799319996,-0.01217496299198156,-0.010668675645193382,-0.013120220568256702,-0.008311755747245898,-0.013183254912557719,-0.02309147300565047,-0.010882466887023264,-0.027622319559224066,-0.01859480858331365,-0.020521338951996614,-0.013328585869127055,-0.0019367752711714203,0.007489454804425311,0.006660570570496619,0.01761182387381656,0.008584405259857509,0.008210637654375515,0.016787289607622626,0.0317730457444348,0.032327677224016325,0.047112941774593686,0.04031423503653905,0.06350162090890456,0.05899755773513924,0.06880175169860742,0.06344791895730537,0.046103139010804796,0.0370159473821583,0.042096043888040315,0.04385321510953784,0.03235948414820588,0.03256391920261924,0.03315927945122867,0.021357337581739404,0.022308857201689788,0.01613921634362221,0.010740018373610589,0.006973993651615995,0.012316420060575517,0.017583146707382577,0.014159931189054712,0.021808437991192104,0.03875656805745698,0.024403006177652356,0.011136456760653808,0.030316658476122763,0.028549387667178502,0.021461408602804433,0.01920500836711036,0.0202233373919376,0.03293581450671583,0.0292030117570295,0.016673559392799516,0.010787352892242552,0.0010574341296497813,0.011389942015955364,0.009567928596736823,0.016727192656278866,0.030835762128058372,0.04961032150352098,0.04795312031385125,0.0590948339632277,0.05550449908712632,0.05610258341728945,0.07581499116392616,0.05843033985521607,0.07748338633184734,0.07803883750666346,0.07256399611721429,0.07643022540540301,0.05056076945500688,0.05371912948207278,0.0331082313067452,0.03292457196961488,0.033553363983742736,0.022371343742006524,0.017041519877477047,0.020651018060669674,0.0284678376839319,-0.004155313827830476,-0.01006312848250867,-0.014672761961990292,-0.017309253198962024,-0.008238059085694615,-0.007256249301443181,0.008015051871680967,0.014238085769127906,0.022132272934587565,0.020504818432845972,-0.013163810039561123,0.007625774798961278,-0.0036171680511932537,0.003922218467680357,-0.010871935276639159,0.007192224001988023,-0.00034632980944628857,-0.021759006527608923,-0.016262883876620057,-0.019459783069443404,-0.029701892420589182,-0.039835059977744024,-0.054986450461877764,-0.056406935918267405,-0.05128084933422456,-0.03286613187929757,-0.049112196748278096,-0.051289583352380555,-0.05710122687919004,-0.04588805633985314,-0.053338409141816236,-0.04235430358554041,-0.0309638455989868,-0.03372138574128553,-0.03015765627366435,-0.014686750615222798,-0.0025879754355832675,0.011351401327963372,0.009927963954538654,0.007691136664513939,0.01526187908005312,0.014914072835910315,0.015682305905850194,0.01263003520664121,0.014236173255016618,0.021689865524122175,0.02682757662558292,0.030656524077891205,0.038595522879987805,0.030640678301321098,0.02008513235490484,0.023169796076586025,0.015804842342556392,0.023422200828937947,0.02761282350232778,0.018119973922595397,0.022644965953466805,0.033876143592682456,0.031195773903512306,0.0314300231643573,0.025139692524394994,0.019042548732976707,0.0064719252323492665,-0.01759207411112366,-0.015408703860630328,-0.008892725339297176,-0.012018290248473562,-0.014958070543798089,-0.027871123562337688,-0.0244176520133608,-0.019728844888976364,-0.01968948699117501,-0.028759505991148338,-0.022109037901782418,-0.025274634113942856,-0.012639237635268625,-0.007525505540973576,-0.005577814568663619,0.013538998208730923,0.023557587637533926,0.024219967997933623,0.021208202676312144,0.020171552167981766,0.022511555670005734,0.010874254789349535,0.009429745972292144,0.011619291667569935,0.013069294780567139,0.00919961319347351,0.005954242701992444,-0.013638465668246624,-0.019745102339987615,-0.009297150067964388,-0.012789070804296662,-0.026005356888684203,-0.034050102788163804,-0.019381205659482013,-0.01966097953200503,-0.009608010516367511,0.001188029226437178,0.010498859845972557,0.018525520303137456,0.03115945311462601,0.044469802138114585,0.04773864578789079,0.06497454691503328,0.07863274294087587,0.08027009657872876,0.08420877045326366,0.10495066636390196,0.11930811641013707,0.08924199851879268,0.09691483895419743,0.10666684132787013,0.10111092716911632,0.09728020130859942,0.07356478828965975,0.06396840822731349,0.06483675174930165,0.0604103051393853,0.06233512951007795,0.049265838978477916,0.056116969589307966,0.050552286201456555,0.035085525529512,0.020738509088416398,0.03676195311886961,0.036874551387803815,0.02396504493524668,0.02768254580908233,0.019565632254174403,0.043554364416789504,0.04561386431160444,0.03732703498462448,0.0380486963506856,0.02903312052030375,0.021542970520416618,-0.0003155130114947724,0.0073118087369610524,0.02064393405662302,0.019497672595648535,0.02282280719259019,0.027375717632243498,0.023510650765823666,0.009428774757437116,0.009741303450207421,-0.00880016206766309,-0.00606149468443616,-0.008629039753065667,0.007108654494678746,-0.005312761010086279,-0.007439788986689481,0.0019913832642169875,-0.004173642030053238,-0.022533000618536705,-0.01965658814366839,-0.011417342171535515,-0.021298102394662108,-0.018588414094359487,-0.009684218705785182,-0.0066479149751469775,0.005017502705026722,0.007174486024168125,0.0014234272417233149,-0.010263739941858379,-0.006612122865510983,0.017973827461059185,0.035291124002553194,0.033279917071882895,0.04291301424910401,0.03300099320765882,0.025972963112096892,0.035064326759141194,0.03468662873469697,0.03330982993828222,0.05108682499780522,0.037005030499394805,0.03081866820998697,0.030893204895227438,0.03537263687592406,0.040314358574502586,0.018456793899406656,-0.0028072958569527037,0.013798379893773511,0.006146192322187538,0.013969340986892042,0.005425049119113308,-0.006737962667101153,0.0004939232312431467,-0.003296956161856042,-0.025667254294141628,-0.0300068843961677,-0.03211126147598715,-0.031446434342352524,-0.046103998123139436,-0.048257439580638814,-0.042816338679908424,-0.03868765597394699,-0.060145845566165396,-0.0382470223765124,-0.036833023152024386,-0.048637792682445634,-0.036030158383683224,-0.043895945775589654,-0.031192877750698914,-0.02085203974154422,-0.009847623480397456,-0.015191927940444098,-0.015284083747809991,-0.00471691388120495,0.0074222560943391375,0.02020822501814686,0.024513570069975604,0.029769897693505125,0.008108935653185927,0.013933228522312765,0.03761261792501832,0.02986387446752795,0.03377326500409925,0.015592223392382584,8.21050289214753e-6,0.009228516031751491,0.007566528552118967,0.013547790653521888,0.011015109307324581,0.0004032203891493206,-0.011915981881350035,-0.014426594948503417,-0.01355117721307438,-0.002024283176776187,-0.007656633775298438,-0.009113884889911125,-0.013540685457090381,-0.015305269415293072,-0.001317959730575898,0.02003094453222154,0.016129589421227546,0.01393011242530342,0.013546219887774609,0.013050766495176091,0.012837693617608004,0.03083386214001867,0.024567557227433964,0.022772413289962105,0.01558045284246236,0.011731122698039265,0.015022974082417366,0.013477495239972015,0.00960214719120079,0.005866965669310767,-0.01213298784814274,-0.01458207682132701,-0.007751754393668916,0.004292254513459899,0.013043473016796507,0.015843511604424758,0.006925016659204471,0.009355090120909064,0.004784548533894058,0.0008198695409712778,0.0025573442426537105,-0.002306492267526039,0.0033686869730972903,0.005662181471070819,-0.0020040883307319863,-0.007274288050114089,0.004766794257241536,0.005714107555200165,-0.006461594965211089,-0.00870652417351252,-0.006995692871170374,-0.028060656440777678,-0.034844849098915096,-0.032217769174808335,-0.023905961506333166,-0.00954712987550869,-0.021359853545045954,-0.01188226314140035,-0.029683924076918267,-0.02807698044955386,-0.0048057753364445215,-0.020271724653348738,-0.025630379157882053],\"type\":\"scatter\"}],                        {\"template\":{\"data\":{\"barpolar\":[{\"marker\":{\"line\":{\"color\":\"white\",\"width\":0.5},\"pattern\":{\"fillmode\":\"overlay\",\"size\":10,\"solidity\":0.2}},\"type\":\"barpolar\"}],\"bar\":[{\"error_x\":{\"color\":\"rgb(36,36,36)\"},\"error_y\":{\"color\":\"rgb(36,36,36)\"},\"marker\":{\"line\":{\"color\":\"white\",\"width\":0.5},\"pattern\":{\"fillmode\":\"overlay\",\"size\":10,\"solidity\":0.2}},\"type\":\"bar\"}],\"carpet\":[{\"aaxis\":{\"endlinecolor\":\"rgb(36,36,36)\",\"gridcolor\":\"white\",\"linecolor\":\"white\",\"minorgridcolor\":\"white\",\"startlinecolor\":\"rgb(36,36,36)\"},\"baxis\":{\"endlinecolor\":\"rgb(36,36,36)\",\"gridcolor\":\"white\",\"linecolor\":\"white\",\"minorgridcolor\":\"white\",\"startlinecolor\":\"rgb(36,36,36)\"},\"type\":\"carpet\"}],\"choropleth\":[{\"colorbar\":{\"outlinewidth\":1,\"tickcolor\":\"rgb(36,36,36)\",\"ticks\":\"outside\"},\"type\":\"choropleth\"}],\"contourcarpet\":[{\"colorbar\":{\"outlinewidth\":1,\"tickcolor\":\"rgb(36,36,36)\",\"ticks\":\"outside\"},\"type\":\"contourcarpet\"}],\"contour\":[{\"colorbar\":{\"outlinewidth\":1,\"tickcolor\":\"rgb(36,36,36)\",\"ticks\":\"outside\"},\"colorscale\":[[0.0,\"#440154\"],[0.1111111111111111,\"#482878\"],[0.2222222222222222,\"#3e4989\"],[0.3333333333333333,\"#31688e\"],[0.4444444444444444,\"#26828e\"],[0.5555555555555556,\"#1f9e89\"],[0.6666666666666666,\"#35b779\"],[0.7777777777777778,\"#6ece58\"],[0.8888888888888888,\"#b5de2b\"],[1.0,\"#fde725\"]],\"type\":\"contour\"}],\"heatmapgl\":[{\"colorbar\":{\"outlinewidth\":1,\"tickcolor\":\"rgb(36,36,36)\",\"ticks\":\"outside\"},\"colorscale\":[[0.0,\"#440154\"],[0.1111111111111111,\"#482878\"],[0.2222222222222222,\"#3e4989\"],[0.3333333333333333,\"#31688e\"],[0.4444444444444444,\"#26828e\"],[0.5555555555555556,\"#1f9e89\"],[0.6666666666666666,\"#35b779\"],[0.7777777777777778,\"#6ece58\"],[0.8888888888888888,\"#b5de2b\"],[1.0,\"#fde725\"]],\"type\":\"heatmapgl\"}],\"heatmap\":[{\"colorbar\":{\"outlinewidth\":1,\"tickcolor\":\"rgb(36,36,36)\",\"ticks\":\"outside\"},\"colorscale\":[[0.0,\"#440154\"],[0.1111111111111111,\"#482878\"],[0.2222222222222222,\"#3e4989\"],[0.3333333333333333,\"#31688e\"],[0.4444444444444444,\"#26828e\"],[0.5555555555555556,\"#1f9e89\"],[0.6666666666666666,\"#35b779\"],[0.7777777777777778,\"#6ece58\"],[0.8888888888888888,\"#b5de2b\"],[1.0,\"#fde725\"]],\"type\":\"heatmap\"}],\"histogram2dcontour\":[{\"colorbar\":{\"outlinewidth\":1,\"tickcolor\":\"rgb(36,36,36)\",\"ticks\":\"outside\"},\"colorscale\":[[0.0,\"#440154\"],[0.1111111111111111,\"#482878\"],[0.2222222222222222,\"#3e4989\"],[0.3333333333333333,\"#31688e\"],[0.4444444444444444,\"#26828e\"],[0.5555555555555556,\"#1f9e89\"],[0.6666666666666666,\"#35b779\"],[0.7777777777777778,\"#6ece58\"],[0.8888888888888888,\"#b5de2b\"],[1.0,\"#fde725\"]],\"type\":\"histogram2dcontour\"}],\"histogram2d\":[{\"colorbar\":{\"outlinewidth\":1,\"tickcolor\":\"rgb(36,36,36)\",\"ticks\":\"outside\"},\"colorscale\":[[0.0,\"#440154\"],[0.1111111111111111,\"#482878\"],[0.2222222222222222,\"#3e4989\"],[0.3333333333333333,\"#31688e\"],[0.4444444444444444,\"#26828e\"],[0.5555555555555556,\"#1f9e89\"],[0.6666666666666666,\"#35b779\"],[0.7777777777777778,\"#6ece58\"],[0.8888888888888888,\"#b5de2b\"],[1.0,\"#fde725\"]],\"type\":\"histogram2d\"}],\"histogram\":[{\"marker\":{\"line\":{\"color\":\"white\",\"width\":0.6}},\"type\":\"histogram\"}],\"mesh3d\":[{\"colorbar\":{\"outlinewidth\":1,\"tickcolor\":\"rgb(36,36,36)\",\"ticks\":\"outside\"},\"type\":\"mesh3d\"}],\"parcoords\":[{\"line\":{\"colorbar\":{\"outlinewidth\":1,\"tickcolor\":\"rgb(36,36,36)\",\"ticks\":\"outside\"}},\"type\":\"parcoords\"}],\"pie\":[{\"automargin\":true,\"type\":\"pie\"}],\"scatter3d\":[{\"line\":{\"colorbar\":{\"outlinewidth\":1,\"tickcolor\":\"rgb(36,36,36)\",\"ticks\":\"outside\"}},\"marker\":{\"colorbar\":{\"outlinewidth\":1,\"tickcolor\":\"rgb(36,36,36)\",\"ticks\":\"outside\"}},\"type\":\"scatter3d\"}],\"scattercarpet\":[{\"marker\":{\"colorbar\":{\"outlinewidth\":1,\"tickcolor\":\"rgb(36,36,36)\",\"ticks\":\"outside\"}},\"type\":\"scattercarpet\"}],\"scattergeo\":[{\"marker\":{\"colorbar\":{\"outlinewidth\":1,\"tickcolor\":\"rgb(36,36,36)\",\"ticks\":\"outside\"}},\"type\":\"scattergeo\"}],\"scattergl\":[{\"marker\":{\"colorbar\":{\"outlinewidth\":1,\"tickcolor\":\"rgb(36,36,36)\",\"ticks\":\"outside\"}},\"type\":\"scattergl\"}],\"scattermapbox\":[{\"marker\":{\"colorbar\":{\"outlinewidth\":1,\"tickcolor\":\"rgb(36,36,36)\",\"ticks\":\"outside\"}},\"type\":\"scattermapbox\"}],\"scatterpolargl\":[{\"marker\":{\"colorbar\":{\"outlinewidth\":1,\"tickcolor\":\"rgb(36,36,36)\",\"ticks\":\"outside\"}},\"type\":\"scatterpolargl\"}],\"scatterpolar\":[{\"marker\":{\"colorbar\":{\"outlinewidth\":1,\"tickcolor\":\"rgb(36,36,36)\",\"ticks\":\"outside\"}},\"type\":\"scatterpolar\"}],\"scatter\":[{\"fillpattern\":{\"fillmode\":\"overlay\",\"size\":10,\"solidity\":0.2},\"type\":\"scatter\"}],\"scatterternary\":[{\"marker\":{\"colorbar\":{\"outlinewidth\":1,\"tickcolor\":\"rgb(36,36,36)\",\"ticks\":\"outside\"}},\"type\":\"scatterternary\"}],\"surface\":[{\"colorbar\":{\"outlinewidth\":1,\"tickcolor\":\"rgb(36,36,36)\",\"ticks\":\"outside\"},\"colorscale\":[[0.0,\"#440154\"],[0.1111111111111111,\"#482878\"],[0.2222222222222222,\"#3e4989\"],[0.3333333333333333,\"#31688e\"],[0.4444444444444444,\"#26828e\"],[0.5555555555555556,\"#1f9e89\"],[0.6666666666666666,\"#35b779\"],[0.7777777777777778,\"#6ece58\"],[0.8888888888888888,\"#b5de2b\"],[1.0,\"#fde725\"]],\"type\":\"surface\"}],\"table\":[{\"cells\":{\"fill\":{\"color\":\"rgb(237,237,237)\"},\"line\":{\"color\":\"white\"}},\"header\":{\"fill\":{\"color\":\"rgb(217,217,217)\"},\"line\":{\"color\":\"white\"}},\"type\":\"table\"}]},\"layout\":{\"annotationdefaults\":{\"arrowhead\":0,\"arrowwidth\":1},\"autotypenumbers\":\"strict\",\"coloraxis\":{\"colorbar\":{\"outlinewidth\":1,\"tickcolor\":\"rgb(36,36,36)\",\"ticks\":\"outside\"}},\"colorscale\":{\"diverging\":[[0.0,\"rgb(103,0,31)\"],[0.1,\"rgb(178,24,43)\"],[0.2,\"rgb(214,96,77)\"],[0.3,\"rgb(244,165,130)\"],[0.4,\"rgb(253,219,199)\"],[0.5,\"rgb(247,247,247)\"],[0.6,\"rgb(209,229,240)\"],[0.7,\"rgb(146,197,222)\"],[0.8,\"rgb(67,147,195)\"],[0.9,\"rgb(33,102,172)\"],[1.0,\"rgb(5,48,97)\"]],\"sequential\":[[0.0,\"#440154\"],[0.1111111111111111,\"#482878\"],[0.2222222222222222,\"#3e4989\"],[0.3333333333333333,\"#31688e\"],[0.4444444444444444,\"#26828e\"],[0.5555555555555556,\"#1f9e89\"],[0.6666666666666666,\"#35b779\"],[0.7777777777777778,\"#6ece58\"],[0.8888888888888888,\"#b5de2b\"],[1.0,\"#fde725\"]],\"sequentialminus\":[[0.0,\"#440154\"],[0.1111111111111111,\"#482878\"],[0.2222222222222222,\"#3e4989\"],[0.3333333333333333,\"#31688e\"],[0.4444444444444444,\"#26828e\"],[0.5555555555555556,\"#1f9e89\"],[0.6666666666666666,\"#35b779\"],[0.7777777777777778,\"#6ece58\"],[0.8888888888888888,\"#b5de2b\"],[1.0,\"#fde725\"]]},\"colorway\":[\"#1F77B4\",\"#FF7F0E\",\"#2CA02C\",\"#D62728\",\"#9467BD\",\"#8C564B\",\"#E377C2\",\"#7F7F7F\",\"#BCBD22\",\"#17BECF\"],\"font\":{\"color\":\"rgb(36,36,36)\"},\"geo\":{\"bgcolor\":\"white\",\"lakecolor\":\"white\",\"landcolor\":\"white\",\"showlakes\":true,\"showland\":true,\"subunitcolor\":\"white\"},\"hoverlabel\":{\"align\":\"left\"},\"hovermode\":\"closest\",\"mapbox\":{\"style\":\"light\"},\"paper_bgcolor\":\"white\",\"plot_bgcolor\":\"white\",\"polar\":{\"angularaxis\":{\"gridcolor\":\"rgb(232,232,232)\",\"linecolor\":\"rgb(36,36,36)\",\"showgrid\":false,\"showline\":true,\"ticks\":\"outside\"},\"bgcolor\":\"white\",\"radialaxis\":{\"gridcolor\":\"rgb(232,232,232)\",\"linecolor\":\"rgb(36,36,36)\",\"showgrid\":false,\"showline\":true,\"ticks\":\"outside\"}},\"scene\":{\"xaxis\":{\"backgroundcolor\":\"white\",\"gridcolor\":\"rgb(232,232,232)\",\"gridwidth\":2,\"linecolor\":\"rgb(36,36,36)\",\"showbackground\":true,\"showgrid\":false,\"showline\":true,\"ticks\":\"outside\",\"zeroline\":false,\"zerolinecolor\":\"rgb(36,36,36)\"},\"yaxis\":{\"backgroundcolor\":\"white\",\"gridcolor\":\"rgb(232,232,232)\",\"gridwidth\":2,\"linecolor\":\"rgb(36,36,36)\",\"showbackground\":true,\"showgrid\":false,\"showline\":true,\"ticks\":\"outside\",\"zeroline\":false,\"zerolinecolor\":\"rgb(36,36,36)\"},\"zaxis\":{\"backgroundcolor\":\"white\",\"gridcolor\":\"rgb(232,232,232)\",\"gridwidth\":2,\"linecolor\":\"rgb(36,36,36)\",\"showbackground\":true,\"showgrid\":false,\"showline\":true,\"ticks\":\"outside\",\"zeroline\":false,\"zerolinecolor\":\"rgb(36,36,36)\"}},\"shapedefaults\":{\"fillcolor\":\"black\",\"line\":{\"width\":0},\"opacity\":0.3},\"ternary\":{\"aaxis\":{\"gridcolor\":\"rgb(232,232,232)\",\"linecolor\":\"rgb(36,36,36)\",\"showgrid\":false,\"showline\":true,\"ticks\":\"outside\"},\"baxis\":{\"gridcolor\":\"rgb(232,232,232)\",\"linecolor\":\"rgb(36,36,36)\",\"showgrid\":false,\"showline\":true,\"ticks\":\"outside\"},\"bgcolor\":\"white\",\"caxis\":{\"gridcolor\":\"rgb(232,232,232)\",\"linecolor\":\"rgb(36,36,36)\",\"showgrid\":false,\"showline\":true,\"ticks\":\"outside\"}},\"title\":{\"x\":0.05},\"xaxis\":{\"automargin\":true,\"gridcolor\":\"rgb(232,232,232)\",\"linecolor\":\"rgb(36,36,36)\",\"showgrid\":false,\"showline\":true,\"ticks\":\"outside\",\"title\":{\"standoff\":15},\"zeroline\":false,\"zerolinecolor\":\"rgb(36,36,36)\"},\"yaxis\":{\"automargin\":true,\"gridcolor\":\"rgb(232,232,232)\",\"linecolor\":\"rgb(36,36,36)\",\"showgrid\":false,\"showline\":true,\"ticks\":\"outside\",\"title\":{\"standoff\":15},\"zeroline\":false,\"zerolinecolor\":\"rgb(36,36,36)\"}}},\"title\":{\"text\":\"Mean reward over all runs\"},\"height\":450,\"width\":750},                        {\"displayModeBar\": false, \"responsive\": true}                    ).then(function(){\n",
              "                            \n",
              "var gd = document.getElementById('ef06e39d-dd14-413b-af0f-706608750aca');\n",
              "var x = new MutationObserver(function (mutations, observer) {{\n",
              "        var display = window.getComputedStyle(gd).display;\n",
              "        if (!display || display === 'none') {{\n",
              "            console.log([gd, 'removed!']);\n",
              "            Plotly.purge(gd);\n",
              "            observer.disconnect();\n",
              "        }}\n",
              "}});\n",
              "\n",
              "// Listen for the removal of the full notebook cells\n",
              "var notebookContainer = gd.closest('#notebook-container');\n",
              "if (notebookContainer) {{\n",
              "    x.observe(notebookContainer, {childList: true});\n",
              "}}\n",
              "\n",
              "// Listen for the clearing of the current output cell\n",
              "var outputEl = gd.closest('.output');\n",
              "if (outputEl) {{\n",
              "    x.observe(outputEl, {childList: true});\n",
              "}}\n",
              "\n",
              "                        })                };                            </script>        </div>\n",
              "</body>\n",
              "</html>"
            ]
          },
          "metadata": {}
        }
      ],
      "source": [
        "class UCBActionSelection(Agent):\n",
        "    def __init__(self, num_arms: int, seed: int, c: float, eps: float = 1e-6):\n",
        "        super().__init__(num_arms, seed)\n",
        "        self.c = c\n",
        "        self.eps = eps\n",
        "\n",
        "        self.Q = np.zeros(shape=(num_arms), dtype=float)\n",
        "        self.N = np.zeros(shape=(num_arms), dtype=int)\n",
        "\n",
        "        # current step\n",
        "        self.t = 0\n",
        "\n",
        "    def get_action(self):\n",
        "        ucb = self.Q + self.c * np.sqrt( np.log(self.t) / (self.N + self.eps) )\n",
        "        return np.argmax(ucb)\n",
        "\n",
        "    def observe(self, action, reward, info):\n",
        "        self.N[action] += 1\n",
        "        self.Q[action] += (reward - self.Q[action]) / self.N[action]\n",
        "        self.t += 1\n",
        "\n",
        "    def reset(self, seed: int):\n",
        "        super().reset(seed)\n",
        "        self.Q = np.zeros(shape=(num_arms), dtype=float)\n",
        "        self.N = np.zeros(shape=(num_arms), dtype=int)\n",
        "\n",
        "\n",
        "    def __repr__(self):\n",
        "        return f\"UCB(c={self.c})\"\n",
        "\n",
        "\n",
        "cheater = CheatyMcCheater(num_arms, 0)\n",
        "reward_averaging = RewardAveraging(num_arms, 0, epsilon=0.1, optimism=0)\n",
        "reward_averaging_optimism = RewardAveraging(num_arms, 0, epsilon=0.1, optimism=5)\n",
        "ucb = UCBActionSelection(num_arms, 0, c=2.0)\n",
        "random = RandomAgent(num_arms, 0)\n",
        "\n",
        "names = []\n",
        "all_rewards = []\n",
        "\n",
        "for agent in [cheater, reward_averaging, reward_averaging_optimism, ucb, random]:\n",
        "    (rewards, num_correct) = run_agent(env, agent, n_runs=N_RUNS, base_seed=1)\n",
        "    names.append(str(agent))\n",
        "    all_rewards.append(rewards)\n",
        "\n",
        "utils.plot_rewards(all_rewards, names, moving_avg_window=15)\n",
        "# utils.plot_rewards(all_rewards, names, moving_avg_window=15, filename=str(section_dir / \"2103.html\"))"
      ]
    },
    {
      "cell_type": "markdown",
      "metadata": {
        "id": "Vr9raTV2ytjA"
      },
      "source": [
        "<details><summary>Solution</summary>\n",
        "\n",
        "```python\n",
        "class UCBActionSelection(Agent):\n",
        "    def __init__(self, num_arms: int, seed: int, c: float, eps: float = 1e-6):\n",
        "        super().__init__(num_arms, seed)\n",
        "        self.c = c\n",
        "        self.eps = eps\n",
        "\n",
        "    def get_action(self):\n",
        "        # This method avoids division by zero errors, and makes sure N=0 entries are chosen by argmax\n",
        "        ucb = self.Q + self.c * np.sqrt(np.log(self.t) / (self.N + self.eps))\n",
        "        return np.argmax(ucb)\n",
        "\n",
        "    def observe(self, action, reward, info):\n",
        "        self.t += 1\n",
        "        self.N[action] += 1\n",
        "        self.Q[action] += (reward - self.Q[action]) / self.N[action]\n",
        "\n",
        "    def reset(self, seed: int):\n",
        "        super().reset(seed)\n",
        "        self.t = 1\n",
        "        self.N = np.zeros(self.num_arms)\n",
        "        self.Q = np.zeros(self.num_arms)\n",
        "\n",
        "    def __repr__(self):\n",
        "        return f\"UCB(c={self.c})\"\n",
        "```\n",
        "</details>"
      ]
    },
    {
      "cell_type": "markdown",
      "metadata": {
        "id": "i83CMkJMytjA"
      },
      "source": [
        "## Bonus\n",
        "\n",
        "Here are a few bonus exercises you can try if you're interested. You could instead progress to the second section, and return to them if you have time.\n",
        "\n",
        "* Implement the gradient bandit algorithm.\n",
        "* Implement an environment and an agent for the contextual bandit problem.\n",
        "* Complete the exercises at the end of Chapter 2 of Sutton and Barto."
      ]
    },
    {
      "cell_type": "markdown",
      "metadata": {
        "id": "SshVVGY8ytjA"
      },
      "source": [
        "# 2️⃣ Tabular RL & Policy Improvement\n",
        "\n",
        "> ##### Learning Objectives\n",
        ">\n",
        "> * Learn how to numerically evaluate a given policy (via an iterative update formula).\n",
        "> *Understand the policy improvement theorem, and understand what circumstances can allow us to directly solve for the optimal policy."
      ]
    },
    {
      "cell_type": "markdown",
      "metadata": {
        "id": "OFnYph4uytjA"
      },
      "source": [
        "## RL, Known Environments\n",
        "\n",
        "We are presented with a environment, and the transition function that indicates how the environment will transition from state to state based on the action chosen. We will see how we can turn the problem of finding the best agent into an optimization problem, which we can then solve iteratively.\n",
        "\n",
        "Here, we assume environments small enough where visiting all pairs of states and actions is tractable. These types of models don't learn any relationships between states that can be treated similarly, but keep track of an estimate\n",
        "of how valuable each state is in a large lookup table."
      ]
    },
    {
      "cell_type": "markdown",
      "metadata": {
        "id": "0o2K_xT1ytjA"
      },
      "source": [
        "## Readings (optional)\n",
        "\n",
        "There are no compulsory readings before the material in this section, although the following sections of [Sutton and Barto](https://www.andrew.cmu.edu/course/10-703/textbook/BartoSutton.pdf) are relevant and so you may want to refer to them if you get stuck / confused with anything:\n",
        "\n",
        "- Chapter 3, Sections 3.1, 3.2, 3.3, 3.4, 3.5, 3.6\n",
        "- Chapter 4, Sections 4.1, 4.2, 4.3, 4.4"
      ]
    },
    {
      "cell_type": "markdown",
      "metadata": {
        "id": "zzfN8m0KytjA"
      },
      "source": [
        "## What is Reinforcement Learning?\n",
        "\n",
        "In reinforcement learning, the agent interacts with an environment in a loop: The agent in state $s$ issues an **action** $a$ to the environment, and the environment replies with **state, reward** pairs $(s',r)$. We will assume the environment is **Markovian**, in that the next state $s'$ and reward $r$ depend solely on the current state $s$ and the action $a$ chosen by the agent (as opposed to environments which may depend on actions taken far in the past.)\n",
        "\n",
        "Note - some of the sections below have a TLDR at the start. This indicates that not the entire section is crucially important to read and understand (e.g. it's a small pedantic note or a mathematical divergence), and you can safely read the TLDR and move onto the next section if you want."
      ]
    },
    {
      "cell_type": "markdown",
      "metadata": {
        "id": "658d9CGQytjB"
      },
      "source": [
        "### Trajectories\n",
        "\n",
        "We define a trajectory in RL as a sequence of states and actions:\n",
        "\n",
        "$$\n",
        "s_0, a_0, r_1, s_1, a_1, r_2, s_2, a_2, r_3, \\ldots\n",
        "$$\n",
        "\n",
        "With this notation, it's the environment action that causes the timestep transition. In other words, given state $s_t$ the agent returns action $a_t$ (in the same time step), but given $(s_t, a_t)$ the environment generates $(s_{t+1}, r_{t+1})$.\n",
        "\n",
        "> *Note - some authors use the convention that the agent's action causes the timestep transition, i.e. the trajectory looks like $s_0, a_0, r_0, s_1, a_1, r_1, \\ldots$. We're following the convention in Sutton & Barto here, but it's important to be aware of this possible notation difference when reading other sources.*\n",
        "\n",
        "The agent chooses actions using a policy $\\pi$, which we can think of as either a deterministic function $a = \\pi(s)$ from states to actions, or more generally a stochastic function from which actions are sampled, $a \\sim \\pi(\\cdot | s)$.\n",
        "\n",
        "Implicitly, we have assumed that the agent need only be Markovian as well (i.e. the action depends on the current state, not past states). Do you think this this a reasonable assumption? You should think about this before reading the dropdown.\n",
        "\n",
        "<details>\n",
        "<summary>Answer / discussion</summary>\n",
        "\n",
        "In most environments, this may well be a reasonable assumption. For example, in a game of tic-tac-toe, knowledge of the current state of the board is sufficient to determine the optimal move, how the board got to that state is irrelevant.\n",
        "\n",
        "There are more complex environments where a Markovian assumption wouldn't work. One classic example is a game of poker, since past player behaviour (betting patterns, bluffing, etc) might change what the optimal strategy is at a given point in time, even if the resulting game state is the same.\n",
        "\n",
        "Of course, a non-Markovian game can be turned Markovian by redefining the state space to include relevant historical information, but this is splitting hairs.\n",
        "\n",
        "</details>\n",
        "\n",
        "\n",
        "The environment samples (state, reward) pairs from a probability distribution conditioned on the current state $s$ and the action $a$ the policy chose in that state, $(s', r) \\sim p(\\cdot | s, a)$. In the case where the environment is also deterministic, we write $(s', r) = p(s, a)$."
      ]
    },
    {
      "cell_type": "markdown",
      "metadata": {
        "id": "fkif3oUDytjB"
      },
      "source": [
        "### Value function\n",
        "\n",
        "The goal of the agent is to choose a policy that maximizes the **expected discounted return**, the sum of rewards it would expect to obtain by following it's currently chosen **policy** $\\pi$. We call the expected discounted return from a state $s$ following policy $\\pi$ the **state value function** $V_{\\pi}(s)$, or simply **value function**, as\n",
        "$$\n",
        "V_{\\pi}(s) = \\mathbb{E}_{\\pi} \\left[ \\sum_{i=t}^\\infty \\gamma^{i-t} r_{i+1} \\Bigg| s_t = s \\right]\n",
        "$$\n",
        "where the expectation is with respect to sampling actions from $\\pi$, and (implicitly) sampling states and rewards from $p$.\n",
        "\n",
        "> *Note - technically $V_\\pi$ is also a function of the choice of environment $p$ and discount factor $\\gamma$. We write $V_\\pi$ rather than $V_{\\pi, p, \\gamma}$ simply because during training we're usually just optimizing for $\\pi$.\n",
        "\n",
        "Here are a few divergences into the exact nature of the reward function. You can just read the TLDRs and move on if you're not super interested in the deeper mathematics.\n",
        "\n",
        "<details>\n",
        "<summary>Divergence #1: why do we discount? <i>TLDR - not discounting leads to possibly weird behaviour with infinite non-converging sums</i></summary>\n",
        "\n",
        "We would like a way to signal to the agent that reward now is better than reward later.\n",
        "If we didn't discount, the sum $\\sum_{i=t}^\\infty r_i$ may diverge.\n",
        "This leads to strange behavior, as we can't meaningfully compare the returns for sequences of rewards that diverge. Trying to sum the sequence $1,1,1,\\ldots$ or $2,2,2,2\\ldots$ or even $2, -1, 2 , -1, \\ldots$ is a problem since they all diverge to positive infinity. An agent with a policy that leads to infinite expected return might become lazy, as waiting around doing nothing for a thousand years, and then actually optimally leads to the same return (infinite) as playing optimal from the first time step.\n",
        "\n",
        "Worse still, we can have reward sequences for which the sum may never approach any finite value, nor diverge to $\\pm \\infty$ (like summing $-1, 1, -1 ,1 , \\ldots$).\n",
        "We could otherwise patch this by requiring that the agent has a finite number of interactions with the environment (this is often true, and is called an **episodic** environment that we will see later) or restrict ourselves to environments for which the expected return for the optimal policy is finite, but these can often be undesirable constraints to place.\n",
        "\n",
        "</details>\n",
        "\n",
        "<details>\n",
        "<summary>Divergence #2: why do we discount geometrically? <i>TLDR - geometric discounting is \"time consistent\", since the nature of the problem looks the same from each timestep.</i></summary>\n",
        "\n",
        "In general, we could consider a more general discount function $\\Gamma : \\mathbb{N} \\to [0,1)$ and define the discounted return as $\\sum_{i=t}^\\infty \\Gamma(i) r_i$. The geometric discount $\\Gamma(i) = \\gamma^i$ is commonly used, but other discounts include the hyperbolic discount $\\Gamma(i) = \\frac{1}{1 + iD}$, where $D>0$ is a hyperparameter. (Humans are [often said](https://chris-said.io/2018/02/04/hyperbolic-discounting/) to act as if they use a hyperbolic discount.) Other than  being mathematically convenient to work with (as the sum of geometric discounts has an elegant closed form expression $\\sum_{i=0}^\\infty \\gamma^i  = \\frac{1}{1-\\gamma}$), geometric is preferred as it is *time consistent*, that is, the discount from one time step to the next remains constant.\n",
        "Rewards at timestep $t+1$ are always worth a factor of $\\gamma$ less than rewards on timestep $t$\n",
        "\n",
        "$$\n",
        "\\frac{\\Gamma(t+1)}{\\Gamma(t)} = \\frac{\\gamma^{t+1}}{\\gamma^t} = \\gamma\n",
        "$$\n",
        "\n",
        "whereas for the hyperbolic reward, the amount discounted from one step to the next\n",
        "is a function of the timestep itself, and decays to 1 (no discount)\n",
        "\n",
        "$$\n",
        "\\frac{\\Gamma(t+1)}{\\Gamma(t)} =  \\frac{1+tD}{1+(t+1)D} \\to 1\n",
        "$$\n",
        "\n",
        "so very little discounting is done once rewards are far away enough in the future.\n",
        "\n",
        "Hence, using geometric discount lends a certain symmetry to the problem. If after $N$ actions the agent ends up in exactly the same state as it was in before, then there will be less total value remaining (because of the decay rate), but the optimal policy won't change (because the rewards the agent gets if it takes a series of actions will just be a scaled-down version of the rewards it would have gotten for those actions $N$ steps ago).\n",
        "\n",
        "</details>"
      ]
    },
    {
      "cell_type": "markdown",
      "metadata": {
        "id": "BZ4VuwLwytjB"
      },
      "source": [
        "### Bellman equation\n",
        "\n",
        "> Note we can write the value function in the following recursive manner:\n",
        ">\n",
        "> $$\n",
        "> V_\\pi(s) = \\sum_a \\pi(a | s) \\sum_{s', r} p(s',r \\mid s, a) \\left( r + \\gamma V_\\pi(s') \\right)\n",
        "> $$\n",
        ">\n",
        "> (Optional) Try to prove this for yourself!\n",
        ">\n",
        "> <details>\n",
        "> <summary>Hint</summary>\n",
        ">\n",
        "> Start by writing the expectation as a sum over all possible actions $a$ that can be taken from state $s$. Then, try to separate $r_{t+1}$ and the later reward terms inside the sum.\n",
        "> </details>\n",
        ">\n",
        "> <details>\n",
        "> <summary>Answer</summary>\n",
        ">\n",
        "> First, we write it out as a sum over possible next actions, using the **policy function** $\\pi$:\n",
        "> $$\n",
        "> \\begin{aligned}\n",
        "> V_\\pi(s) &=\\mathbb{E}_\\pi\\left[\\sum_{i=t}^{\\infty} \\gamma^{i-t} r_{i+1} \\mid s_t=s\\right] \\\\\n",
        "> &=\\sum_a \\pi(a \\mid s) \\mathbb{E}_\\pi\\left[\\sum_{i=t}^{\\infty} \\gamma^{i-t} r_{i+1} \\mid s_t=s, a_t=a\\right]\n",
        "> \\end{aligned}\n",
        "> $$\n",
        "> In other words, this is an average of the possible expected reward streams after a particular action, weighted by the probability that this action is chosen.\n",
        ">\n",
        "> We can then separate out the term for the rewward at step $t+1$:\n",
        "> $$\n",
        "> =\\sum_a \\pi(a \\mid s) \\mathbb{E}_\\pi\\left[r_{t+1}+\\sum_{i=t+1}^{\\infty} \\gamma^{i-t} r_{i+1} \\mid s_t=s, a_t=a\\right]\n",
        "> $$\n",
        "> And then we expand the sum over all possible state-reward pairs $(s', r)$ which we might evolve to, following state-action pair $(s, a)$:\n",
        "> $$\n",
        "> \\begin{aligned}\n",
        "> &=\\sum_{a, s^{\\prime}, r} \\pi(a \\mid s) p\\left(s^{\\prime}, r \\mid s, a\\right)\\left(r+\\gamma \\cdot \\mathbb> {E}_\\pi\\left[\\sum_{i=t+1}^{\\infty} \\gamma^{i-(t+1)} r_{i+1} \\mid s_{t+1}=s^{\\prime}\\right]\\right) \\\\\n",
        "> \\end{aligned}\n",
        "> $$\n",
        "> Finally, we can notice that the sum term looks a lot like our original expression for $V_{\\pi}(s)$, just starting from $s'$ rather than $s$. So we can write this as:\n",
        "> $$\n",
        "> \\begin{aligned}\n",
        "> &=\\sum_{a, s, r} \\pi(a \\mid s) p\\left(s^{\\prime}, r \\mid s, a\\right)\\left(r+\\gamma V_\\pi\\left(s^{\\prime}\\right)\\right) \\\\\n",
        "> \\end{aligned}\n",
        "> $$\n",
        "> And finally, we rearrange the sum terms:\n",
        "> $$\n",
        "> \\begin{aligned}\n",
        "> &=\\sum_a \\pi(a \\mid s) \\sum_{s^{\\prime}, r} p\\left(s^{\\prime}, r \\mid s, a\\right)\\left(r+\\gamma V_\\pi\\left(s^{\\prime}\\right)\\right)\n",
        "> \\end{aligned}\n",
        "> $$\n",
        "> as required.\n",
        ">\n",
        "> How should we interpret this? This formula tells us that the total value from present time can be written as sum of next-timestep rewards and value terms discounted by a factor of $\\gamma$. Recall earlier in our discussion of **geometric** vs **hyperbolic** discounting, we argued that geometric discounting has a symmetry through time, because of the constant discount factor. This is exactly what this formula shows, just on the scale of a single step.\n",
        ">\n",
        "> </details>\n",
        "\n",
        "This recursive formulation of the value function is called the **Bellman equation**, and can be thought of as <i>\"(value of following policy $\\pi$ at current state) = (value of next reward, which is determined from following $\\pi$) + (discounted value at next state if we continue following $\\pi$)\"</i>.\n",
        "\n",
        "We can also define the **action-value function**, or **Q-value** of state $s$ and action $a$ following policy $\\pi$:\n",
        "\n",
        "$$\n",
        "Q_\\pi(s,a) = \\mathbb{E}\\left[ \\sum_{i=t}^\\infty \\gamma^{i-t}r_{i+1} \\Bigg| s_t=s, a_t=a   \\right]\n",
        "$$\n",
        "\n",
        "which can be written recursively much like the value function can:\n",
        "\n",
        "$$\n",
        "Q_\\pi(s,a) = \\sum_{s',r} p(s',r \\mid s,a) \\left( r + \\gamma \\sum_{a'} \\pi(a' \\mid s') Q_\\pi(s', a') \\right)\n",
        "$$\n",
        "\n",
        "This equation can be thought of as <i>\"(value of choosing particular action $a$ at current state, then following $\\pi$) = (value of next reward, which is determined from action $a$) + (discounted value at next state if we continue following $\\pi$)\"</i>. In other words it's conceptually the same equation as before but rewritten in terms of $Q$, conditionining on what the next action is before we go back to following $\\pi$.\n",
        "\n",
        "<details>\n",
        "<summary>Question - what do you think is the formula relating V and Q to each other?</summary>\n",
        "\n",
        "$V_\\pi(s)$ is the value at a given state according to policy $\\pi$, but this must be the average of all the values of taking action $a$ at this state, weighted by the probability that they're taken (under $\\pi$). So we have:\n",
        "\n",
        "$$\n",
        "V_\\pi(s) = \\sum_a \\pi(a \\mid s) Q_\\pi(s, a)\n",
        "$$\n",
        "\n",
        "Note, this also gives a slightly different form of the Q-value Bellman equation, which will be useful for policy iteration later on:\n",
        "\n",
        "$$\n",
        "Q_\\pi(s,a) = \\sum_{s',r} p(s',r \\mid s,a) \\left( r + \\gamma V_\\pi(s')\\right)\n",
        "$$\n",
        "\n",
        "</details>"
      ]
    },
    {
      "cell_type": "markdown",
      "metadata": {
        "id": "FVC9D1dUytjB"
      },
      "source": [
        "### Optimal policies\n",
        "\n",
        "We say that two policies $\\pi_1$ and $\\pi_2$ are **equivalent** if $\\forall s \\in S. V_{\\pi_1}(s) = V_{\\pi_2}(s)$. A policy $\\pi_1$ is **better** than $\\pi_2$ (denoted $\\pi_1 \\geq \\pi_2$) if\n",
        "$\\forall s \\in S. V_{\\pi_1}(s) \\geq V_{\\pi_2}(s)$.\n",
        "\n",
        "An **optimal** policy (denoted $\\pi^*$) is a policy that is better than all other policies. There may be more than one optimal policy, so we refer to any of them as $\\pi^*$, with the understanding that since all optimal policies have the same value $V_{\\pi^*}$ for all states, it doesn't actually matter which is chosen.\n",
        "\n",
        "It is possible to prove that, for any environment, an optimal policy exists, but we won't go into detail on this proof today."
      ]
    },
    {
      "cell_type": "markdown",
      "metadata": {
        "id": "Cuai4747ytjB"
      },
      "source": [
        "### Exercise - reason about toy environment\n",
        "\n",
        "> ```yaml\n",
        "> Difficulty: 🔴🔴🔴⚪⚪\n",
        "> Importance: 🔵🔵🔵⚪⚪\n",
        ">\n",
        "> You should spend up to 15-25 minutes on this exercise.\n",
        "> This will help build your intuition for these formulas and expressions.\n",
        "> ```\n",
        "\n",
        "Consider the following environment: There are two actions $A = \\{a_L, a_R\\}$, three states $S = \\{s_0, s_L, s_R\\}$ and three rewards $R = \\{0,1,2\\}$. The environment is deterministic, and can be represented by the following transition diagram:\n",
        "\n",
        "<img src=\"https://raw.githubusercontent.com/info-arena/ARENA_img/main/misc/markov-diagram.png\" width=\"400\">\n",
        "\n",
        "The edges represent the state transitions given an action, as well as the reward received. For example, in state $s_0$, taking action $a_L$ means the new state is $s_L$, and the reward received is $+1$. The transitions for $s_L$ and $s_R$ always happen, independently of action taken. This gives us effectively two choices of deterministic policies, $\\pi_L(s_0) = s_L$ and $\\pi_R(s_0) = s_R$. (It is irrelevant what those policies do in the other states.)\n",
        "\n",
        "Your task here is to compute the value $V_{\\pi}(s_0)$ for $\\pi = \\pi_L$ and $\\pi = \\pi_R$. Which policy is better? Does the answer depend on the choice of discount factor $\\gamma$? If so, how?\n",
        "\n",
        "<details>\n",
        "<summary>Answer</summary>\n",
        "\n",
        "Following the first policy, this gives\n",
        "$$\n",
        "V_{\\pi_L}(s_0) = 1 + \\gamma V_{\\pi_L}(s_L) = 1 + \\gamma(0 + \\gamma V_{\\pi_L}(s_0)) = 1 +\\gamma^2 V_{\\pi_L}(s_0)\n",
        "$$\n",
        "Rearranging, this gives\n",
        "$$\n",
        "V_{\\pi_L}(s_0) = \\frac{1}{1-\\gamma^2}\n",
        "$$\n",
        "Following the second policy, this gives\n",
        "$$\n",
        "V_{\\pi_R}(s_0) = 0 + \\gamma V_{\\pi_R}(s_R) = \\gamma(2 + \\gamma V_{\\pi_R}(s_0)) = 2 \\gamma + \\gamma^2 V_{\\pi_R}(s_0)\n",
        "$$\n",
        "Rearranging, this gives\n",
        "$$\n",
        "V_{\\pi_R}(s_0) = \\frac{2\\gamma}{1-\\gamma^2}\n",
        "$$\n",
        "Therefore,\n",
        "$$\n",
        "\\pi^* = \\begin{cases}\n",
        "\\pi_L & \\gamma < 1/2 \\\\\n",
        "\\pi_L \\text{ or } \\pi_R & \\gamma = 1/2 \\\\\n",
        "\\pi_R & \\gamma > 1/2\n",
        "\\end{cases}\n",
        "$$\n",
        "which makes sense, an agent that discounts heavily ($\\gamma < 1/2$) is shortsighted,\n",
        "and will choose the reward 1 now, over the reward 2 later.\n",
        "</details>"
      ]
    },
    {
      "cell_type": "markdown",
      "metadata": {
        "id": "iwb0Bw7cytjB"
      },
      "source": [
        "## Tabular RL, Known Environments\n",
        "\n",
        "For the moment, we focus on environments for which the agent has access to $p$, the function describing the underlying dynamics of the environment, which will allow us to solve the Bellman equation explicitly. While unrealistic, it means we can explicitly solve the Bellman equation. Later on we will remove this assumption and treat the environment as a black box from which the agent can sample from.\n",
        "\n",
        "We will simplify things a bit further, and assume that the environment samples states from a probability distribution $T(\\cdot | s, a)$ conditioned on the current state $s$ and the action $a$ the policy $\\pi$ chose in that state.\n",
        "\n",
        "Normally, the reward is also considered to be a stochastic function of both state and action $r \\sim  R(\\cdot \\mid s,a)$, but we will assume the reward is a deterministic function $R(s,a,s')$ of the current state, action and next state, and offload the randomness in the rewards to the next state $s'$ sampled from $T$.\n",
        "\n",
        "This (together with assuming $\\pi$ is deterministic) gives a simpler recursive form of the value function\n",
        "\n",
        "$$\n",
        "V_\\pi(s) = \\sum_{s'} T(s' \\mid s, a) \\Big( R(s,a,s') + \\gamma V_\\pi (s') \\Big)\n",
        "\\text{ where } a = \\pi(s)\n",
        "$$\n",
        "\n",
        "and in $Q$-value form:\n",
        "\n",
        "$$\n",
        "\\begin{aligned}\n",
        "Q_\\pi(s,a) &= \\sum_{s'} T(s' \\mid s,a) \\left( R(s, a, s') + \\gamma \\sum_{a'} \\pi(a' \\mid s') Q_\\pi (s', a') \\right) \\\\ &= \\sum_{s'} T(s' \\mid s,a) \\left( R(s, a, s') + \\gamma V_\\pi(s') \\right)\n",
        "\\end{aligned}\n",
        "$$\n",
        "\n",
        "Below, we've provided a simple environment for a gridworld taken from [Russell and Norvig](http://aima.cs.berkeley.edu/). The agent can choose one of four actions: `up` (0), `right` (1), `down` (2) and `left` (3), encoded as numbers. The observation is just the state that the agent is in (encoded as a number from 0 to 11).\n",
        "\n",
        "<img src=\"https://raw.githubusercontent.com/info-arena/ARENA_img/main/misc/gridworld.png\" width=\"300\">\n",
        "\n",
        "The result of choosing an action from an empty cell will move the agent in that direction, unless they would bump into a wall or walk outside the grid, in which case the next state is unchanged. Both the terminal states \"trap\" the agent, and any movement from one of the terminal states leaves the agent in the same state, and no reward is received. The agent receives a small penalty for each move $r = -0.04$ to encourage them to move to a terminal state quickly, unless the agent is moving into a terminal state, in which case they recieve reward either $+1$ or $-1$ as appropriate.\n",
        "\n",
        "Lastly, the environment is slippery, and the agent only has a 70\\% chance of moving in the direction chosen, with a 10% chance each of attempting to move in the other three cardinal directions.\n",
        "\n",
        "<details>\n",
        "<summary>There are two possible routes to +1, starting from the cell immediately to the <b>right of START</b>. Which one do you think the agent will prefer? How do you think changing the penalty value r=-0.04 to something else might affect this?\n",
        "</summary>\n",
        "\n",
        "The two routes are moving clockwise and anticlockwise around the center obstacle. The clockwise route requires more steps, which (assuming $r<0$) will be penalised more, but the anticlockwise route has a different disadvantage. The agent has a 70% probability of slipping, and the anticlockwise route brings them into closer proximity with the $-1$ terminal state.\n",
        "\n",
        "We can guess that there is a certain threshold value $r^* < 0$ such that the optimal policy is clockwise when $r<r^*$ (because movement penalty is large, making the anticlockwise route less attractive), and anticlockwise when $r>r^*$.\n",
        "\n",
        "You can test this out (and find the approximate value of $r^*$) when you run your RL agent!\n",
        "</details>\n",
        "\n",
        "Provided is a class that allows us to define environments with known dynamics. The only parts you should be concerned\n",
        "with are\n",
        "\n",
        "* `.num_states`, which gives the number of states,\n",
        "* `.num_actions`, which gives the number of actions\n",
        "* `.T`, a 3-tensor of shape  `(num_states, num_actions, num_states)` representing the probability $T(s_{next} \\mid s, a)$ = `T[s,a,s_next]`\n",
        "* `.R`, the reward function, encoded as a vector of shape `(num_states, num_actions, num_states)` that returns the reward $R(s,a,s_{next})$ = `R[s,a,s_next]` associated with entering state $s_{next}$ from state $s$ by taking action $a$.\n",
        "\n",
        "This environment also provides two additional parameters which we will not use now, but need for part 3 where the environment is treated as a black box, and agents learn from interaction.\n",
        "* `.start`, the state with which interaction with the environment begins. By default, assumed to be state zero.\n",
        "* `.terminal`, a list of all the terminal states (with which interaction with the environment ends). By default, terminal states are empty."
      ]
    },
    {
      "cell_type": "code",
      "execution_count": null,
      "metadata": {
        "id": "sTFUkdqMytjB"
      },
      "outputs": [],
      "source": [
        "class Environment:\n",
        "    def __init__(self, num_states: int, num_actions: int, start=0, terminal=None):\n",
        "        self.num_states = num_states\n",
        "        self.num_actions = num_actions\n",
        "        self.start = start\n",
        "        self.terminal = np.array([], dtype=int) if terminal is None else terminal\n",
        "        (self.T, self.R) = self.build()\n",
        "\n",
        "    def build(self):\n",
        "        \"\"\"\n",
        "        Constructs the T and R tensors from the dynamics of the environment.\n",
        "\n",
        "        Returns:\n",
        "            T : (num_states, num_actions, num_states) State transition probabilities\n",
        "            R : (num_states, num_actions, num_states) Reward function\n",
        "        \"\"\"\n",
        "        num_states = self.num_states\n",
        "        num_actions = self.num_actions\n",
        "        T = np.zeros((num_states, num_actions, num_states))\n",
        "        R = np.zeros((num_states, num_actions, num_states))\n",
        "        for s in range(num_states):\n",
        "            for a in range(num_actions):\n",
        "                (states, rewards, probs) = self.dynamics(s, a)\n",
        "                (all_s, all_r, all_p) = self.out_pad(states, rewards, probs)\n",
        "                T[s, a, all_s] = all_p\n",
        "                R[s, a, all_s] = all_r\n",
        "        return (T, R)\n",
        "\n",
        "    def dynamics(self, state: int, action: int) -> tuple[Arr, Arr, Arr]:\n",
        "        \"\"\"\n",
        "        Computes the distribution over possible outcomes for a given state\n",
        "        and action.\n",
        "\n",
        "        Args:\n",
        "            state  : int (index of state)\n",
        "            action : int (index of action)\n",
        "\n",
        "        Returns:\n",
        "            states  : (m,) all the possible next states\n",
        "            rewards : (m,) rewards for each next state transition\n",
        "            probs   : (m,) likelihood of each state-reward pair\n",
        "        \"\"\"\n",
        "        raise NotImplementedError()\n",
        "\n",
        "    def render(pi: Arr):\n",
        "        \"\"\"\n",
        "        Takes a policy pi, and draws an image of the behavior of that policy, if applicable.\n",
        "\n",
        "        Args:\n",
        "            pi : (num_actions,) a policy\n",
        "\n",
        "        Returns:\n",
        "            None\n",
        "        \"\"\"\n",
        "        raise NotImplementedError()\n",
        "\n",
        "    def out_pad(self, states: Arr, rewards: Arr, probs: Arr):\n",
        "        \"\"\"\n",
        "        Args:\n",
        "            states  : (m,) all the possible next states\n",
        "            rewards : (m,) rewards for each next state transition\n",
        "            probs   : (m,) likelihood of each state-reward pair\n",
        "\n",
        "        Returns:\n",
        "            states  : (num_states,) all the next states\n",
        "            rewards : (num_states,) rewards for each next state transition\n",
        "            probs   : (num_states,) likelihood of each state-reward pair (including zero-prob outcomes.)\n",
        "        \"\"\"\n",
        "        out_s = np.arange(self.num_states)\n",
        "        out_r = np.zeros(self.num_states)\n",
        "        out_p = np.zeros(self.num_states)\n",
        "        for i in range(len(states)):\n",
        "            idx = states[i]\n",
        "            out_r[idx] += rewards[i]\n",
        "            out_p[idx] += probs[i]\n",
        "        return out_s, out_r, out_p"
      ]
    },
    {
      "cell_type": "markdown",
      "metadata": {
        "id": "Mc9zSDYVytjB"
      },
      "source": [
        "For example, here is the toy environment from the theory exercises earlier (the **3-state environment**) implemented in this format.\n",
        "\n",
        "*Note - don't spend too much time reading this code and the plots generated below; this is just designed to illustrate how we can implement a particular environment on top of our class above by defining certain environment dynamics. The environment you'll actually be working with is the gridworld environment described above.*\n",
        "\n",
        "<img src=\"https://raw.githubusercontent.com/info-arena/ARENA_img/main/misc/markov-diagram.png\" width=\"400\">"
      ]
    },
    {
      "cell_type": "code",
      "execution_count": null,
      "metadata": {
        "id": "dLDoWxNPytjB"
      },
      "outputs": [],
      "source": [
        "class Toy(Environment):\n",
        "    def dynamics(self, state: int, action: int):\n",
        "        \"\"\"\n",
        "        Sets up dynamics for the toy environment:\n",
        "            - In state s_L, we move to s_0 & get +0 reward regardless of action\n",
        "            - In state s_R, we move to s_0 & get +2 reward regardless of action\n",
        "            - In state s_0,\n",
        "                - action LEFT=0 leads to s_L & get +1,\n",
        "                - action RIGHT=1 leads to s_R & get +0\n",
        "        \"\"\"\n",
        "        (SL, S0, SR) = (0, 1, 2)\n",
        "        LEFT = 0\n",
        "\n",
        "        assert 0 <= state < self.num_states and 0 <= action < self.num_actions\n",
        "\n",
        "        if state == S0:\n",
        "            (next_state, reward) = (SL, 1) if action == LEFT else (SR, 0)\n",
        "        elif state == SL:\n",
        "            (next_state, reward) = (S0, 0)\n",
        "        elif state == SR:\n",
        "            (next_state, reward) = (S0, 2)\n",
        "        else:\n",
        "            raise ValueError(f\"Invalid state: {state}\")\n",
        "\n",
        "        return (np.array([next_state]), np.array([reward]), np.array([1]))\n",
        "\n",
        "    def __init__(self):\n",
        "        super().__init__(num_states=3, num_actions=2)"
      ]
    },
    {
      "cell_type": "markdown",
      "metadata": {
        "id": "_5P2A6k6ytjC"
      },
      "source": [
        "Given a definition for the `dynamics` function, the `Environment` class automatically generates `T` and `R` for us. We can plot these below:\n",
        "\n",
        "- The first plot shows **transition probabilities** $T(s_{next} \\mid s, a)$. It has only probabilities of 1 and 0 because transitions are deterministic ($s_{next}$ is a function of $s$ and $a$). At $s_L$ or $s_R$ you'll move back to the center $s_0$ regardless of what action you take, but at $s_0$ you can move either left or right and it will have different outcomes.\n",
        "- The second plot shows **rewards** $R(s, a, s_{next})$. The rewards are $1$ for $s_0 \\to s_L$, and $2$ for $s_R \\to s_0$, and zero reward for all other possible transitions.\n",
        "\n",
        "Note that the environment being deterministic means the reward is uniquely determined by $s$ and $a$ (because $s_{next}$ is a function of $s$ and $a$). This won't always be the case in RL, as we move to more complex environments (where e.g. a move has a certain chance of causing you to slip and move in a different direction)."
      ]
    },
    {
      "cell_type": "code",
      "execution_count": null,
      "metadata": {
        "id": "sQ6H7EwRytjC"
      },
      "outputs": [],
      "source": [
        "toy = Toy()\n",
        "\n",
        "actions = [\"a_L\", \"a_R\"]\n",
        "states = [\"s_L\", \"s_0\", \"s_R\"]\n",
        "\n",
        "imshow(\n",
        "    toy.T,  # dimensions (s, a, s_next)\n",
        "    title=\"Transition probabilities T(s_next | s, a) for toy environment\",\n",
        "    facet_col=0,\n",
        "    facet_labels=[f\"Current state is s = {s}\" for s in states],\n",
        "    y=actions,\n",
        "    x=states,\n",
        "    labels={\"x\": \"Next state, s_next\", \"y\": \"Action taken, a\", \"color\": \"Transition<br>Probability\"},\n",
        "    text_auto=\".0f\",\n",
        "    border=True,\n",
        "    width=850,\n",
        "    height=350,\n",
        ")\n",
        "\n",
        "imshow(\n",
        "    toy.R,  # dimensions (s, a, s_next)\n",
        "    title=\"Rewards R(s, a, s_next) for toy environment\",\n",
        "    facet_col=0,\n",
        "    facet_labels=[f\"Current state is s = {s}\" for s in states],\n",
        "    y=actions,\n",
        "    x=states,\n",
        "    labels={\"x\": \"Next state, s_next\", \"y\": \"Action taken, a\", \"color\": \"Reward\"},\n",
        "    text_auto=\".0f\",\n",
        "    border=True,\n",
        "    width=850,\n",
        "    height=350,\n",
        ")"
      ]
    },
    {
      "cell_type": "markdown",
      "metadata": {
        "id": "OWTqoRz1ytjC"
      },
      "source": [
        "We also provide an implementation of the gridworld environment above.\n",
        "\n",
        "The `dynamics` function sets up the dynamics of the Gridworld environment: if the agent takes an action, there is a 70% chance the action is successful, and 10% chance the agent moves in one of the other 3 directions randomly. The rest of the code here deals with edge cases like hitting a wall or being in a terminal state. It's not important to fully read through & understand how this method works.\n",
        "\n",
        "We include a definition of `render`, which given a policy, prints out a grid showing the direction the policy will try to move in from each cell."
      ]
    },
    {
      "cell_type": "code",
      "execution_count": null,
      "metadata": {
        "id": "5g8IGUUQytjC"
      },
      "outputs": [],
      "source": [
        "class Norvig(Environment):\n",
        "    def dynamics(self, state: int, action: int) -> tuple[Arr, Arr, Arr]:\n",
        "        def state_index(state):\n",
        "            assert 0 <= state[0] < self.width and 0 <= state[1] < self.height, print(state)\n",
        "            pos = state[0] + state[1] * self.width\n",
        "            assert 0 <= pos < self.num_states, print(state, pos)\n",
        "            return pos\n",
        "\n",
        "        pos = self.states[state]\n",
        "        if state in self.terminal or state in self.walls:\n",
        "            return (np.array([state]), np.array([0]), np.array([1]))\n",
        "        out_probs = np.zeros(self.num_actions) + 0.1\n",
        "        out_probs[action] = 0.7\n",
        "        out_states = np.zeros(self.num_actions, dtype=int) + self.num_actions\n",
        "        out_rewards = np.zeros(self.num_actions) + self.penalty\n",
        "        new_states = [pos + x for x in self.actions]\n",
        "        for i, s_new in enumerate(new_states):\n",
        "            if not (0 <= s_new[0] < self.width and 0 <= s_new[1] < self.height):\n",
        "                out_states[i] = state\n",
        "                continue\n",
        "            new_state = state_index(s_new)\n",
        "            if new_state in self.walls:\n",
        "                out_states[i] = state\n",
        "            else:\n",
        "                out_states[i] = new_state\n",
        "            for idx in range(len(self.terminal)):\n",
        "                if new_state == self.terminal[idx]:\n",
        "                    out_rewards[i] = self.goal_rewards[idx]\n",
        "        return (out_states, out_rewards, out_probs)\n",
        "\n",
        "    def render(self, pi: Arr):\n",
        "        assert len(pi) == self.num_states\n",
        "        emoji = [\"⬆️\", \"➡️\", \"⬇️\", \"⬅️\"]\n",
        "        grid = [emoji[act] for act in pi]\n",
        "        grid[3] = \"🟩\"\n",
        "        grid[7] = \"🟥\"\n",
        "        grid[5] = \"⬛\"\n",
        "        print(\"\".join(grid[0:4]) + \"\\n\" + \"\".join(grid[4:8]) + \"\\n\" + \"\".join(grid[8:]))\n",
        "\n",
        "    def __init__(self, penalty=-0.04):\n",
        "        self.height = 3\n",
        "        self.width = 4\n",
        "        self.penalty = penalty\n",
        "        num_states = self.height * self.width\n",
        "        num_actions = 4\n",
        "        self.states = np.array([[x, y] for y in range(self.height) for x in range(self.width)])\n",
        "        self.actions = np.array([[0, -1], [1, 0], [0, 1], [-1, 0]])\n",
        "        self.dim = (self.height, self.width)\n",
        "        terminal = np.array([3, 7], dtype=int)\n",
        "        self.walls = np.array([5], dtype=int)\n",
        "        self.goal_rewards = np.array([1.0, -1])\n",
        "        super().__init__(num_states, num_actions, start=8, terminal=terminal)\n",
        "\n",
        "\n",
        "# Example use of `render`: print out a random policy\n",
        "norvig = Norvig()\n",
        "pi_random = np.random.randint(0, 4, (12,))\n",
        "norvig.render(pi_random)"
      ]
    },
    {
      "cell_type": "markdown",
      "metadata": {
        "id": "lUoay-luytjC"
      },
      "source": [
        "## Policy Evaluation\n",
        "\n",
        "At the moment, we would like to determine the value function $V_\\pi$ of some policy $\\pi$. **We will assume policies are deterministic**, and encode policies as a lookup table from states to actions (so $\\pi$ will be a vector of length `num_states`, and $\\pi(i)$ is the action we take at state $i$).\n",
        "\n",
        "Firstly, we will use the Bellman equation as an update rule: Given a current estimate $\\hat{V}_\\pi$ of the value function $V_{\\pi}$, we can obtain a better estimate by using the Bellman equation, sweeping over all states.\n",
        "$$\n",
        "\\forall s. \\hat{V}_\\pi(s) \\leftarrow \\sum_{s'} T(s' \\,|\\, s, a) \\left( R(s,a,s') + \\gamma \\hat{V}_\\pi(s') \\right) \\;\\text{ where } a = \\pi(s)\n",
        "$$\n",
        "Recall that the true value function $V_\\pi$ satisfies this as an equality, i.e. it is a fixed point of the iteration. So we can start with $\\hat{V}_\\pi(s) = 0$ for all $s$ as our initial guess, and continue applying this update rule until the result stabilizes: $\\max_s |\\hat{V}^{new}(s) - \\hat{V}^{old}(s)| < \\epsilon$ for some small $\\epsilon > 0$."
      ]
    },
    {
      "cell_type": "markdown",
      "metadata": {
        "id": "qV5NotmTytjC"
      },
      "source": [
        "### Exercise - implement `policy_eval_numerical`\n",
        "\n",
        "> ```yaml\n",
        "> Difficulty: 🔴🔴🔴⚪⚪\n",
        "> Importance: 🔵🔵🔵⚪⚪\n",
        ">\n",
        "> You should spend up to 15-30 minutes on this exercise.\n",
        "> ```\n",
        "\n",
        "The `policy_eval_numerical` function takes in a deterministic policy $\\pi$ and transition & reward matrices $T$ and $R$, and computes the value function $V_\\pi$ using the Bellman equation as an update rule. It keeps iterating until it reaches `max_iterations`, or the max change in value function is less than `eps` - which ever comes first.\n",
        "\n",
        "Recall - we store our transition and reward matrices as `env.T` and `env.R`, where we define `env.T[s, a, s']` $= T(s' \\,|\\, s, a)$ and `env.R[s, a, s']` $= R(s, a, s')$."
      ]
    },
    {
      "cell_type": "code",
      "execution_count": null,
      "metadata": {
        "id": "GUP-zFwTytjC"
      },
      "outputs": [],
      "source": [
        "def policy_eval_numerical(env: Environment, pi: Arr, gamma=0.99, eps=1e-8, max_iterations=10_000) -> Arr:\n",
        "    \"\"\"\n",
        "    Numerically evaluates the value of a given policy by iterating the Bellman equation\n",
        "    Args:\n",
        "        env: Environment\n",
        "        pi : shape (num_states,) - The policy to evaluate\n",
        "        gamma: float - Discount factor\n",
        "        eps  : float - Tolerance\n",
        "        max_iterations: int - Maximum number of iterations to run\n",
        "    Outputs:\n",
        "        value : float (num_states,) - The value function for policy pi\n",
        "    \"\"\"\n",
        "    num_states = env.num_states\n",
        "\n",
        "    raise NotImplementedError()\n",
        "\n",
        "\n",
        "tests.test_policy_eval(policy_eval_numerical, exact=False)"
      ]
    },
    {
      "cell_type": "markdown",
      "metadata": {
        "id": "i_YB6oqtytjC"
      },
      "source": [
        "<details>\n",
        "<summary>Help - I'm stuck on the iterative formula</summary>\n",
        "\n",
        "You can start by indexing `env.T[range(num_states), pi, :]`, which effectively gives you the **transition matrix** with shape `(num_states, num_states)` with values $T(s' \\,|\\, s, \\pi(s))$ for all $s, s'$ (since the action $\\pi(s)$ is a deterministic function of the starting state $s$). You can do exactly the same for `env.R` to get the **reward matrix**.\n",
        "\n",
        "Next, you can apply the update formula by multiplying these tensors and summing over $s'$. Be careful of tensor shapes and broadcasting!\n",
        "\n",
        "</details>\n",
        "\n",
        "\n",
        "<details><summary>Solution</summary>\n",
        "\n",
        "```python\n",
        "def policy_eval_numerical(env: Environment, pi: Arr, gamma=0.99, eps=1e-8, max_iterations=10_000) -> Arr:\n",
        "    \"\"\"\n",
        "    Numerically evaluates the value of a given policy by iterating the Bellman equation\n",
        "    Args:\n",
        "        env: Environment\n",
        "        pi : shape (num_states,) - The policy to evaluate\n",
        "        gamma: float - Discount factor\n",
        "        eps  : float - Tolerance\n",
        "        max_iterations: int - Maximum number of iterations to run\n",
        "    Outputs:\n",
        "        value : float (num_states,) - The value function for policy pi\n",
        "    \"\"\"\n",
        "    num_states = env.num_states\n",
        "\n",
        "    value = np.zeros((num_states,))\n",
        "    transition_matrix = env.T[range(num_states), pi, :]  # shape [s, s_next]\n",
        "    reward_matrix = env.R[range(num_states), pi, :]  # shape [s, s_next]\n",
        "\n",
        "    for i in range(max_iterations):\n",
        "        new_value = einops.reduce(transition_matrix * (reward_matrix + gamma * value), \"s s_next -> s\", \"sum\")\n",
        "\n",
        "        delta = np.abs(new_value - value).max()\n",
        "        if delta < eps:\n",
        "            break\n",
        "        value = np.copy(new_value)\n",
        "    else:\n",
        "        print(f\"Failed to converge after {max_iterations} steps.\")\n",
        "\n",
        "    return value\n",
        "```\n",
        "</details>"
      ]
    },
    {
      "cell_type": "markdown",
      "metadata": {
        "id": "UaM9vmU6ytjC"
      },
      "source": [
        "## Exact Policy Evaluation\n",
        "\n",
        "Essentially what we are doing in the previous step is numerically solving the Bellman equation. However, we can actually solve it directly in this case, since it's effectively just a set of linear equations! In future cases we won't be able to because we don't know all the transition probabilities & rewards (our agent will only have **partial observability** of its environment), but we can solve directly here.\n",
        "\n",
        "To do this, let's define the **transition matrix** $P^\\pi$ and **reward matrix** $R^\\pi$ just like we did in the solution to the previous exercise:\n",
        "$$\n",
        "P^\\pi_{i,j} = T(j \\,|\\, \\pi(i), i) \\quad R^\\pi_{i,j} = R(i, \\pi(i), j)\n",
        "$$\n",
        "The former represents the transition probabilities from one state to the next, and the latter is the reward when we perform this transition. Let $\\mathbf{v}^\\pi$ be the value function for policy $\\pi$, then we can write our Bellman equation as:\n",
        "$$\n",
        "v_s^\\pi = \\sum_{s'} P^\\pi_{s, s'} (R^\\pi_{s, s'} + \\gamma v_{s'}^\\pi)\n",
        "$$\n",
        "Let's define $\\mathbf{r}^\\pi$ as $r_s^\\pi = \\sum_{s'} P^\\pi_{s, s'} R^\\pi_{s, s'}$ - this is a weighted average of our next-state rewards according to their transition probabilities, in other words its the expected next-state reward for all possible starting states. We can then rewrite equation in matrix form as:\n",
        "$$\n",
        "\\mathbf{v}^\\pi = \\mathbf{r}^\\pi + \\gamma P^\\pi \\mathbf{v}^\\pi\n",
        "$$\n",
        "and rearrange to solve for $\\mathbf{v}^\\pi$ directly:\n",
        "$$\n",
        "\\mathbf{v}^\\pi = (I - \\gamma P^\\pi)^{-1} \\mathbf{r}^\\pi\n",
        "$$\n",
        "For linear algebra based reasons we won't get into here, this inverse is guaranteed to exist whenever $\\gamma < 1$.\n",
        "\n",
        "<details>\n",
        "<summary>Intuition for this equation</summary>\n",
        "\n",
        "One nice intuition comes from the Taylor expansion of $(1 - x)^{-1} = 1 + x + x^2 + \\ldots$. Applying this to our equation, we get:\n",
        "$$\n",
        "\\mathbf{v}^\\pi=\\left(I+\\gamma P^\\pi+\\gamma^2 \\left(P^\\pi\\right)^2+\\gamma^3 \\left(P^\\pi\\right)^3+\\ldots\\right) \\mathbf{r}^\\pi\n",
        "$$\n",
        "which is just an infinite sum of the accumulated reward, discounted by $\\gamma$ at each step (since if $P$ is a transition matrix for 1 step then $P^2$ describes the transition matrix for 2 steps, and so on).\n",
        "\n",
        "</details>"
      ]
    },
    {
      "cell_type": "markdown",
      "metadata": {
        "id": "OXcvvS8ZytjC"
      },
      "source": [
        "### Exercise - implement `policy_eval_exact`\n",
        "\n",
        "> ```yaml\n",
        "> Difficulty: 🔴🔴⚪⚪⚪\n",
        "> Importance: 🔵🔵🔵⚪⚪\n",
        ">\n",
        "> You should spend up to 10-20 minutes on this exercise.\n",
        "> ```\n",
        "\n",
        "The function below should apply the exact policy evaluation formula to solve for $\\mathbf{v}^\\pi$ directly.\n",
        "\n",
        "You can start by defining the same `transition_matrix` and `reward_matrix` as in the previous exercise. You may also find the function `np.linalg.solve` helpful."
      ]
    },
    {
      "cell_type": "code",
      "execution_count": null,
      "metadata": {
        "id": "Wi1RUgN1ytjC"
      },
      "outputs": [],
      "source": [
        "def policy_eval_exact(env: Environment, pi: Arr, gamma=0.99) -> Arr:\n",
        "    \"\"\"\n",
        "    Finds the exact solution to the Bellman equation.\n",
        "    \"\"\"\n",
        "    num_states = env.num_states\n",
        "\n",
        "    raise NotImplementedError()\n",
        "\n",
        "\n",
        "tests.test_policy_eval(policy_eval_exact, exact=True)"
      ]
    },
    {
      "cell_type": "markdown",
      "metadata": {
        "id": "11XwmR0rytjC"
      },
      "source": [
        "<details><summary>Solution</summary>\n",
        "\n",
        "```python\n",
        "def policy_eval_exact(env: Environment, pi: Arr, gamma=0.99) -> Arr:\n",
        "    \"\"\"\n",
        "    Finds the exact solution to the Bellman equation.\n",
        "    \"\"\"\n",
        "    num_states = env.num_states\n",
        "\n",
        "    transition_matrix = env.T[range(num_states), pi, :]  # shape [s, s_next]\n",
        "    reward_matrix = env.R[range(num_states), pi, :]  # shape [s, s_next]\n",
        "\n",
        "    r = einops.einsum(transition_matrix, reward_matrix, \"s s_next, s s_next -> s\")\n",
        "\n",
        "    mat = np.eye(num_states) - gamma * transition_matrix\n",
        "\n",
        "    return np.linalg.solve(mat, r)\n",
        "```\n",
        "</details>"
      ]
    },
    {
      "cell_type": "markdown",
      "metadata": {
        "id": "JV7CuOSGytjC"
      },
      "source": [
        "## Policy Improvement\n",
        "\n",
        "So, we now have a way to compute the value of a policy. What we are really interested in is finding better policies. One way we can do this is to compare how well $\\pi$ performs on a state versus the value obtained by choosing another action instead, that is, the Q-value. If there is an action $a'$ for which $Q_{\\pi}(s,a') > V_\\pi(s) \\equiv Q_\\pi(s, \\pi(s))$, then we would prefer that $\\pi$ take action $a'$ in state $s$ rather than whatever action $\\pi(s)$ currently is. Recall that we could write out our Bellman equation like this:\n",
        "\n",
        "$$\n",
        "Q_\\pi(s,a) = \\sum_{s'} T(s' \\mid s,a) \\left( R(s, a, s') + \\gamma V_\\pi(s') \\right)\n",
        "$$\n",
        "\n",
        "which gives us an update rule for our policy $\\pi$, given that we've evaluated $V_\\pi$ using our closed-form expression from earlier:\n",
        "\n",
        "1. For each possible state $s$ and action $a$, calculate the thing on the right hand side of this expression\n",
        "2. Take argmax over $a$, and this gives us the new action that we should take in state $s$.\n",
        "\n",
        "Or in other words:\n",
        "\n",
        "$$\n",
        "\\pi^\\text{better}(s) = \\text{argmax}_a \\sum_{s'} T(s' \\mid s, a) (R(s,a,s') + \\gamma V_{\\pi}(s'))\n",
        "$$"
      ]
    },
    {
      "cell_type": "markdown",
      "metadata": {
        "id": "Zsx9IanSytjC"
      },
      "source": [
        "### Exercise - implement `policy_improvement`\n",
        "\n",
        "> ```yaml\n",
        "> Difficulty: 🔴🔴🔴⚪⚪\n",
        "> Importance: 🔵🔵🔵🔵⚪\n",
        ">\n",
        "> You should spend up to 10-25 minutes on this exercise.\n",
        "> ```\n",
        "\n",
        "The `policy_improvement` function takes in a value function $V$, and transition and reward matrices $T$ and $R$, and returns a new policy $\\pi^\\text{better}$.\n",
        "\n",
        "Recall, we've defined our objects as `env.T[s, a, s']` $= T(s' \\,|\\, a, s)$, and `env.R[s, a, s']` $= R(s, a, s')$."
      ]
    },
    {
      "cell_type": "code",
      "execution_count": null,
      "metadata": {
        "id": "6gfhj2xeytjC"
      },
      "outputs": [],
      "source": [
        "def policy_improvement(env: Environment, V: Arr, gamma=0.99) -> Arr:\n",
        "    \"\"\"\n",
        "    Args:\n",
        "        env: Environment\n",
        "        V  : (num_states,) value of each state following some policy pi\n",
        "    Outputs:\n",
        "        pi_better : vector (num_states,) of actions representing a new policy obtained via policy iteration\n",
        "    \"\"\"\n",
        "    raise NotImplementedError()\n",
        "\n",
        "\n",
        "tests.test_policy_improvement(policy_improvement)"
      ]
    },
    {
      "cell_type": "markdown",
      "metadata": {
        "id": "AaQ35rBIytjC"
      },
      "source": [
        "<details>\n",
        "<summary>Solution</summary>\n",
        "\n",
        "```python\n",
        "def policy_improvement(env: Environment, V: Arr, gamma=0.99) -> Arr:\n",
        "    \"\"\"\n",
        "    Args:\n",
        "        env: Environment\n",
        "        V  : (num_states,) value of each state following some policy pi\n",
        "    Outputs:\n",
        "        pi_better : vector (num_states,) of actions representing a new policy obtained via policy iteration\n",
        "    \"\"\"\n",
        "    q_values_for_every_state_action_pair = einops.einsum(env.T, env.R + gamma * V, \"s a s_next, s a s_next -> s a\")\n",
        "    pi_better = q_values_for_every_state_action_pair.argmax(axis=1)\n",
        "    return pi_better\n",
        "```\n",
        "\n",
        "Note, the reason our solution works is that computing `env.R + gamma & V` correctly broadcasts `V`: it has dimensions `(s_next,)`, and `env.R` has dimensions `(s, a, s_next)`.\n",
        "\n",
        "</details>"
      ]
    },
    {
      "cell_type": "markdown",
      "metadata": {
        "id": "gJxrwVpRytjC"
      },
      "source": [
        "Putting these together, we now have an algorithm to find the optimal policy for an environment.\n",
        "\n",
        "$$\n",
        "\\pi_0 \\overset{E}{\\to} V_{\\pi_0}\n",
        "\\overset{I}{\\to} \\pi_1 \\overset{E}{\\to} V_{\\pi_1}\n",
        "\\overset{I}{\\to} \\pi_2 \\overset{E}{\\to} V_{\\pi_2} \\overset{I}{\\to}  \\ldots\n",
        "$$\n",
        "\n",
        "We alternate policy evaluation ($\\overset{E}{\\to}$) and policy improvement ($\\overset{I}{\\to}$), with each $I$ step being a monotonic improvement, until the policy no longer changes ($\\pi_n = \\pi_{n+1}$), at which point we have an optimal policy, as our current policy will satisfy the optimal Bellman equations:\n",
        "\n",
        "$$\n",
        "V_{\\pi^*} = \\text{argmax}_a \\sum_{s'} T(s' \\mid s,a) (R(s,a,s') + \\gamma V_{\\pi^*}(s'))\n",
        "$$"
      ]
    },
    {
      "cell_type": "markdown",
      "metadata": {
        "id": "mqOxB_J9ytjC"
      },
      "source": [
        "### Exercise - implement `find_optimal_policy`\n",
        "\n",
        "> ```yaml\n",
        "> Difficulty: 🔴🔴🔴⚪⚪\n",
        "> Importance: 🔵🔵🔵🔵⚪\n",
        ">\n",
        "> You should spend up to 15-30 minutes on this exercise.\n",
        "> ```\n",
        "\n",
        "Implement the `find_optimal_policy` function below. This should iteratively do the following:\n",
        "\n",
        "* find the correct value function $V_{\\pi}$ for your given policy $\\pi$ using your `policy_eval_exact` function,\n",
        "* update your policy using `policy_improvement`,\n",
        "\n",
        "where we start from any arbitrary value of $\\pi_0$ (we've picked all zeros).\n",
        "\n",
        "A few things to note:\n",
        "\n",
        "* Don't forget that policies should be of `dtype=int`, rather than floats! $\\pi$ in this case represents **the deterministic action you take in each state**.\n",
        "* Since the optimal policy is not unique, the automated tests will merely check that your optimal policy has the same value function as the optimal policy found by the solution."
      ]
    },
    {
      "cell_type": "code",
      "execution_count": null,
      "metadata": {
        "id": "jyj322yKytjC"
      },
      "outputs": [],
      "source": [
        "def find_optimal_policy(env: Environment, gamma=0.99, max_iterations=10_000):\n",
        "    \"\"\"\n",
        "    Args:\n",
        "        env: environment\n",
        "    Outputs:\n",
        "        pi : (num_states,) int, of actions represeting an optimal policy\n",
        "    \"\"\"\n",
        "    pi = np.zeros(shape=env.num_states, dtype=int)\n",
        "\n",
        "    raise NotImplementedError()\n",
        "\n",
        "\n",
        "tests.test_find_optimal_policy(find_optimal_policy)\n",
        "\n",
        "penalty = -1\n",
        "norvig = Norvig(penalty)\n",
        "pi_opt = find_optimal_policy(norvig, gamma=0.99)\n",
        "norvig.render(pi_opt)"
      ]
    },
    {
      "cell_type": "markdown",
      "metadata": {
        "id": "ZHkM5nEzytjC"
      },
      "source": [
        "<details><summary>Solution</summary>\n",
        "\n",
        "```python\n",
        "def find_optimal_policy(env: Environment, gamma=0.99, max_iterations=10_000):\n",
        "    \"\"\"\n",
        "    Args:\n",
        "        env: environment\n",
        "    Outputs:\n",
        "        pi : (num_states,) int, of actions represeting an optimal policy\n",
        "    \"\"\"\n",
        "    pi = np.zeros(shape=env.num_states, dtype=int)\n",
        "\n",
        "    for i in range(max_iterations):\n",
        "        V = policy_eval_exact(env, pi, gamma)\n",
        "        pi_new = policy_improvement(env, V, gamma)\n",
        "        if np.array_equal(pi_new, pi):\n",
        "            return pi_new\n",
        "        else:\n",
        "            pi = pi_new\n",
        "    else:\n",
        "        print(f\"Failed to converge after {max_iterations} steps.\")\n",
        "        return pi\n",
        "```\n",
        "</details>"
      ]
    },
    {
      "cell_type": "markdown",
      "metadata": {
        "id": "vu5B5OSVytjD"
      },
      "source": [
        "Once you've passed the tests, you should play around with the `penalty` value for the gridworld environment and see how this affects the optimal policy found. Which squares change their optimal strategy when the penalty takes different negative values (e.g. -0.04, -0.1, or even -1). To see why this happens, refer back to the dropdown earlier, in the section \"Tabular RL, Known Environments\". Can you see why the different rewards lead to the behaviours that they do?"
      ]
    },
    {
      "cell_type": "markdown",
      "metadata": {
        "id": "7NrfqQ0rytjD"
      },
      "source": [
        "## Bonus\n",
        "\n",
        "- Implement and test your policy evaluation method on other environments.\n",
        "- Complete some exercises in Chapters 3 and 4 of Sutton and Barto.\n",
        "- Modify the tabular RL solvers to allow stochastic policies or to allow $\\gamma=1$ on episodic environments (may need to change how environments are defined.)"
      ]
    }
  ],
  "metadata": {
    "language_info": {
      "name": "python"
    },
    "colab": {
      "provenance": [],
      "include_colab_link": true
    },
    "kernelspec": {
      "name": "python3",
      "display_name": "Python 3"
    }
  },
  "nbformat": 4,
  "nbformat_minor": 0
}